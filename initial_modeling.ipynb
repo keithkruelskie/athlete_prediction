{
 "cells": [
  {
   "cell_type": "code",
   "execution_count": 1,
   "metadata": {},
   "outputs": [],
   "source": [
    "#Modeling - Initial time based modeling\n",
    "#Goal of this notebook is to read in a training file, select out a sport from the activities,\n",
    "#Plot it and predict on what the performance at a later date will be."
   ]
  },
  {
   "cell_type": "code",
   "execution_count": 15,
   "metadata": {},
   "outputs": [],
   "source": [
    "import pandas as pd\n",
    "import numpy as np\n",
    "import matplotlib.pyplot as plt\n",
    "from datetime import date"
   ]
  },
  {
   "cell_type": "code",
   "execution_count": 152,
   "metadata": {},
   "outputs": [],
   "source": [
    "#Let's read in a single csv first:\n",
    "race_df = pd.read_csv('./data/races/athlete_3/athlete_3_race_4_3_mo_Running_extra_cols.csv', index_col='date')"
   ]
  },
  {
   "cell_type": "code",
   "execution_count": 153,
   "metadata": {},
   "outputs": [
    {
     "data": {
      "text/html": [
       "<div>\n",
       "<style scoped>\n",
       "    .dataframe tbody tr th:only-of-type {\n",
       "        vertical-align: middle;\n",
       "    }\n",
       "\n",
       "    .dataframe tbody tr th {\n",
       "        vertical-align: top;\n",
       "    }\n",
       "\n",
       "    .dataframe thead th {\n",
       "        text-align: right;\n",
       "    }\n",
       "</style>\n",
       "<table border=\"1\" class=\"dataframe\">\n",
       "  <thead>\n",
       "    <tr style=\"text-align: right;\">\n",
       "      <th></th>\n",
       "      <th>Unnamed: 0</th>\n",
       "      <th>index</th>\n",
       "      <th>activity_type</th>\n",
       "      <th>favorite</th>\n",
       "      <th>title</th>\n",
       "      <th>distance</th>\n",
       "      <th>calories</th>\n",
       "      <th>time</th>\n",
       "      <th>avg_hr</th>\n",
       "      <th>max_hr</th>\n",
       "      <th>...</th>\n",
       "      <th>max_resp</th>\n",
       "      <th>athlete_id</th>\n",
       "      <th>filetype</th>\n",
       "      <th>is_race</th>\n",
       "      <th>ft_per_mile</th>\n",
       "      <th>intensity</th>\n",
       "      <th>spd_ft_s</th>\n",
       "      <th>spd_mph</th>\n",
       "      <th>GAP_ft_s</th>\n",
       "      <th>GAP_by_intensity</th>\n",
       "    </tr>\n",
       "    <tr>\n",
       "      <th>date</th>\n",
       "      <th></th>\n",
       "      <th></th>\n",
       "      <th></th>\n",
       "      <th></th>\n",
       "      <th></th>\n",
       "      <th></th>\n",
       "      <th></th>\n",
       "      <th></th>\n",
       "      <th></th>\n",
       "      <th></th>\n",
       "      <th></th>\n",
       "      <th></th>\n",
       "      <th></th>\n",
       "      <th></th>\n",
       "      <th></th>\n",
       "      <th></th>\n",
       "      <th></th>\n",
       "      <th></th>\n",
       "      <th></th>\n",
       "      <th></th>\n",
       "      <th></th>\n",
       "    </tr>\n",
       "  </thead>\n",
       "  <tbody>\n",
       "    <tr>\n",
       "      <th>2019-04-25</th>\n",
       "      <td>0</td>\n",
       "      <td>0</td>\n",
       "      <td>Running</td>\n",
       "      <td>False</td>\n",
       "      <td>Fresno Running</td>\n",
       "      <td>4.40</td>\n",
       "      <td>496</td>\n",
       "      <td>00:35:02</td>\n",
       "      <td>138</td>\n",
       "      <td>155</td>\n",
       "      <td>...</td>\n",
       "      <td>0</td>\n",
       "      <td>3</td>\n",
       "      <td>garmin</td>\n",
       "      <td>0</td>\n",
       "      <td>8.181818</td>\n",
       "      <td>0.745946</td>\n",
       "      <td>11.069182</td>\n",
       "      <td>7.547170</td>\n",
       "      <td>11.069196</td>\n",
       "      <td>14.839139</td>\n",
       "    </tr>\n",
       "    <tr>\n",
       "      <th>2019-04-27</th>\n",
       "      <td>1</td>\n",
       "      <td>4</td>\n",
       "      <td>Running</td>\n",
       "      <td>False</td>\n",
       "      <td>Boulder Running</td>\n",
       "      <td>2.59</td>\n",
       "      <td>320</td>\n",
       "      <td>00:20:02</td>\n",
       "      <td>147</td>\n",
       "      <td>165</td>\n",
       "      <td>...</td>\n",
       "      <td>0</td>\n",
       "      <td>3</td>\n",
       "      <td>garmin</td>\n",
       "      <td>0</td>\n",
       "      <td>41.698842</td>\n",
       "      <td>0.794595</td>\n",
       "      <td>11.379310</td>\n",
       "      <td>7.758621</td>\n",
       "      <td>11.379665</td>\n",
       "      <td>14.321347</td>\n",
       "    </tr>\n",
       "    <tr>\n",
       "      <th>2019-04-28</th>\n",
       "      <td>2</td>\n",
       "      <td>5</td>\n",
       "      <td>Running</td>\n",
       "      <td>False</td>\n",
       "      <td>Denver Running</td>\n",
       "      <td>12.64</td>\n",
       "      <td>1,453</td>\n",
       "      <td>01:38:16</td>\n",
       "      <td>149</td>\n",
       "      <td>171</td>\n",
       "      <td>...</td>\n",
       "      <td>0</td>\n",
       "      <td>3</td>\n",
       "      <td>garmin</td>\n",
       "      <td>0</td>\n",
       "      <td>45.965190</td>\n",
       "      <td>0.805405</td>\n",
       "      <td>11.306210</td>\n",
       "      <td>7.708779</td>\n",
       "      <td>11.306638</td>\n",
       "      <td>14.038443</td>\n",
       "    </tr>\n",
       "    <tr>\n",
       "      <th>2019-04-30</th>\n",
       "      <td>3</td>\n",
       "      <td>11</td>\n",
       "      <td>Running</td>\n",
       "      <td>False</td>\n",
       "      <td>Denver Running</td>\n",
       "      <td>6.53</td>\n",
       "      <td>736</td>\n",
       "      <td>00:50:03</td>\n",
       "      <td>142</td>\n",
       "      <td>154</td>\n",
       "      <td>...</td>\n",
       "      <td>0</td>\n",
       "      <td>3</td>\n",
       "      <td>garmin</td>\n",
       "      <td>0</td>\n",
       "      <td>18.070444</td>\n",
       "      <td>0.767568</td>\n",
       "      <td>11.478261</td>\n",
       "      <td>7.826087</td>\n",
       "      <td>11.478328</td>\n",
       "      <td>14.954160</td>\n",
       "    </tr>\n",
       "    <tr>\n",
       "      <th>2019-05-02</th>\n",
       "      <td>4</td>\n",
       "      <td>15</td>\n",
       "      <td>Running</td>\n",
       "      <td>False</td>\n",
       "      <td>Denver Running</td>\n",
       "      <td>6.17</td>\n",
       "      <td>644</td>\n",
       "      <td>00:50:18</td>\n",
       "      <td>136</td>\n",
       "      <td>159</td>\n",
       "      <td>...</td>\n",
       "      <td>0</td>\n",
       "      <td>3</td>\n",
       "      <td>garmin</td>\n",
       "      <td>0</td>\n",
       "      <td>47.811994</td>\n",
       "      <td>0.735135</td>\n",
       "      <td>10.797546</td>\n",
       "      <td>7.361963</td>\n",
       "      <td>10.797989</td>\n",
       "      <td>14.688441</td>\n",
       "    </tr>\n",
       "  </tbody>\n",
       "</table>\n",
       "<p>5 rows × 57 columns</p>\n",
       "</div>"
      ],
      "text/plain": [
       "            Unnamed: 0  index activity_type  favorite            title  \\\n",
       "date                                                                     \n",
       "2019-04-25           0      0       Running     False   Fresno Running   \n",
       "2019-04-27           1      4       Running     False  Boulder Running   \n",
       "2019-04-28           2      5       Running     False   Denver Running   \n",
       "2019-04-30           3     11       Running     False   Denver Running   \n",
       "2019-05-02           4     15       Running     False   Denver Running   \n",
       "\n",
       "            distance calories      time  avg_hr  max_hr  ...  max_resp  \\\n",
       "date                                                     ...             \n",
       "2019-04-25      4.40      496  00:35:02     138     155  ...         0   \n",
       "2019-04-27      2.59      320  00:20:02     147     165  ...         0   \n",
       "2019-04-28     12.64    1,453  01:38:16     149     171  ...         0   \n",
       "2019-04-30      6.53      736  00:50:03     142     154  ...         0   \n",
       "2019-05-02      6.17      644  00:50:18     136     159  ...         0   \n",
       "\n",
       "            athlete_id  filetype is_race ft_per_mile  intensity   spd_ft_s  \\\n",
       "date                                                                         \n",
       "2019-04-25           3    garmin       0    8.181818   0.745946  11.069182   \n",
       "2019-04-27           3    garmin       0   41.698842   0.794595  11.379310   \n",
       "2019-04-28           3    garmin       0   45.965190   0.805405  11.306210   \n",
       "2019-04-30           3    garmin       0   18.070444   0.767568  11.478261   \n",
       "2019-05-02           3    garmin       0   47.811994   0.735135  10.797546   \n",
       "\n",
       "             spd_mph   GAP_ft_s  GAP_by_intensity  \n",
       "date                                               \n",
       "2019-04-25  7.547170  11.069196         14.839139  \n",
       "2019-04-27  7.758621  11.379665         14.321347  \n",
       "2019-04-28  7.708779  11.306638         14.038443  \n",
       "2019-04-30  7.826087  11.478328         14.954160  \n",
       "2019-05-02  7.361963  10.797989         14.688441  \n",
       "\n",
       "[5 rows x 57 columns]"
      ]
     },
     "execution_count": 153,
     "metadata": {},
     "output_type": "execute_result"
    }
   ],
   "source": [
    "race_df.head()"
   ]
  },
  {
   "cell_type": "code",
   "execution_count": 154,
   "metadata": {},
   "outputs": [
    {
     "data": {
      "text/html": [
       "<div>\n",
       "<style scoped>\n",
       "    .dataframe tbody tr th:only-of-type {\n",
       "        vertical-align: middle;\n",
       "    }\n",
       "\n",
       "    .dataframe tbody tr th {\n",
       "        vertical-align: top;\n",
       "    }\n",
       "\n",
       "    .dataframe thead th {\n",
       "        text-align: right;\n",
       "    }\n",
       "</style>\n",
       "<table border=\"1\" class=\"dataframe\">\n",
       "  <thead>\n",
       "    <tr style=\"text-align: right;\">\n",
       "      <th></th>\n",
       "      <th>Unnamed: 0</th>\n",
       "      <th>index</th>\n",
       "      <th>activity_type</th>\n",
       "      <th>favorite</th>\n",
       "      <th>title</th>\n",
       "      <th>distance</th>\n",
       "      <th>calories</th>\n",
       "      <th>time</th>\n",
       "      <th>avg_hr</th>\n",
       "      <th>max_hr</th>\n",
       "      <th>...</th>\n",
       "      <th>max_resp</th>\n",
       "      <th>athlete_id</th>\n",
       "      <th>filetype</th>\n",
       "      <th>is_race</th>\n",
       "      <th>ft_per_mile</th>\n",
       "      <th>intensity</th>\n",
       "      <th>spd_ft_s</th>\n",
       "      <th>spd_mph</th>\n",
       "      <th>GAP_ft_s</th>\n",
       "      <th>GAP_by_intensity</th>\n",
       "    </tr>\n",
       "    <tr>\n",
       "      <th>date</th>\n",
       "      <th></th>\n",
       "      <th></th>\n",
       "      <th></th>\n",
       "      <th></th>\n",
       "      <th></th>\n",
       "      <th></th>\n",
       "      <th></th>\n",
       "      <th></th>\n",
       "      <th></th>\n",
       "      <th></th>\n",
       "      <th></th>\n",
       "      <th></th>\n",
       "      <th></th>\n",
       "      <th></th>\n",
       "      <th></th>\n",
       "      <th></th>\n",
       "      <th></th>\n",
       "      <th></th>\n",
       "      <th></th>\n",
       "      <th></th>\n",
       "      <th></th>\n",
       "    </tr>\n",
       "  </thead>\n",
       "  <tbody>\n",
       "  </tbody>\n",
       "</table>\n",
       "<p>0 rows × 57 columns</p>\n",
       "</div>"
      ],
      "text/plain": [
       "Empty DataFrame\n",
       "Columns: [Unnamed: 0, index, activity_type, favorite, title, distance, calories, time, avg_hr, max_hr, aerobic_te, avg_run_cadence, max_run_cadence, avg_pace, best_pace, elev_gain, elev_loss, avg_stride_length, avg_vertical_ratio, avg_vertical_oscillation, avg_ground_contact_time, avg_gct_balance, avg_run_cadence_1, max_run_cadence_1, normalized_powerâ_npâ, lr_balance, training_stress_scoreâ, max_avg_power_20_min, avg_power, max_power, grit, flow, total_strokes, avg__swolf, avg_stroke_rate, total_reps, total_sets, climb_time, bottom_time, min_temp, surface_interval, decompression, best_lap_time, number_of_laps, max_temp, avg_resp, min_resp, max_resp, athlete_id, filetype, is_race, ft_per_mile, intensity, spd_ft_s, spd_mph, GAP_ft_s, GAP_by_intensity]\n",
       "Index: []\n",
       "\n",
       "[0 rows x 57 columns]"
      ]
     },
     "execution_count": 154,
     "metadata": {},
     "output_type": "execute_result"
    }
   ],
   "source": [
    "race_df[race_df['is_race'] == 1]"
   ]
  },
  {
   "cell_type": "code",
   "execution_count": 19,
   "metadata": {},
   "outputs": [],
   "source": [
    "#Great, I have a 3 month train set. Race is a half marathon at 1:27:20 time."
   ]
  },
  {
   "cell_type": "code",
   "execution_count": 155,
   "metadata": {},
   "outputs": [
    {
     "ename": "AttributeError",
     "evalue": "Can only use .str accessor with string values!",
     "output_type": "error",
     "traceback": [
      "\u001b[0;31m---------------------------------------------------------------------------\u001b[0m",
      "\u001b[0;31mAttributeError\u001b[0m                            Traceback (most recent call last)",
      "\u001b[0;32m<ipython-input-155-f4c70010b2d1>\u001b[0m in \u001b[0;36m<module>\u001b[0;34m\u001b[0m\n\u001b[0;32m----> 1\u001b[0;31m \u001b[0mrace_df\u001b[0m\u001b[0;34m[\u001b[0m\u001b[0;34m'elev_gain'\u001b[0m\u001b[0;34m]\u001b[0m \u001b[0;34m=\u001b[0m \u001b[0mrace_df\u001b[0m\u001b[0;34m[\u001b[0m\u001b[0;34m'elev_gain'\u001b[0m\u001b[0;34m]\u001b[0m\u001b[0;34m.\u001b[0m\u001b[0mstr\u001b[0m\u001b[0;34m.\u001b[0m\u001b[0mreplace\u001b[0m\u001b[0;34m(\u001b[0m\u001b[0;34m','\u001b[0m\u001b[0;34m,\u001b[0m \u001b[0;34m''\u001b[0m\u001b[0;34m)\u001b[0m\u001b[0;34m.\u001b[0m\u001b[0mastype\u001b[0m\u001b[0;34m(\u001b[0m\u001b[0mfloat\u001b[0m\u001b[0;34m)\u001b[0m\u001b[0;34m\u001b[0m\u001b[0;34m\u001b[0m\u001b[0m\n\u001b[0m",
      "\u001b[0;32m~/miniconda3/lib/python3.8/site-packages/pandas/core/generic.py\u001b[0m in \u001b[0;36m__getattr__\u001b[0;34m(self, name)\u001b[0m\n\u001b[1;32m   5454\u001b[0m             \u001b[0;32mor\u001b[0m \u001b[0mname\u001b[0m \u001b[0;32min\u001b[0m \u001b[0mself\u001b[0m\u001b[0;34m.\u001b[0m\u001b[0m_accessors\u001b[0m\u001b[0;34m\u001b[0m\u001b[0;34m\u001b[0m\u001b[0m\n\u001b[1;32m   5455\u001b[0m         ):\n\u001b[0;32m-> 5456\u001b[0;31m             \u001b[0;32mreturn\u001b[0m \u001b[0mobject\u001b[0m\u001b[0;34m.\u001b[0m\u001b[0m__getattribute__\u001b[0m\u001b[0;34m(\u001b[0m\u001b[0mself\u001b[0m\u001b[0;34m,\u001b[0m \u001b[0mname\u001b[0m\u001b[0;34m)\u001b[0m\u001b[0;34m\u001b[0m\u001b[0;34m\u001b[0m\u001b[0m\n\u001b[0m\u001b[1;32m   5457\u001b[0m         \u001b[0;32melse\u001b[0m\u001b[0;34m:\u001b[0m\u001b[0;34m\u001b[0m\u001b[0;34m\u001b[0m\u001b[0m\n\u001b[1;32m   5458\u001b[0m             \u001b[0;32mif\u001b[0m \u001b[0mself\u001b[0m\u001b[0;34m.\u001b[0m\u001b[0m_info_axis\u001b[0m\u001b[0;34m.\u001b[0m\u001b[0m_can_hold_identifiers_and_holds_name\u001b[0m\u001b[0;34m(\u001b[0m\u001b[0mname\u001b[0m\u001b[0;34m)\u001b[0m\u001b[0;34m:\u001b[0m\u001b[0;34m\u001b[0m\u001b[0;34m\u001b[0m\u001b[0m\n",
      "\u001b[0;32m~/miniconda3/lib/python3.8/site-packages/pandas/core/accessor.py\u001b[0m in \u001b[0;36m__get__\u001b[0;34m(self, obj, cls)\u001b[0m\n\u001b[1;32m    178\u001b[0m             \u001b[0;31m# we're accessing the attribute of the class, i.e., Dataset.geo\u001b[0m\u001b[0;34m\u001b[0m\u001b[0;34m\u001b[0m\u001b[0;34m\u001b[0m\u001b[0m\n\u001b[1;32m    179\u001b[0m             \u001b[0;32mreturn\u001b[0m \u001b[0mself\u001b[0m\u001b[0;34m.\u001b[0m\u001b[0m_accessor\u001b[0m\u001b[0;34m\u001b[0m\u001b[0;34m\u001b[0m\u001b[0m\n\u001b[0;32m--> 180\u001b[0;31m         \u001b[0maccessor_obj\u001b[0m \u001b[0;34m=\u001b[0m \u001b[0mself\u001b[0m\u001b[0;34m.\u001b[0m\u001b[0m_accessor\u001b[0m\u001b[0;34m(\u001b[0m\u001b[0mobj\u001b[0m\u001b[0;34m)\u001b[0m\u001b[0;34m\u001b[0m\u001b[0;34m\u001b[0m\u001b[0m\n\u001b[0m\u001b[1;32m    181\u001b[0m         \u001b[0;31m# Replace the property with the accessor object. Inspired by:\u001b[0m\u001b[0;34m\u001b[0m\u001b[0;34m\u001b[0m\u001b[0;34m\u001b[0m\u001b[0m\n\u001b[1;32m    182\u001b[0m         \u001b[0;31m# https://www.pydanny.com/cached-property.html\u001b[0m\u001b[0;34m\u001b[0m\u001b[0;34m\u001b[0m\u001b[0;34m\u001b[0m\u001b[0m\n",
      "\u001b[0;32m~/miniconda3/lib/python3.8/site-packages/pandas/core/strings/accessor.py\u001b[0m in \u001b[0;36m__init__\u001b[0;34m(self, data)\u001b[0m\n\u001b[1;32m    152\u001b[0m         \u001b[0;32mfrom\u001b[0m \u001b[0mpandas\u001b[0m\u001b[0;34m.\u001b[0m\u001b[0mcore\u001b[0m\u001b[0;34m.\u001b[0m\u001b[0marrays\u001b[0m\u001b[0;34m.\u001b[0m\u001b[0mstring_\u001b[0m \u001b[0;32mimport\u001b[0m \u001b[0mStringDtype\u001b[0m\u001b[0;34m\u001b[0m\u001b[0;34m\u001b[0m\u001b[0m\n\u001b[1;32m    153\u001b[0m \u001b[0;34m\u001b[0m\u001b[0m\n\u001b[0;32m--> 154\u001b[0;31m         \u001b[0mself\u001b[0m\u001b[0;34m.\u001b[0m\u001b[0m_inferred_dtype\u001b[0m \u001b[0;34m=\u001b[0m \u001b[0mself\u001b[0m\u001b[0;34m.\u001b[0m\u001b[0m_validate\u001b[0m\u001b[0;34m(\u001b[0m\u001b[0mdata\u001b[0m\u001b[0;34m)\u001b[0m\u001b[0;34m\u001b[0m\u001b[0;34m\u001b[0m\u001b[0m\n\u001b[0m\u001b[1;32m    155\u001b[0m         \u001b[0mself\u001b[0m\u001b[0;34m.\u001b[0m\u001b[0m_is_categorical\u001b[0m \u001b[0;34m=\u001b[0m \u001b[0mis_categorical_dtype\u001b[0m\u001b[0;34m(\u001b[0m\u001b[0mdata\u001b[0m\u001b[0;34m.\u001b[0m\u001b[0mdtype\u001b[0m\u001b[0;34m)\u001b[0m\u001b[0;34m\u001b[0m\u001b[0;34m\u001b[0m\u001b[0m\n\u001b[1;32m    156\u001b[0m         \u001b[0mself\u001b[0m\u001b[0;34m.\u001b[0m\u001b[0m_is_string\u001b[0m \u001b[0;34m=\u001b[0m \u001b[0misinstance\u001b[0m\u001b[0;34m(\u001b[0m\u001b[0mdata\u001b[0m\u001b[0;34m.\u001b[0m\u001b[0mdtype\u001b[0m\u001b[0;34m,\u001b[0m \u001b[0mStringDtype\u001b[0m\u001b[0;34m)\u001b[0m\u001b[0;34m\u001b[0m\u001b[0;34m\u001b[0m\u001b[0m\n",
      "\u001b[0;32m~/miniconda3/lib/python3.8/site-packages/pandas/core/strings/accessor.py\u001b[0m in \u001b[0;36m_validate\u001b[0;34m(data)\u001b[0m\n\u001b[1;32m    216\u001b[0m \u001b[0;34m\u001b[0m\u001b[0m\n\u001b[1;32m    217\u001b[0m         \u001b[0;32mif\u001b[0m \u001b[0minferred_dtype\u001b[0m \u001b[0;32mnot\u001b[0m \u001b[0;32min\u001b[0m \u001b[0mallowed_types\u001b[0m\u001b[0;34m:\u001b[0m\u001b[0;34m\u001b[0m\u001b[0;34m\u001b[0m\u001b[0m\n\u001b[0;32m--> 218\u001b[0;31m             \u001b[0;32mraise\u001b[0m \u001b[0mAttributeError\u001b[0m\u001b[0;34m(\u001b[0m\u001b[0;34m\"Can only use .str accessor with string values!\"\u001b[0m\u001b[0;34m)\u001b[0m\u001b[0;34m\u001b[0m\u001b[0;34m\u001b[0m\u001b[0m\n\u001b[0m\u001b[1;32m    219\u001b[0m         \u001b[0;32mreturn\u001b[0m \u001b[0minferred_dtype\u001b[0m\u001b[0;34m\u001b[0m\u001b[0;34m\u001b[0m\u001b[0m\n\u001b[1;32m    220\u001b[0m \u001b[0;34m\u001b[0m\u001b[0m\n",
      "\u001b[0;31mAttributeError\u001b[0m: Can only use .str accessor with string values!"
     ]
    }
   ],
   "source": [
    "race_df['elev_gain'] = race_df['elev_gain'].str.replace(',', '').astype(float)\n"
   ]
  },
  {
   "cell_type": "code",
   "execution_count": 157,
   "metadata": {},
   "outputs": [],
   "source": [
    "race_df['elev_loss'] = race_df['elev_loss'].str.replace(',', '').astype(float)\n"
   ]
  },
  {
   "cell_type": "code",
   "execution_count": 158,
   "metadata": {},
   "outputs": [],
   "source": [
    "race_df['calories'] = race_df['calories'].str.replace(',', '').astype(float)"
   ]
  },
  {
   "cell_type": "code",
   "execution_count": 159,
   "metadata": {},
   "outputs": [
    {
     "name": "stdout",
     "output_type": "stream",
     "text": [
      "<class 'pandas.core.frame.DataFrame'>\n",
      "Index: 51 entries, 2019-04-25 to 2019-07-25\n",
      "Data columns (total 57 columns):\n",
      " #   Column                    Non-Null Count  Dtype  \n",
      "---  ------                    --------------  -----  \n",
      " 0   Unnamed: 0                51 non-null     int64  \n",
      " 1   index                     51 non-null     int64  \n",
      " 2   activity_type             51 non-null     object \n",
      " 3   favorite                  51 non-null     bool   \n",
      " 4   title                     51 non-null     object \n",
      " 5   distance                  51 non-null     float64\n",
      " 6   calories                  51 non-null     float64\n",
      " 7   time                      51 non-null     object \n",
      " 8   avg_hr                    51 non-null     int64  \n",
      " 9   max_hr                    51 non-null     int64  \n",
      " 10  aerobic_te                51 non-null     float64\n",
      " 11  avg_run_cadence           51 non-null     int64  \n",
      " 12  max_run_cadence           51 non-null     int64  \n",
      " 13  avg_pace                  51 non-null     object \n",
      " 14  best_pace                 51 non-null     object \n",
      " 15  elev_gain                 51 non-null     int64  \n",
      " 16  elev_loss                 51 non-null     float64\n",
      " 17  avg_stride_length         51 non-null     float64\n",
      " 18  avg_vertical_ratio        51 non-null     float64\n",
      " 19  avg_vertical_oscillation  51 non-null     float64\n",
      " 20  avg_ground_contact_time   51 non-null     int64  \n",
      " 21  avg_gct_balance           51 non-null     object \n",
      " 22  avg_run_cadence_1         51 non-null     int64  \n",
      " 23  max_run_cadence_1         51 non-null     int64  \n",
      " 24  normalized_powerâ_npâ     51 non-null     int64  \n",
      " 25  lr_balance                51 non-null     int64  \n",
      " 26  training_stress_scoreâ    51 non-null     float64\n",
      " 27  max_avg_power_20_min      51 non-null     int64  \n",
      " 28  avg_power                 51 non-null     int64  \n",
      " 29  max_power                 51 non-null     int64  \n",
      " 30  grit                      51 non-null     float64\n",
      " 31  flow                      51 non-null     float64\n",
      " 32  total_strokes             51 non-null     int64  \n",
      " 33  avg__swolf                51 non-null     int64  \n",
      " 34  avg_stroke_rate           51 non-null     int64  \n",
      " 35  total_reps                51 non-null     int64  \n",
      " 36  total_sets                51 non-null     int64  \n",
      " 37  climb_time                51 non-null     object \n",
      " 38  bottom_time               51 non-null     object \n",
      " 39  min_temp                  51 non-null     float64\n",
      " 40  surface_interval          51 non-null     object \n",
      " 41  decompression             51 non-null     object \n",
      " 42  best_lap_time             51 non-null     object \n",
      " 43  number_of_laps            51 non-null     int64  \n",
      " 44  max_temp                  51 non-null     float64\n",
      " 45  avg_resp                  51 non-null     int64  \n",
      " 46  min_resp                  51 non-null     int64  \n",
      " 47  max_resp                  51 non-null     int64  \n",
      " 48  athlete_id                51 non-null     int64  \n",
      " 49  filetype                  51 non-null     object \n",
      " 50  is_race                   51 non-null     int64  \n",
      " 51  ft_per_mile               51 non-null     float64\n",
      " 52  intensity                 51 non-null     float64\n",
      " 53  spd_ft_s                  51 non-null     float64\n",
      " 54  spd_mph                   51 non-null     float64\n",
      " 55  GAP_ft_s                  51 non-null     float64\n",
      " 56  GAP_by_intensity          51 non-null     float64\n",
      "dtypes: bool(1), float64(18), int64(26), object(12)\n",
      "memory usage: 23.8+ KB\n"
     ]
    }
   ],
   "source": [
    "race_df.info()"
   ]
  },
  {
   "cell_type": "code",
   "execution_count": 20,
   "metadata": {},
   "outputs": [],
   "source": [
    "import pmdarima as pmd"
   ]
  },
  {
   "cell_type": "code",
   "execution_count": 21,
   "metadata": {},
   "outputs": [],
   "source": [
    "from pmdarima.utils import tsdisplay"
   ]
  },
  {
   "cell_type": "code",
   "execution_count": 160,
   "metadata": {},
   "outputs": [
    {
     "name": "stderr",
     "output_type": "stream",
     "text": [
      "/Users/Keith/miniconda3/lib/python3.8/site-packages/pmdarima/utils/visualization.py:219: FutureWarning: the 'unbiased'' keyword is deprecated, use 'adjusted' instead\n",
      "  res = tsaplots.plot_acf(\n"
     ]
    },
    {
     "data": {
      "image/png": "[encoded data removed]",
      "text/plain": [
       "<Figure size 576x432 with 3 Axes>"
      ]
     },
     "metadata": {
      "needs_background": "light"
     },
     "output_type": "display_data"
    }
   ],
   "source": [
    "tsdisplay(race_df['spd_mph'], lag_max=12)"
   ]
  },
  {
   "cell_type": "code",
   "execution_count": 161,
   "metadata": {},
   "outputs": [
    {
     "name": "stderr",
     "output_type": "stream",
     "text": [
      "/Users/Keith/miniconda3/lib/python3.8/site-packages/pmdarima/utils/visualization.py:219: FutureWarning: the 'unbiased'' keyword is deprecated, use 'adjusted' instead\n",
      "  res = tsaplots.plot_acf(\n"
     ]
    },
    {
     "data": {
      "image/png": "[encoded data removed]",
      "text/plain": [
       "<Figure size 576x432 with 3 Axes>"
      ]
     },
     "metadata": {
      "needs_background": "light"
     },
     "output_type": "display_data"
    }
   ],
   "source": [
    "tsdisplay(race_df['GAP_ft_s'], lag_max=12)"
   ]
  },
  {
   "cell_type": "code",
   "execution_count": 33,
   "metadata": {},
   "outputs": [],
   "source": [
    "from statsmodels.tsa.statespace.sarimax import SARIMAX as sm"
   ]
  },
  {
   "cell_type": "code",
   "execution_count": 202,
   "metadata": {},
   "outputs": [],
   "source": [
    "X = race_df[['distance', 'avg_hr','elev_gain']] #, 'avg_stride_length', 'avg_ground_contact_time']]"
   ]
  },
  {
   "cell_type": "code",
   "execution_count": 203,
   "metadata": {},
   "outputs": [
    {
     "data": {
      "text/plain": [
       "51"
      ]
     },
     "execution_count": 203,
     "metadata": {},
     "output_type": "execute_result"
    }
   ],
   "source": [
    "len(X)"
   ]
  },
  {
   "cell_type": "code",
   "execution_count": 204,
   "metadata": {},
   "outputs": [],
   "source": [
    "y = race_df['spd_ft_s']"
   ]
  },
  {
   "cell_type": "code",
   "execution_count": 205,
   "metadata": {},
   "outputs": [
    {
     "name": "stdout",
     "output_type": "stream",
     "text": [
      "Performing stepwise search to minimize aic\n",
      " ARIMA(2,0,2)(1,0,1)[14] intercept   : AIC=85.733, Time=0.58 sec\n",
      " ARIMA(0,0,0)(0,0,0)[14] intercept   : AIC=71.767, Time=0.19 sec\n",
      " ARIMA(1,0,0)(1,0,0)[14] intercept   : AIC=79.456, Time=0.17 sec\n",
      " ARIMA(0,0,1)(0,0,1)[14] intercept   : AIC=79.709, Time=0.28 sec\n",
      " ARIMA(0,0,0)(0,0,0)[14]             : AIC=75.970, Time=0.11 sec\n",
      " ARIMA(0,0,0)(1,0,0)[14] intercept   : AIC=79.129, Time=0.24 sec\n",
      " ARIMA(0,0,0)(0,0,1)[14] intercept   : AIC=78.990, Time=0.29 sec\n",
      " ARIMA(0,0,0)(1,0,1)[14] intercept   : AIC=82.794, Time=0.25 sec\n",
      " ARIMA(1,0,0)(0,0,0)[14] intercept   : AIC=78.338, Time=0.11 sec\n",
      " ARIMA(0,0,1)(0,0,0)[14] intercept   : AIC=78.724, Time=0.14 sec\n",
      " ARIMA(1,0,1)(0,0,0)[14] intercept   : AIC=79.231, Time=0.20 sec\n",
      "\n",
      "Best model:  ARIMA(0,0,0)(0,0,0)[14] intercept\n",
      "Total fit time: 2.551 seconds\n"
     ]
    }
   ],
   "source": [
    "model = pmd.auto_arima(y, X=X, m=14, trace=True)"
   ]
  },
  {
   "cell_type": "code",
   "execution_count": 206,
   "metadata": {},
   "outputs": [
    {
     "name": "stderr",
     "output_type": "stream",
     "text": [
      "/Users/Keith/miniconda3/lib/python3.8/site-packages/statsmodels/tsa/base/tsa_model.py:376: ValueWarning: No supported index is available. Prediction results will be given with an integer index beginning at `start`.\n",
      "  warnings.warn('No supported index is available.'\n"
     ]
    },
    {
     "data": {
      "text/plain": [
       "array([12.84983354])"
      ]
     },
     "execution_count": 206,
     "metadata": {},
     "output_type": "execute_result"
    }
   ],
   "source": [
    "preds = model.predict(1, [[12.96, 166, 154]])#, 1.30, 240]])\n",
    "preds"
   ]
  },
  {
   "cell_type": "code",
   "execution_count": 196,
   "metadata": {},
   "outputs": [],
   "source": [
    "#This is actually very close to my actual race pace of 6:45 miles, which is 13.03 ft/s."
   ]
  },
  {
   "cell_type": "code",
   "execution_count": null,
   "metadata": {},
   "outputs": [],
   "source": []
  }
 ],
 "metadata": {
  "kernelspec": {
   "display_name": "Python 3",
   "language": "python",
   "name": "python3"
  },
  "language_info": {
   "codemirror_mode": {
    "name": "ipython",
    "version": 3
   },
   "file_extension": ".py",
   "mimetype": "text/x-python",
   "name": "python",
   "nbconvert_exporter": "python",
   "pygments_lexer": "ipython3",
   "version": "3.8.3"
  }
 },
 "nbformat": 4,
 "nbformat_minor": 4
}
