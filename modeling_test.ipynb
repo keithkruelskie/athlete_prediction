{
 "cells": [
  {
   "cell_type": "code",
   "execution_count": null,
   "metadata": {},
   "outputs": [],
   "source": [
    "#Overall structure:\n",
    "# I will start the modeling with a basic time series prediction based on pace. \n",
    "# Inputs should be an athlete's training file, race dates, a future race date, sport, and distance. \n",
    "# Correction factors for temperature, elevation gain, elevation above sea level, and others will be included.\n",
    "# Paces will be scaled based on distance of the event relative to the training distances and paces\n",
    "# Plan is to use the heart rate as an indicator of effort\n",
    "\n",
    "#Eventual function/website app will take in training data, a race date, sport, distance, and probably location, \n",
    "#and spit out a prediction for the final time."
   ]
  }
 ],
 "metadata": {
  "kernelspec": {
   "display_name": "Python 3",
   "language": "python",
   "name": "python3"
  },
  "language_info": {
   "codemirror_mode": {
    "name": "ipython",
    "version": 3
   },
   "file_extension": ".py",
   "mimetype": "text/x-python",
   "name": "python",
   "nbconvert_exporter": "python",
   "pygments_lexer": "ipython3",
   "version": "3.8.3"
  }
 },
 "nbformat": 4,
 "nbformat_minor": 4
}
