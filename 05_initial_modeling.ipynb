{
 "cells": [
  {
   "cell_type": "code",
   "execution_count": 1,
   "metadata": {},
   "outputs": [],
   "source": [
    "#Modeling - Initial time based modeling\n",
    "#Goal of this notebook is to read in a training file, select out a sport from the activities,\n",
    "#Plot it and predict on what the performance at a later date will be."
   ]
  },
  {
   "cell_type": "code",
   "execution_count": 1,
   "metadata": {},
   "outputs": [],
   "source": [
    "import pandas as pd\n",
    "import numpy as np\n",
    "import matplotlib.pyplot as plt\n",
    "from datetime import date"
   ]
  },
  {
   "cell_type": "code",
   "execution_count": 2,
   "metadata": {},
   "outputs": [],
   "source": [
    "#Let's read in a single csv first:\n",
    "race_df = pd.read_csv('./data/races/athlete_3/athlete_3_race_4_3_mo_Running_extra_cols.csv', index_col='date')"
   ]
  },
  {
   "cell_type": "code",
   "execution_count": 3,
   "metadata": {},
   "outputs": [
    {
     "data": {
      "text/html": [
       "<div>\n",
       "<style scoped>\n",
       "    .dataframe tbody tr th:only-of-type {\n",
       "        vertical-align: middle;\n",
       "    }\n",
       "\n",
       "    .dataframe tbody tr th {\n",
       "        vertical-align: top;\n",
       "    }\n",
       "\n",
       "    .dataframe thead th {\n",
       "        text-align: right;\n",
       "    }\n",
       "</style>\n",
       "<table border=\"1\" class=\"dataframe\">\n",
       "  <thead>\n",
       "    <tr style=\"text-align: right;\">\n",
       "      <th></th>\n",
       "      <th>Unnamed: 0</th>\n",
       "      <th>index</th>\n",
       "      <th>activity_type</th>\n",
       "      <th>favorite</th>\n",
       "      <th>title</th>\n",
       "      <th>distance</th>\n",
       "      <th>calories</th>\n",
       "      <th>time</th>\n",
       "      <th>avg_hr</th>\n",
       "      <th>max_hr</th>\n",
       "      <th>...</th>\n",
       "      <th>max_resp</th>\n",
       "      <th>athlete_id</th>\n",
       "      <th>filetype</th>\n",
       "      <th>is_race</th>\n",
       "      <th>ft_per_mile</th>\n",
       "      <th>intensity</th>\n",
       "      <th>spd_ft_s</th>\n",
       "      <th>spd_mph</th>\n",
       "      <th>GAP_ft_s</th>\n",
       "      <th>GAP_by_intensity</th>\n",
       "    </tr>\n",
       "    <tr>\n",
       "      <th>date</th>\n",
       "      <th></th>\n",
       "      <th></th>\n",
       "      <th></th>\n",
       "      <th></th>\n",
       "      <th></th>\n",
       "      <th></th>\n",
       "      <th></th>\n",
       "      <th></th>\n",
       "      <th></th>\n",
       "      <th></th>\n",
       "      <th></th>\n",
       "      <th></th>\n",
       "      <th></th>\n",
       "      <th></th>\n",
       "      <th></th>\n",
       "      <th></th>\n",
       "      <th></th>\n",
       "      <th></th>\n",
       "      <th></th>\n",
       "      <th></th>\n",
       "      <th></th>\n",
       "    </tr>\n",
       "  </thead>\n",
       "  <tbody>\n",
       "    <tr>\n",
       "      <th>2019-04-25</th>\n",
       "      <td>0</td>\n",
       "      <td>0</td>\n",
       "      <td>Running</td>\n",
       "      <td>False</td>\n",
       "      <td>Fresno Running</td>\n",
       "      <td>4.40</td>\n",
       "      <td>496</td>\n",
       "      <td>00:35:02</td>\n",
       "      <td>138</td>\n",
       "      <td>155</td>\n",
       "      <td>...</td>\n",
       "      <td>0</td>\n",
       "      <td>3</td>\n",
       "      <td>garmin</td>\n",
       "      <td>0</td>\n",
       "      <td>8.181818</td>\n",
       "      <td>0.745946</td>\n",
       "      <td>11.069182</td>\n",
       "      <td>7.547170</td>\n",
       "      <td>11.069196</td>\n",
       "      <td>14.839139</td>\n",
       "    </tr>\n",
       "    <tr>\n",
       "      <th>2019-04-27</th>\n",
       "      <td>1</td>\n",
       "      <td>4</td>\n",
       "      <td>Running</td>\n",
       "      <td>False</td>\n",
       "      <td>Boulder Running</td>\n",
       "      <td>2.59</td>\n",
       "      <td>320</td>\n",
       "      <td>00:20:02</td>\n",
       "      <td>147</td>\n",
       "      <td>165</td>\n",
       "      <td>...</td>\n",
       "      <td>0</td>\n",
       "      <td>3</td>\n",
       "      <td>garmin</td>\n",
       "      <td>0</td>\n",
       "      <td>41.698842</td>\n",
       "      <td>0.794595</td>\n",
       "      <td>11.379310</td>\n",
       "      <td>7.758621</td>\n",
       "      <td>11.379665</td>\n",
       "      <td>14.321347</td>\n",
       "    </tr>\n",
       "    <tr>\n",
       "      <th>2019-04-28</th>\n",
       "      <td>2</td>\n",
       "      <td>5</td>\n",
       "      <td>Running</td>\n",
       "      <td>False</td>\n",
       "      <td>Denver Running</td>\n",
       "      <td>12.64</td>\n",
       "      <td>1,453</td>\n",
       "      <td>01:38:16</td>\n",
       "      <td>149</td>\n",
       "      <td>171</td>\n",
       "      <td>...</td>\n",
       "      <td>0</td>\n",
       "      <td>3</td>\n",
       "      <td>garmin</td>\n",
       "      <td>0</td>\n",
       "      <td>45.965190</td>\n",
       "      <td>0.805405</td>\n",
       "      <td>11.306210</td>\n",
       "      <td>7.708779</td>\n",
       "      <td>11.306638</td>\n",
       "      <td>14.038443</td>\n",
       "    </tr>\n",
       "    <tr>\n",
       "      <th>2019-04-30</th>\n",
       "      <td>3</td>\n",
       "      <td>11</td>\n",
       "      <td>Running</td>\n",
       "      <td>False</td>\n",
       "      <td>Denver Running</td>\n",
       "      <td>6.53</td>\n",
       "      <td>736</td>\n",
       "      <td>00:50:03</td>\n",
       "      <td>142</td>\n",
       "      <td>154</td>\n",
       "      <td>...</td>\n",
       "      <td>0</td>\n",
       "      <td>3</td>\n",
       "      <td>garmin</td>\n",
       "      <td>0</td>\n",
       "      <td>18.070444</td>\n",
       "      <td>0.767568</td>\n",
       "      <td>11.478261</td>\n",
       "      <td>7.826087</td>\n",
       "      <td>11.478328</td>\n",
       "      <td>14.954160</td>\n",
       "    </tr>\n",
       "    <tr>\n",
       "      <th>2019-05-02</th>\n",
       "      <td>4</td>\n",
       "      <td>15</td>\n",
       "      <td>Running</td>\n",
       "      <td>False</td>\n",
       "      <td>Denver Running</td>\n",
       "      <td>6.17</td>\n",
       "      <td>644</td>\n",
       "      <td>00:50:18</td>\n",
       "      <td>136</td>\n",
       "      <td>159</td>\n",
       "      <td>...</td>\n",
       "      <td>0</td>\n",
       "      <td>3</td>\n",
       "      <td>garmin</td>\n",
       "      <td>0</td>\n",
       "      <td>47.811994</td>\n",
       "      <td>0.735135</td>\n",
       "      <td>10.797546</td>\n",
       "      <td>7.361963</td>\n",
       "      <td>10.797989</td>\n",
       "      <td>14.688441</td>\n",
       "    </tr>\n",
       "  </tbody>\n",
       "</table>\n",
       "<p>5 rows × 57 columns</p>\n",
       "</div>"
      ],
      "text/plain": [
       "            Unnamed: 0  index activity_type  favorite            title  \\\n",
       "date                                                                     \n",
       "2019-04-25           0      0       Running     False   Fresno Running   \n",
       "2019-04-27           1      4       Running     False  Boulder Running   \n",
       "2019-04-28           2      5       Running     False   Denver Running   \n",
       "2019-04-30           3     11       Running     False   Denver Running   \n",
       "2019-05-02           4     15       Running     False   Denver Running   \n",
       "\n",
       "            distance calories      time  avg_hr  max_hr  ...  max_resp  \\\n",
       "date                                                     ...             \n",
       "2019-04-25      4.40      496  00:35:02     138     155  ...         0   \n",
       "2019-04-27      2.59      320  00:20:02     147     165  ...         0   \n",
       "2019-04-28     12.64    1,453  01:38:16     149     171  ...         0   \n",
       "2019-04-30      6.53      736  00:50:03     142     154  ...         0   \n",
       "2019-05-02      6.17      644  00:50:18     136     159  ...         0   \n",
       "\n",
       "            athlete_id  filetype is_race ft_per_mile  intensity   spd_ft_s  \\\n",
       "date                                                                         \n",
       "2019-04-25           3    garmin       0    8.181818   0.745946  11.069182   \n",
       "2019-04-27           3    garmin       0   41.698842   0.794595  11.379310   \n",
       "2019-04-28           3    garmin       0   45.965190   0.805405  11.306210   \n",
       "2019-04-30           3    garmin       0   18.070444   0.767568  11.478261   \n",
       "2019-05-02           3    garmin       0   47.811994   0.735135  10.797546   \n",
       "\n",
       "             spd_mph   GAP_ft_s  GAP_by_intensity  \n",
       "date                                               \n",
       "2019-04-25  7.547170  11.069196         14.839139  \n",
       "2019-04-27  7.758621  11.379665         14.321347  \n",
       "2019-04-28  7.708779  11.306638         14.038443  \n",
       "2019-04-30  7.826087  11.478328         14.954160  \n",
       "2019-05-02  7.361963  10.797989         14.688441  \n",
       "\n",
       "[5 rows x 57 columns]"
      ]
     },
     "execution_count": 3,
     "metadata": {},
     "output_type": "execute_result"
    }
   ],
   "source": [
    "race_df.head()"
   ]
  },
  {
   "cell_type": "code",
   "execution_count": 4,
   "metadata": {},
   "outputs": [
    {
     "data": {
      "text/html": [
       "<div>\n",
       "<style scoped>\n",
       "    .dataframe tbody tr th:only-of-type {\n",
       "        vertical-align: middle;\n",
       "    }\n",
       "\n",
       "    .dataframe tbody tr th {\n",
       "        vertical-align: top;\n",
       "    }\n",
       "\n",
       "    .dataframe thead th {\n",
       "        text-align: right;\n",
       "    }\n",
       "</style>\n",
       "<table border=\"1\" class=\"dataframe\">\n",
       "  <thead>\n",
       "    <tr style=\"text-align: right;\">\n",
       "      <th></th>\n",
       "      <th>Unnamed: 0</th>\n",
       "      <th>index</th>\n",
       "      <th>activity_type</th>\n",
       "      <th>favorite</th>\n",
       "      <th>title</th>\n",
       "      <th>distance</th>\n",
       "      <th>calories</th>\n",
       "      <th>time</th>\n",
       "      <th>avg_hr</th>\n",
       "      <th>max_hr</th>\n",
       "      <th>...</th>\n",
       "      <th>max_resp</th>\n",
       "      <th>athlete_id</th>\n",
       "      <th>filetype</th>\n",
       "      <th>is_race</th>\n",
       "      <th>ft_per_mile</th>\n",
       "      <th>intensity</th>\n",
       "      <th>spd_ft_s</th>\n",
       "      <th>spd_mph</th>\n",
       "      <th>GAP_ft_s</th>\n",
       "      <th>GAP_by_intensity</th>\n",
       "    </tr>\n",
       "    <tr>\n",
       "      <th>date</th>\n",
       "      <th></th>\n",
       "      <th></th>\n",
       "      <th></th>\n",
       "      <th></th>\n",
       "      <th></th>\n",
       "      <th></th>\n",
       "      <th></th>\n",
       "      <th></th>\n",
       "      <th></th>\n",
       "      <th></th>\n",
       "      <th></th>\n",
       "      <th></th>\n",
       "      <th></th>\n",
       "      <th></th>\n",
       "      <th></th>\n",
       "      <th></th>\n",
       "      <th></th>\n",
       "      <th></th>\n",
       "      <th></th>\n",
       "      <th></th>\n",
       "      <th></th>\n",
       "    </tr>\n",
       "  </thead>\n",
       "  <tbody>\n",
       "  </tbody>\n",
       "</table>\n",
       "<p>0 rows × 57 columns</p>\n",
       "</div>"
      ],
      "text/plain": [
       "Empty DataFrame\n",
       "Columns: [Unnamed: 0, index, activity_type, favorite, title, distance, calories, time, avg_hr, max_hr, aerobic_te, avg_run_cadence, max_run_cadence, avg_pace, best_pace, elev_gain, elev_loss, avg_stride_length, avg_vertical_ratio, avg_vertical_oscillation, avg_ground_contact_time, avg_gct_balance, avg_run_cadence_1, max_run_cadence_1, normalized_powerâ_npâ, lr_balance, training_stress_scoreâ, max_avg_power_20_min, avg_power, max_power, grit, flow, total_strokes, avg__swolf, avg_stroke_rate, total_reps, total_sets, climb_time, bottom_time, min_temp, surface_interval, decompression, best_lap_time, number_of_laps, max_temp, avg_resp, min_resp, max_resp, athlete_id, filetype, is_race, ft_per_mile, intensity, spd_ft_s, spd_mph, GAP_ft_s, GAP_by_intensity]\n",
       "Index: []\n",
       "\n",
       "[0 rows x 57 columns]"
      ]
     },
     "execution_count": 4,
     "metadata": {},
     "output_type": "execute_result"
    }
   ],
   "source": [
    "race_df[race_df['is_race'] == 1]"
   ]
  },
  {
   "cell_type": "code",
   "execution_count": 5,
   "metadata": {},
   "outputs": [],
   "source": [
    "#Great, I have a 3 month train set. Race is a half marathon at 1:27:20 time."
   ]
  },
  {
   "cell_type": "code",
   "execution_count": 6,
   "metadata": {},
   "outputs": [
    {
     "ename": "AttributeError",
     "evalue": "Can only use .str accessor with string values!",
     "output_type": "error",
     "traceback": [
      "\u001b[0;31m---------------------------------------------------------------------------\u001b[0m",
      "\u001b[0;31mAttributeError\u001b[0m                            Traceback (most recent call last)",
      "\u001b[0;32m<ipython-input-6-f4c70010b2d1>\u001b[0m in \u001b[0;36m<module>\u001b[0;34m\u001b[0m\n\u001b[0;32m----> 1\u001b[0;31m \u001b[0mrace_df\u001b[0m\u001b[0;34m[\u001b[0m\u001b[0;34m'elev_gain'\u001b[0m\u001b[0;34m]\u001b[0m \u001b[0;34m=\u001b[0m \u001b[0mrace_df\u001b[0m\u001b[0;34m[\u001b[0m\u001b[0;34m'elev_gain'\u001b[0m\u001b[0;34m]\u001b[0m\u001b[0;34m.\u001b[0m\u001b[0mstr\u001b[0m\u001b[0;34m.\u001b[0m\u001b[0mreplace\u001b[0m\u001b[0;34m(\u001b[0m\u001b[0;34m','\u001b[0m\u001b[0;34m,\u001b[0m \u001b[0;34m''\u001b[0m\u001b[0;34m)\u001b[0m\u001b[0;34m.\u001b[0m\u001b[0mastype\u001b[0m\u001b[0;34m(\u001b[0m\u001b[0mfloat\u001b[0m\u001b[0;34m)\u001b[0m\u001b[0;34m\u001b[0m\u001b[0;34m\u001b[0m\u001b[0m\n\u001b[0m",
      "\u001b[0;32m~/miniconda3/lib/python3.8/site-packages/pandas/core/generic.py\u001b[0m in \u001b[0;36m__getattr__\u001b[0;34m(self, name)\u001b[0m\n\u001b[1;32m   5454\u001b[0m             \u001b[0;32mor\u001b[0m \u001b[0mname\u001b[0m \u001b[0;32min\u001b[0m \u001b[0mself\u001b[0m\u001b[0;34m.\u001b[0m\u001b[0m_accessors\u001b[0m\u001b[0;34m\u001b[0m\u001b[0;34m\u001b[0m\u001b[0m\n\u001b[1;32m   5455\u001b[0m         ):\n\u001b[0;32m-> 5456\u001b[0;31m             \u001b[0;32mreturn\u001b[0m \u001b[0mobject\u001b[0m\u001b[0;34m.\u001b[0m\u001b[0m__getattribute__\u001b[0m\u001b[0;34m(\u001b[0m\u001b[0mself\u001b[0m\u001b[0;34m,\u001b[0m \u001b[0mname\u001b[0m\u001b[0;34m)\u001b[0m\u001b[0;34m\u001b[0m\u001b[0;34m\u001b[0m\u001b[0m\n\u001b[0m\u001b[1;32m   5457\u001b[0m         \u001b[0;32melse\u001b[0m\u001b[0;34m:\u001b[0m\u001b[0;34m\u001b[0m\u001b[0;34m\u001b[0m\u001b[0m\n\u001b[1;32m   5458\u001b[0m             \u001b[0;32mif\u001b[0m \u001b[0mself\u001b[0m\u001b[0;34m.\u001b[0m\u001b[0m_info_axis\u001b[0m\u001b[0;34m.\u001b[0m\u001b[0m_can_hold_identifiers_and_holds_name\u001b[0m\u001b[0;34m(\u001b[0m\u001b[0mname\u001b[0m\u001b[0;34m)\u001b[0m\u001b[0;34m:\u001b[0m\u001b[0;34m\u001b[0m\u001b[0;34m\u001b[0m\u001b[0m\n",
      "\u001b[0;32m~/miniconda3/lib/python3.8/site-packages/pandas/core/accessor.py\u001b[0m in \u001b[0;36m__get__\u001b[0;34m(self, obj, cls)\u001b[0m\n\u001b[1;32m    178\u001b[0m             \u001b[0;31m# we're accessing the attribute of the class, i.e., Dataset.geo\u001b[0m\u001b[0;34m\u001b[0m\u001b[0;34m\u001b[0m\u001b[0;34m\u001b[0m\u001b[0m\n\u001b[1;32m    179\u001b[0m             \u001b[0;32mreturn\u001b[0m \u001b[0mself\u001b[0m\u001b[0;34m.\u001b[0m\u001b[0m_accessor\u001b[0m\u001b[0;34m\u001b[0m\u001b[0;34m\u001b[0m\u001b[0m\n\u001b[0;32m--> 180\u001b[0;31m         \u001b[0maccessor_obj\u001b[0m \u001b[0;34m=\u001b[0m \u001b[0mself\u001b[0m\u001b[0;34m.\u001b[0m\u001b[0m_accessor\u001b[0m\u001b[0;34m(\u001b[0m\u001b[0mobj\u001b[0m\u001b[0;34m)\u001b[0m\u001b[0;34m\u001b[0m\u001b[0;34m\u001b[0m\u001b[0m\n\u001b[0m\u001b[1;32m    181\u001b[0m         \u001b[0;31m# Replace the property with the accessor object. Inspired by:\u001b[0m\u001b[0;34m\u001b[0m\u001b[0;34m\u001b[0m\u001b[0;34m\u001b[0m\u001b[0m\n\u001b[1;32m    182\u001b[0m         \u001b[0;31m# https://www.pydanny.com/cached-property.html\u001b[0m\u001b[0;34m\u001b[0m\u001b[0;34m\u001b[0m\u001b[0;34m\u001b[0m\u001b[0m\n",
      "\u001b[0;32m~/miniconda3/lib/python3.8/site-packages/pandas/core/strings/accessor.py\u001b[0m in \u001b[0;36m__init__\u001b[0;34m(self, data)\u001b[0m\n\u001b[1;32m    152\u001b[0m         \u001b[0;32mfrom\u001b[0m \u001b[0mpandas\u001b[0m\u001b[0;34m.\u001b[0m\u001b[0mcore\u001b[0m\u001b[0;34m.\u001b[0m\u001b[0marrays\u001b[0m\u001b[0;34m.\u001b[0m\u001b[0mstring_\u001b[0m \u001b[0;32mimport\u001b[0m \u001b[0mStringDtype\u001b[0m\u001b[0;34m\u001b[0m\u001b[0;34m\u001b[0m\u001b[0m\n\u001b[1;32m    153\u001b[0m \u001b[0;34m\u001b[0m\u001b[0m\n\u001b[0;32m--> 154\u001b[0;31m         \u001b[0mself\u001b[0m\u001b[0;34m.\u001b[0m\u001b[0m_inferred_dtype\u001b[0m \u001b[0;34m=\u001b[0m \u001b[0mself\u001b[0m\u001b[0;34m.\u001b[0m\u001b[0m_validate\u001b[0m\u001b[0;34m(\u001b[0m\u001b[0mdata\u001b[0m\u001b[0;34m)\u001b[0m\u001b[0;34m\u001b[0m\u001b[0;34m\u001b[0m\u001b[0m\n\u001b[0m\u001b[1;32m    155\u001b[0m         \u001b[0mself\u001b[0m\u001b[0;34m.\u001b[0m\u001b[0m_is_categorical\u001b[0m \u001b[0;34m=\u001b[0m \u001b[0mis_categorical_dtype\u001b[0m\u001b[0;34m(\u001b[0m\u001b[0mdata\u001b[0m\u001b[0;34m.\u001b[0m\u001b[0mdtype\u001b[0m\u001b[0;34m)\u001b[0m\u001b[0;34m\u001b[0m\u001b[0;34m\u001b[0m\u001b[0m\n\u001b[1;32m    156\u001b[0m         \u001b[0mself\u001b[0m\u001b[0;34m.\u001b[0m\u001b[0m_is_string\u001b[0m \u001b[0;34m=\u001b[0m \u001b[0misinstance\u001b[0m\u001b[0;34m(\u001b[0m\u001b[0mdata\u001b[0m\u001b[0;34m.\u001b[0m\u001b[0mdtype\u001b[0m\u001b[0;34m,\u001b[0m \u001b[0mStringDtype\u001b[0m\u001b[0;34m)\u001b[0m\u001b[0;34m\u001b[0m\u001b[0;34m\u001b[0m\u001b[0m\n",
      "\u001b[0;32m~/miniconda3/lib/python3.8/site-packages/pandas/core/strings/accessor.py\u001b[0m in \u001b[0;36m_validate\u001b[0;34m(data)\u001b[0m\n\u001b[1;32m    216\u001b[0m \u001b[0;34m\u001b[0m\u001b[0m\n\u001b[1;32m    217\u001b[0m         \u001b[0;32mif\u001b[0m \u001b[0minferred_dtype\u001b[0m \u001b[0;32mnot\u001b[0m \u001b[0;32min\u001b[0m \u001b[0mallowed_types\u001b[0m\u001b[0;34m:\u001b[0m\u001b[0;34m\u001b[0m\u001b[0;34m\u001b[0m\u001b[0m\n\u001b[0;32m--> 218\u001b[0;31m             \u001b[0;32mraise\u001b[0m \u001b[0mAttributeError\u001b[0m\u001b[0;34m(\u001b[0m\u001b[0;34m\"Can only use .str accessor with string values!\"\u001b[0m\u001b[0;34m)\u001b[0m\u001b[0;34m\u001b[0m\u001b[0;34m\u001b[0m\u001b[0m\n\u001b[0m\u001b[1;32m    219\u001b[0m         \u001b[0;32mreturn\u001b[0m \u001b[0minferred_dtype\u001b[0m\u001b[0;34m\u001b[0m\u001b[0;34m\u001b[0m\u001b[0m\n\u001b[1;32m    220\u001b[0m \u001b[0;34m\u001b[0m\u001b[0m\n",
      "\u001b[0;31mAttributeError\u001b[0m: Can only use .str accessor with string values!"
     ]
    }
   ],
   "source": [
    "race_df['elev_gain'] = race_df['elev_gain'].str.replace(',', '').astype(float)\n"
   ]
  },
  {
   "cell_type": "code",
   "execution_count": 7,
   "metadata": {},
   "outputs": [],
   "source": [
    "race_df['elev_loss'] = race_df['elev_loss'].str.replace(',', '').astype(float)\n"
   ]
  },
  {
   "cell_type": "code",
   "execution_count": 8,
   "metadata": {},
   "outputs": [],
   "source": [
    "race_df['calories'] = race_df['calories'].str.replace(',', '').astype(float)"
   ]
  },
  {
   "cell_type": "code",
   "execution_count": 9,
   "metadata": {},
   "outputs": [
    {
     "name": "stdout",
     "output_type": "stream",
     "text": [
      "<class 'pandas.core.frame.DataFrame'>\n",
      "Index: 51 entries, 2019-04-25 to 2019-07-25\n",
      "Data columns (total 57 columns):\n",
      " #   Column                    Non-Null Count  Dtype  \n",
      "---  ------                    --------------  -----  \n",
      " 0   Unnamed: 0                51 non-null     int64  \n",
      " 1   index                     51 non-null     int64  \n",
      " 2   activity_type             51 non-null     object \n",
      " 3   favorite                  51 non-null     bool   \n",
      " 4   title                     51 non-null     object \n",
      " 5   distance                  51 non-null     float64\n",
      " 6   calories                  51 non-null     float64\n",
      " 7   time                      51 non-null     object \n",
      " 8   avg_hr                    51 non-null     int64  \n",
      " 9   max_hr                    51 non-null     int64  \n",
      " 10  aerobic_te                51 non-null     float64\n",
      " 11  avg_run_cadence           51 non-null     int64  \n",
      " 12  max_run_cadence           51 non-null     int64  \n",
      " 13  avg_pace                  51 non-null     object \n",
      " 14  best_pace                 51 non-null     object \n",
      " 15  elev_gain                 51 non-null     int64  \n",
      " 16  elev_loss                 51 non-null     float64\n",
      " 17  avg_stride_length         51 non-null     float64\n",
      " 18  avg_vertical_ratio        51 non-null     float64\n",
      " 19  avg_vertical_oscillation  51 non-null     float64\n",
      " 20  avg_ground_contact_time   51 non-null     int64  \n",
      " 21  avg_gct_balance           51 non-null     object \n",
      " 22  avg_run_cadence_1         51 non-null     int64  \n",
      " 23  max_run_cadence_1         51 non-null     int64  \n",
      " 24  normalized_powerâ_npâ     51 non-null     int64  \n",
      " 25  lr_balance                51 non-null     int64  \n",
      " 26  training_stress_scoreâ    51 non-null     float64\n",
      " 27  max_avg_power_20_min      51 non-null     int64  \n",
      " 28  avg_power                 51 non-null     int64  \n",
      " 29  max_power                 51 non-null     int64  \n",
      " 30  grit                      51 non-null     float64\n",
      " 31  flow                      51 non-null     float64\n",
      " 32  total_strokes             51 non-null     int64  \n",
      " 33  avg__swolf                51 non-null     int64  \n",
      " 34  avg_stroke_rate           51 non-null     int64  \n",
      " 35  total_reps                51 non-null     int64  \n",
      " 36  total_sets                51 non-null     int64  \n",
      " 37  climb_time                51 non-null     object \n",
      " 38  bottom_time               51 non-null     object \n",
      " 39  min_temp                  51 non-null     float64\n",
      " 40  surface_interval          51 non-null     object \n",
      " 41  decompression             51 non-null     object \n",
      " 42  best_lap_time             51 non-null     object \n",
      " 43  number_of_laps            51 non-null     int64  \n",
      " 44  max_temp                  51 non-null     float64\n",
      " 45  avg_resp                  51 non-null     int64  \n",
      " 46  min_resp                  51 non-null     int64  \n",
      " 47  max_resp                  51 non-null     int64  \n",
      " 48  athlete_id                51 non-null     int64  \n",
      " 49  filetype                  51 non-null     object \n",
      " 50  is_race                   51 non-null     int64  \n",
      " 51  ft_per_mile               51 non-null     float64\n",
      " 52  intensity                 51 non-null     float64\n",
      " 53  spd_ft_s                  51 non-null     float64\n",
      " 54  spd_mph                   51 non-null     float64\n",
      " 55  GAP_ft_s                  51 non-null     float64\n",
      " 56  GAP_by_intensity          51 non-null     float64\n",
      "dtypes: bool(1), float64(18), int64(26), object(12)\n",
      "memory usage: 22.8+ KB\n"
     ]
    }
   ],
   "source": [
    "race_df.info()"
   ]
  },
  {
   "cell_type": "code",
   "execution_count": 10,
   "metadata": {},
   "outputs": [],
   "source": [
    "import pmdarima as pmd"
   ]
  },
  {
   "cell_type": "code",
   "execution_count": 11,
   "metadata": {},
   "outputs": [],
   "source": [
    "from pmdarima.utils import tsdisplay"
   ]
  },
  {
   "cell_type": "code",
   "execution_count": 12,
   "metadata": {},
   "outputs": [
    {
     "name": "stderr",
     "output_type": "stream",
     "text": [
      "/Users/Keith/miniconda3/lib/python3.8/site-packages/pmdarima/utils/visualization.py:219: FutureWarning: the 'unbiased'' keyword is deprecated, use 'adjusted' instead\n",
      "  res = tsaplots.plot_acf(\n"
     ]
    },
    {
     "data": {
      "image/png": "[encoded data removed]",
      "text/plain": [
       "<Figure size 576x432 with 3 Axes>"
      ]
     },
     "metadata": {
      "needs_background": "light"
     },
     "output_type": "display_data"
    }
   ],
   "source": [
    "tsdisplay(race_df['spd_mph'], lag_max=12)"
   ]
  },
  {
   "cell_type": "code",
   "execution_count": 13,
   "metadata": {},
   "outputs": [
    {
     "name": "stderr",
     "output_type": "stream",
     "text": [
      "/Users/Keith/miniconda3/lib/python3.8/site-packages/pmdarima/utils/visualization.py:219: FutureWarning: the 'unbiased'' keyword is deprecated, use 'adjusted' instead\n",
      "  res = tsaplots.plot_acf(\n"
     ]
    },
    {
     "data": {
      "image/png": "[encoded data removed]",
      "text/plain": [
       "<Figure size 576x432 with 3 Axes>"
      ]
     },
     "metadata": {
      "needs_background": "light"
     },
     "output_type": "display_data"
    }
   ],
   "source": [
    "tsdisplay(race_df['GAP_ft_s'], lag_max=12)"
   ]
  },
  {
   "cell_type": "code",
   "execution_count": 14,
   "metadata": {},
   "outputs": [],
   "source": [
    "from statsmodels.tsa.statespace.sarimax import SARIMAX as sm"
   ]
  },
  {
   "cell_type": "code",
   "execution_count": 16,
   "metadata": {},
   "outputs": [],
   "source": [
    "X = race_df[['distance', 'avg_hr','elev_gain']] #, 'avg_stride_length', 'avg_ground_contact_time']]"
   ]
  },
  {
   "cell_type": "code",
   "execution_count": 17,
   "metadata": {},
   "outputs": [
    {
     "data": {
      "text/plain": [
       "51"
      ]
     },
     "execution_count": 17,
     "metadata": {},
     "output_type": "execute_result"
    }
   ],
   "source": [
    "len(X)"
   ]
  },
  {
   "cell_type": "code",
   "execution_count": 18,
   "metadata": {},
   "outputs": [],
   "source": [
    "y = race_df['spd_ft_s']"
   ]
  },
  {
   "cell_type": "code",
   "execution_count": 19,
   "metadata": {},
   "outputs": [
    {
     "name": "stdout",
     "output_type": "stream",
     "text": [
      "Performing stepwise search to minimize aic\n",
      " ARIMA(2,0,2)(1,0,1)[14] intercept   : AIC=85.733, Time=0.73 sec\n",
      " ARIMA(0,0,0)(0,0,0)[14] intercept   : AIC=71.767, Time=0.21 sec\n",
      " ARIMA(1,0,0)(1,0,0)[14] intercept   : AIC=79.456, Time=0.18 sec\n",
      " ARIMA(0,0,1)(0,0,1)[14] intercept   : AIC=79.709, Time=0.33 sec\n",
      " ARIMA(0,0,0)(0,0,0)[14]             : AIC=75.970, Time=0.12 sec\n",
      " ARIMA(0,0,0)(1,0,0)[14] intercept   : AIC=79.129, Time=0.30 sec\n",
      " ARIMA(0,0,0)(0,0,1)[14] intercept   : AIC=78.990, Time=0.35 sec\n",
      " ARIMA(0,0,0)(1,0,1)[14] intercept   : AIC=82.794, Time=0.29 sec\n",
      " ARIMA(1,0,0)(0,0,0)[14] intercept   : AIC=78.338, Time=0.12 sec\n",
      " ARIMA(0,0,1)(0,0,0)[14] intercept   : AIC=78.724, Time=0.15 sec\n",
      " ARIMA(1,0,1)(0,0,0)[14] intercept   : AIC=79.231, Time=0.22 sec\n",
      "\n",
      "Best model:  ARIMA(0,0,0)(0,0,0)[14] intercept\n",
      "Total fit time: 3.040 seconds\n"
     ]
    }
   ],
   "source": [
    "model = pmd.auto_arima(y, X=X, m=14, trace=True)"
   ]
  },
  {
   "cell_type": "code",
   "execution_count": 20,
   "metadata": {},
   "outputs": [
    {
     "name": "stderr",
     "output_type": "stream",
     "text": [
      "/Users/Keith/miniconda3/lib/python3.8/site-packages/statsmodels/tsa/base/tsa_model.py:376: ValueWarning: No supported index is available. Prediction results will be given with an integer index beginning at `start`.\n",
      "  warnings.warn('No supported index is available.'\n"
     ]
    },
    {
     "data": {
      "text/plain": [
       "array([12.84983354])"
      ]
     },
     "execution_count": 20,
     "metadata": {},
     "output_type": "execute_result"
    }
   ],
   "source": [
    "preds = model.predict(1, [[12.96, 166, 154]])#, 1.30, 240]])\n",
    "preds"
   ]
  },
  {
   "cell_type": "code",
   "execution_count": 196,
   "metadata": {},
   "outputs": [],
   "source": [
    "#This is actually very close to my actual race pace of 6:45 miles, which is 13.03 ft/s."
   ]
  },
  {
   "cell_type": "code",
   "execution_count": null,
   "metadata": {},
   "outputs": [],
   "source": [
    "#San Fran Marathon July 2018"
   ]
  },
  {
   "cell_type": "code",
   "execution_count": 30,
   "metadata": {},
   "outputs": [],
   "source": [
    "#Let's read in a single csv first:\n",
    "race_df2 = pd.read_csv('./data/races/athlete_0/athlete_0_race_0_3_mo_Running_extra_cols.csv', index_col='date')\n",
    "\n",
    "try:\n",
    "    race_df2['elev_gain'] = race_df2['elev_gain'].str.replace(',', '').astype(float)\n",
    "except:\n",
    "    print(type(race_df2['elev_gain'][0]))\n",
    "\n",
    "\n",
    "try:\n",
    "    race_df2['elev_loss'] = race_df2['elev_loss'].str.replace(',', '').astype(float)\n",
    "except:\n",
    "    print(type(race_df2['elev_loss'][0]))\n",
    "\n",
    "\n",
    "try:\n",
    "    race_df2['calories'] = race_df2['calories'].str.replace(',', '').astype(float)\n",
    "except:\n",
    "    print(race_df2['calories'].info())"
   ]
  },
  {
   "cell_type": "code",
   "execution_count": 46,
   "metadata": {},
   "outputs": [],
   "source": [
    "tsdisplay(race_df2['spd_mph'], lag_max=12)\n",
    "\n",
    "tsdisplay(race_df2['GAP_ft_s'], lag_max=12)\n",
    "\n",
    "X = race_df2[race_df2['is_race']==0][['distance', 'avg_hr','elev_gain']] #, 'avg_stride_length', 'avg_ground_contact_time']]\n",
    "\n",
    "y = race_df2[race_df2['is_race']==0]['spd_ft_s']"
   ]
  },
  {
   "cell_type": "code",
   "execution_count": 44,
   "metadata": {},
   "outputs": [],
   "source": [
    "model = pmd.auto_arima(y, X=X, m=7, trace=True)\n",
    "\n",
    "preds = model.predict(1, X = race_df2[race_df2['is_race']==1][['distance', 'avg_hr','elev_gain']])#, 1.30, 240]])\n",
    "preds"
   ]
  },
  {
   "cell_type": "code",
   "execution_count": null,
   "metadata": {},
   "outputs": [],
   "source": [
    "#Does not work so well for a 50 mile race with not as much similar data."
   ]
  },
  {
   "cell_type": "markdown",
   "metadata": {},
   "source": [
    "### Athlete 1"
   ]
  },
  {
   "cell_type": "code",
   "execution_count": 47,
   "metadata": {},
   "outputs": [
    {
     "name": "stdout",
     "output_type": "stream",
     "text": [
      "<class 'numpy.int64'>\n",
      "<class 'numpy.int64'>\n"
     ]
    }
   ],
   "source": [
    "#Let's read in a single csv first:\n",
    "race_df2 = pd.read_csv('./data/races/athlete_1/athlete_1_race_0_3_mo_Running_extra_cols.csv', index_col='date')\n",
    "\n",
    "try:\n",
    "    race_df2['elev_gain'] = race_df2['elev_gain'].str.replace(',', '').astype(float)\n",
    "except:\n",
    "    print(type(race_df2['elev_gain'][0]))\n",
    "\n",
    "\n",
    "try:\n",
    "    race_df2['elev_loss'] = race_df2['elev_loss'].str.replace(',', '').astype(float)\n",
    "except:\n",
    "    print(type(race_df2['elev_loss'][0]))\n",
    "\n",
    "\n",
    "try:\n",
    "    race_df2['calories'] = race_df2['calories'].str.replace(',', '').astype(float)\n",
    "except:\n",
    "    print(race_df2['calories'].info())"
   ]
  },
  {
   "cell_type": "code",
   "execution_count": 48,
   "metadata": {},
   "outputs": [
    {
     "name": "stderr",
     "output_type": "stream",
     "text": [
      "/Users/Keith/miniconda3/envs/timer/lib/python3.8/site-packages/pmdarima/utils/visualization.py:219: FutureWarning: the 'unbiased'' keyword is deprecated, use 'adjusted' instead\n",
      "  res = tsaplots.plot_acf(\n"
     ]
    },
    {
     "data": {
      "image/png": "[encoded data removed]",
      "text/plain": [
       "<Figure size 576x432 with 3 Axes>"
      ]
     },
     "metadata": {
      "needs_background": "light"
     },
     "output_type": "display_data"
    },
    {
     "name": "stderr",
     "output_type": "stream",
     "text": [
      "/Users/Keith/miniconda3/envs/timer/lib/python3.8/site-packages/pmdarima/utils/visualization.py:219: FutureWarning: the 'unbiased'' keyword is deprecated, use 'adjusted' instead\n",
      "  res = tsaplots.plot_acf(\n"
     ]
    },
    {
     "data": {
      "image/png": "[encoded data removed]",
      "text/plain": [
       "<Figure size 576x432 with 3 Axes>"
      ]
     },
     "metadata": {
      "needs_background": "light"
     },
     "output_type": "display_data"
    }
   ],
   "source": [
    "tsdisplay(race_df2['spd_mph'], lag_max=12)\n",
    "\n",
    "tsdisplay(race_df2['GAP_ft_s'], lag_max=12)\n",
    "\n",
    "X = race_df2[race_df2['is_race']==0][['distance', 'avg_hr','elev_gain']] #, 'avg_stride_length', 'avg_ground_contact_time']]\n",
    "\n",
    "y = race_df2[race_df2['is_race']==0]['spd_ft_s']"
   ]
  },
  {
   "cell_type": "code",
   "execution_count": 49,
   "metadata": {},
   "outputs": [
    {
     "name": "stdout",
     "output_type": "stream",
     "text": [
      "Performing stepwise search to minimize aic\n",
      " ARIMA(2,0,2)(1,0,1)[7] intercept   : AIC=80.384, Time=0.97 sec\n",
      " ARIMA(0,0,0)(0,0,0)[7] intercept   : AIC=74.122, Time=0.07 sec\n",
      " ARIMA(1,0,0)(1,0,0)[7] intercept   : AIC=77.717, Time=0.38 sec\n",
      " ARIMA(0,0,1)(0,0,1)[7] intercept   : AIC=77.780, Time=0.30 sec\n",
      " ARIMA(0,0,0)(0,0,0)[7]             : AIC=72.126, Time=0.16 sec\n",
      " ARIMA(0,0,0)(1,0,0)[7] intercept   : AIC=75.676, Time=0.24 sec\n",
      " ARIMA(0,0,0)(0,0,1)[7] intercept   : AIC=75.622, Time=0.58 sec\n",
      " ARIMA(0,0,0)(1,0,1)[7] intercept   : AIC=77.401, Time=0.72 sec\n",
      " ARIMA(1,0,0)(0,0,0)[7] intercept   : AIC=76.018, Time=0.13 sec\n",
      " ARIMA(0,0,1)(0,0,0)[7] intercept   : AIC=76.045, Time=0.23 sec\n",
      " ARIMA(1,0,1)(0,0,0)[7] intercept   : AIC=78.079, Time=0.13 sec\n",
      "\n",
      "Best model:  ARIMA(0,0,0)(0,0,0)[7]          \n",
      "Total fit time: 3.934 seconds\n"
     ]
    },
    {
     "name": "stderr",
     "output_type": "stream",
     "text": [
      "/Users/Keith/miniconda3/envs/timer/lib/python3.8/site-packages/statsmodels/tsa/base/tsa_model.py:376: ValueWarning: No supported index is available. Prediction results will be given with an integer index beginning at `start`.\n",
      "  warnings.warn('No supported index is available.'\n"
     ]
    },
    {
     "data": {
      "text/plain": [
       "array([12.23321649])"
      ]
     },
     "execution_count": 49,
     "metadata": {},
     "output_type": "execute_result"
    }
   ],
   "source": [
    "model = pmd.auto_arima(y, X=X, m=7, trace=True)\n",
    "\n",
    "preds = model.predict(1, X = race_df2[race_df2['is_race']==1][['distance', 'avg_hr','elev_gain']])#, 1.30, 240]])\n",
    "preds"
   ]
  },
  {
   "cell_type": "code",
   "execution_count": 50,
   "metadata": {},
   "outputs": [
    {
     "data": {
      "text/html": [
       "<div>\n",
       "<style scoped>\n",
       "    .dataframe tbody tr th:only-of-type {\n",
       "        vertical-align: middle;\n",
       "    }\n",
       "\n",
       "    .dataframe tbody tr th {\n",
       "        vertical-align: top;\n",
       "    }\n",
       "\n",
       "    .dataframe thead th {\n",
       "        text-align: right;\n",
       "    }\n",
       "</style>\n",
       "<table border=\"1\" class=\"dataframe\">\n",
       "  <thead>\n",
       "    <tr style=\"text-align: right;\">\n",
       "      <th></th>\n",
       "      <th>distance</th>\n",
       "      <th>avg_hr</th>\n",
       "      <th>elev_gain</th>\n",
       "      <th>spd_ft_s</th>\n",
       "    </tr>\n",
       "    <tr>\n",
       "      <th>date</th>\n",
       "      <th></th>\n",
       "      <th></th>\n",
       "      <th></th>\n",
       "      <th></th>\n",
       "    </tr>\n",
       "  </thead>\n",
       "  <tbody>\n",
       "    <tr>\n",
       "      <th>2017-01-15</th>\n",
       "      <td>26.48</td>\n",
       "      <td>147</td>\n",
       "      <td>210</td>\n",
       "      <td>10.56</td>\n",
       "    </tr>\n",
       "  </tbody>\n",
       "</table>\n",
       "</div>"
      ],
      "text/plain": [
       "            distance  avg_hr  elev_gain  spd_ft_s\n",
       "date                                             \n",
       "2017-01-15     26.48     147        210     10.56"
      ]
     },
     "execution_count": 50,
     "metadata": {},
     "output_type": "execute_result"
    }
   ],
   "source": [
    "race_df2[race_df2['is_race']==1][['distance', 'avg_hr','elev_gain', 'spd_ft_s']]"
   ]
  },
  {
   "cell_type": "markdown",
   "metadata": {},
   "source": [
    "### Race 1"
   ]
  },
  {
   "cell_type": "code",
   "execution_count": 51,
   "metadata": {},
   "outputs": [
    {
     "name": "stdout",
     "output_type": "stream",
     "text": [
      "<class 'numpy.int64'>\n"
     ]
    }
   ],
   "source": [
    "#Let's read in a single csv first:\n",
    "race_df2 = pd.read_csv('./data/races/athlete_1/athlete_1_race_1_3_mo_Running_extra_cols.csv', index_col='date')\n",
    "\n",
    "try:\n",
    "    race_df2['elev_gain'] = race_df2['elev_gain'].str.replace(',', '').astype(float)\n",
    "except:\n",
    "    print(type(race_df2['elev_gain'][0]))\n",
    "\n",
    "\n",
    "try:\n",
    "    race_df2['elev_loss'] = race_df2['elev_loss'].str.replace(',', '').astype(float)\n",
    "except:\n",
    "    print(type(race_df2['elev_loss'][0]))\n",
    "\n",
    "\n",
    "try:\n",
    "    race_df2['calories'] = race_df2['calories'].str.replace(',', '').astype(float)\n",
    "except:\n",
    "    print(race_df2['calories'].info())"
   ]
  },
  {
   "cell_type": "code",
   "execution_count": 63,
   "metadata": {},
   "outputs": [
    {
     "name": "stderr",
     "output_type": "stream",
     "text": [
      "/Users/Keith/miniconda3/envs/timer/lib/python3.8/site-packages/pmdarima/utils/visualization.py:219: FutureWarning: the 'unbiased'' keyword is deprecated, use 'adjusted' instead\n",
      "  res = tsaplots.plot_acf(\n"
     ]
    },
    {
     "data": {
      "image/png": "[encoded data removed]",
      "text/plain": [
       "<Figure size 576x432 with 3 Axes>"
      ]
     },
     "metadata": {
      "needs_background": "light"
     },
     "output_type": "display_data"
    },
    {
     "name": "stderr",
     "output_type": "stream",
     "text": [
      "/Users/Keith/miniconda3/envs/timer/lib/python3.8/site-packages/pmdarima/utils/visualization.py:219: FutureWarning: the 'unbiased'' keyword is deprecated, use 'adjusted' instead\n",
      "  res = tsaplots.plot_acf(\n"
     ]
    },
    {
     "data": {
      "image/png": "[encoded data removed]",
      "text/plain": [
       "<Figure size 576x432 with 3 Axes>"
      ]
     },
     "metadata": {
      "needs_background": "light"
     },
     "output_type": "display_data"
    }
   ],
   "source": [
    "tsdisplay(race_df2['spd_mph'], lag_max=12)\n",
    "\n",
    "tsdisplay(race_df2['GAP_ft_s'], lag_max=12)\n",
    "\n",
    "X = race_df2[race_df2['is_race']==0][['distance', 'avg_hr','elev_gain', 'elev_loss']] #, 'avg_stride_length', 'avg_ground_contact_time']]\n",
    "\n",
    "y = race_df2[race_df2['is_race']==0]['spd_ft_s']"
   ]
  },
  {
   "cell_type": "code",
   "execution_count": 64,
   "metadata": {},
   "outputs": [
    {
     "name": "stdout",
     "output_type": "stream",
     "text": [
      "Performing stepwise search to minimize aic\n",
      " ARIMA(2,0,2)(0,0,0)[0] intercept   : AIC=102.859, Time=0.36 sec\n",
      " ARIMA(0,0,0)(0,0,0)[0] intercept   : AIC=69.484, Time=0.21 sec\n",
      " ARIMA(1,0,0)(0,0,0)[0] intercept   : AIC=92.626, Time=0.16 sec\n",
      " ARIMA(0,0,1)(0,0,0)[0] intercept   : AIC=73.823, Time=0.20 sec\n",
      " ARIMA(0,0,0)(0,0,0)[0]             : AIC=151.515, Time=0.10 sec\n",
      " ARIMA(1,0,1)(0,0,0)[0] intercept   : AIC=73.707, Time=0.23 sec\n",
      "\n",
      "Best model:  ARIMA(0,0,0)(0,0,0)[0] intercept\n",
      "Total fit time: 1.273 seconds\n"
     ]
    },
    {
     "name": "stderr",
     "output_type": "stream",
     "text": [
      "/Users/Keith/miniconda3/envs/timer/lib/python3.8/site-packages/statsmodels/tsa/base/tsa_model.py:376: ValueWarning: No supported index is available. Prediction results will be given with an integer index beginning at `start`.\n",
      "  warnings.warn('No supported index is available.'\n"
     ]
    },
    {
     "data": {
      "text/plain": [
       "array([11.41804417])"
      ]
     },
     "execution_count": 64,
     "metadata": {},
     "output_type": "execute_result"
    }
   ],
   "source": [
    "model = pmd.auto_arima(y, X=X, m=1, trace=True)\n",
    "\n",
    "preds = model.predict(1, X = race_df2[race_df2['is_race']==1][['distance', 'avg_hr','elev_gain', 'elev_loss']])#, 1.30, 240]])\n",
    "preds"
   ]
  },
  {
   "cell_type": "markdown",
   "metadata": {},
   "source": [
    "### Athlete 1 Race 2"
   ]
  },
  {
   "cell_type": "code",
   "execution_count": null,
   "metadata": {},
   "outputs": [],
   "source": [
    "#Clearly this did not work as planned."
   ]
  },
  {
   "cell_type": "code",
   "execution_count": 55,
   "metadata": {},
   "outputs": [
    {
     "name": "stdout",
     "output_type": "stream",
     "text": [
      "<class 'numpy.int64'>\n",
      "<class 'numpy.int64'>\n"
     ]
    }
   ],
   "source": [
    "#Let's read in a single csv first:\n",
    "race_df2 = pd.read_csv('./data/races/athlete_1/athlete_1_race_2_3_mo_Running_extra_cols.csv', index_col='date')\n",
    "\n",
    "try:\n",
    "    race_df2['elev_gain'] = race_df2['elev_gain'].str.replace(',', '').astype(float)\n",
    "except:\n",
    "    print(type(race_df2['elev_gain'][0]))\n",
    "\n",
    "\n",
    "try:\n",
    "    race_df2['elev_loss'] = race_df2['elev_loss'].str.replace(',', '').astype(float)\n",
    "except:\n",
    "    print(type(race_df2['elev_loss'][0]))\n",
    "\n",
    "\n",
    "try:\n",
    "    race_df2['calories'] = race_df2['calories'].str.replace(',', '').astype(float)\n",
    "except:\n",
    "    print(race_df2['calories'].info())"
   ]
  },
  {
   "cell_type": "code",
   "execution_count": 67,
   "metadata": {},
   "outputs": [
    {
     "name": "stderr",
     "output_type": "stream",
     "text": [
      "/Users/Keith/miniconda3/envs/timer/lib/python3.8/site-packages/pmdarima/utils/visualization.py:219: FutureWarning: the 'unbiased'' keyword is deprecated, use 'adjusted' instead\n",
      "  res = tsaplots.plot_acf(\n"
     ]
    },
    {
     "data": {
      "image/png": "[encoded data removed]",
      "text/plain": [
       "<Figure size 576x432 with 3 Axes>"
      ]
     },
     "metadata": {
      "needs_background": "light"
     },
     "output_type": "display_data"
    },
    {
     "name": "stderr",
     "output_type": "stream",
     "text": [
      "/Users/Keith/miniconda3/envs/timer/lib/python3.8/site-packages/pmdarima/utils/visualization.py:219: FutureWarning: the 'unbiased'' keyword is deprecated, use 'adjusted' instead\n",
      "  res = tsaplots.plot_acf(\n"
     ]
    },
    {
     "data": {
      "image/png": "[encoded data removed]",
      "text/plain": [
       "<Figure size 576x432 with 3 Axes>"
      ]
     },
     "metadata": {
      "needs_background": "light"
     },
     "output_type": "display_data"
    }
   ],
   "source": [
    "tsdisplay(race_df2['spd_mph'], lag_max=12)\n",
    "\n",
    "tsdisplay(race_df2['GAP_ft_s'], lag_max=12)\n",
    "\n",
    "X = race_df2[race_df2['is_race']==0][['distance', 'calories','elev_gain', 'elev_loss', 'avg_run_cadence']] #, 'avg_stride_length', 'avg_ground_contact_time']]\n",
    "\n",
    "y = race_df2[race_df2['is_race']==0]['spd_ft_s']"
   ]
  },
  {
   "cell_type": "code",
   "execution_count": 71,
   "metadata": {},
   "outputs": [
    {
     "data": {
      "text/plain": [
       "date\n",
       "2019-06-02    172\n",
       "Name: avg_run_cadence, dtype: int64"
      ]
     },
     "execution_count": 71,
     "metadata": {},
     "output_type": "execute_result"
    }
   ],
   "source": [
    "race_df2[race_df2['is_race']==1]['avg_run_cadence']"
   ]
  },
  {
   "cell_type": "code",
   "execution_count": null,
   "metadata": {},
   "outputs": [],
   "source": [
    "#Interesting, on race day the athlete ups their cadence compared to the average."
   ]
  },
  {
   "cell_type": "code",
   "execution_count": 68,
   "metadata": {},
   "outputs": [
    {
     "name": "stdout",
     "output_type": "stream",
     "text": [
      "Performing stepwise search to minimize aic\n",
      " ARIMA(2,0,2)(0,0,0)[0] intercept   : AIC=33.614, Time=0.23 sec\n",
      " ARIMA(0,0,0)(0,0,0)[0] intercept   : AIC=19.454, Time=0.17 sec\n",
      " ARIMA(1,0,0)(0,0,0)[0] intercept   : AIC=21.448, Time=0.14 sec\n",
      " ARIMA(0,0,1)(0,0,0)[0] intercept   : AIC=21.616, Time=0.17 sec\n",
      " ARIMA(0,0,0)(0,0,0)[0]             : AIC=17.758, Time=0.22 sec\n",
      " ARIMA(1,0,1)(0,0,0)[0] intercept   : AIC=23.513, Time=0.24 sec\n",
      "\n",
      "Best model:  ARIMA(0,0,0)(0,0,0)[0]          \n",
      "Total fit time: 1.170 seconds\n"
     ]
    },
    {
     "name": "stderr",
     "output_type": "stream",
     "text": [
      "/Users/Keith/miniconda3/envs/timer/lib/python3.8/site-packages/statsmodels/tsa/base/tsa_model.py:376: ValueWarning: No supported index is available. Prediction results will be given with an integer index beginning at `start`.\n",
      "  warnings.warn('No supported index is available.'\n"
     ]
    },
    {
     "data": {
      "text/plain": [
       "array([11.47014765])"
      ]
     },
     "execution_count": 68,
     "metadata": {},
     "output_type": "execute_result"
    }
   ],
   "source": [
    "model = pmd.auto_arima(y, X=X, m=1, trace=True)\n",
    "\n",
    "preds = model.predict(1, X = race_df2[race_df2['is_race']==1][['distance', 'calories','elev_gain', 'elev_loss', 'avg_run_cadence']])#, 1.30, 240]])\n",
    "preds"
   ]
  },
  {
   "cell_type": "markdown",
   "metadata": {},
   "source": [
    "The actual race data below:"
   ]
  },
  {
   "cell_type": "code",
   "execution_count": 80,
   "metadata": {},
   "outputs": [
    {
     "data": {
      "text/html": [
       "<div>\n",
       "<style scoped>\n",
       "    .dataframe tbody tr th:only-of-type {\n",
       "        vertical-align: middle;\n",
       "    }\n",
       "\n",
       "    .dataframe tbody tr th {\n",
       "        vertical-align: top;\n",
       "    }\n",
       "\n",
       "    .dataframe thead th {\n",
       "        text-align: right;\n",
       "    }\n",
       "</style>\n",
       "<table border=\"1\" class=\"dataframe\">\n",
       "  <thead>\n",
       "    <tr style=\"text-align: right;\">\n",
       "      <th></th>\n",
       "      <th>spd_ft_s</th>\n",
       "      <th>distance</th>\n",
       "      <th>calories</th>\n",
       "      <th>elev_gain</th>\n",
       "      <th>elev_loss</th>\n",
       "      <th>avg_hr</th>\n",
       "    </tr>\n",
       "    <tr>\n",
       "      <th>date</th>\n",
       "      <th></th>\n",
       "      <th></th>\n",
       "      <th></th>\n",
       "      <th></th>\n",
       "      <th></th>\n",
       "      <th></th>\n",
       "    </tr>\n",
       "  </thead>\n",
       "  <tbody>\n",
       "    <tr>\n",
       "      <th>2019-06-02</th>\n",
       "      <td>11.478261</td>\n",
       "      <td>13.14</td>\n",
       "      <td>1766.0</td>\n",
       "      <td>354</td>\n",
       "      <td>604</td>\n",
       "      <td>0</td>\n",
       "    </tr>\n",
       "  </tbody>\n",
       "</table>\n",
       "</div>"
      ],
      "text/plain": [
       "             spd_ft_s  distance  calories  elev_gain  elev_loss  avg_hr\n",
       "date                                                                   \n",
       "2019-06-02  11.478261     13.14    1766.0        354        604       0"
      ]
     },
     "execution_count": 80,
     "metadata": {},
     "output_type": "execute_result"
    }
   ],
   "source": [
    "race_df2[race_df2['is_race']==1][['spd_ft_s', 'distance', 'calories', 'elev_gain', 'elev_loss', 'avg_hr']]"
   ]
  },
  {
   "cell_type": "code",
   "execution_count": null,
   "metadata": {},
   "outputs": [],
   "source": [
    "#I think this is too much bleed-in. The race cadence can be estimated, but we shouldn't use the\n",
    "#actual race cadence to predict with."
   ]
  },
  {
   "cell_type": "code",
   "execution_count": 79,
   "metadata": {},
   "outputs": [
    {
     "data": {
      "text/plain": [
       "167.0"
      ]
     },
     "execution_count": 79,
     "metadata": {},
     "output_type": "execute_result"
    }
   ],
   "source": [
    "#Looking at the cadence in training:\n",
    "race_df2[(race_df2['is_race']==0) & (race_df2['distance']>10)]['avg_run_cadence'].mean()"
   ]
  },
  {
   "cell_type": "code",
   "execution_count": 85,
   "metadata": {},
   "outputs": [
    {
     "data": {
      "text/plain": [
       "125.9140081664164"
      ]
     },
     "execution_count": 85,
     "metadata": {},
     "output_type": "execute_result"
    }
   ],
   "source": [
    "#Looking at the average calories/mile on long runs:\n",
    "(race_df2[(race_df2['is_race']==0) & (race_df2['distance']>10)]['calories']/race_df2[(race_df2['is_race']==0) & (race_df2['distance']>10)]['distance']).mean()"
   ]
  },
  {
   "cell_type": "code",
   "execution_count": null,
   "metadata": {},
   "outputs": [],
   "source": [
    "#so for a 13.1, we would expect: 1638 calories"
   ]
  },
  {
   "cell_type": "code",
   "execution_count": 86,
   "metadata": {},
   "outputs": [
    {
     "name": "stderr",
     "output_type": "stream",
     "text": [
      "/Users/Keith/miniconda3/envs/timer/lib/python3.8/site-packages/statsmodels/tsa/base/tsa_model.py:376: ValueWarning: No supported index is available. Prediction results will be given with an integer index beginning at `start`.\n",
      "  warnings.warn('No supported index is available.'\n"
     ]
    },
    {
     "data": {
      "text/plain": [
       "array([11.18232055])"
      ]
     },
     "execution_count": 86,
     "metadata": {},
     "output_type": "execute_result"
    }
   ],
   "source": [
    "model.predict(1, X = [[13.14, 1638, 354, 604, 167]])"
   ]
  },
  {
   "cell_type": "code",
   "execution_count": 83,
   "metadata": {},
   "outputs": [],
   "source": [
    "#So what I am learning is, if we have a predicted heart rate or target heart rate, and a cadence,\n",
    "#which we can pull from the training that is near the target race distance ( 10 miles for half,\n",
    "#20 miles for marathon probably) we can get within about :15s/mile"
   ]
  },
  {
   "cell_type": "markdown",
   "metadata": {},
   "source": [
    "## Athlete 2"
   ]
  },
  {
   "cell_type": "markdown",
   "metadata": {},
   "source": [
    "### Race 5"
   ]
  },
  {
   "cell_type": "code",
   "execution_count": 94,
   "metadata": {},
   "outputs": [
    {
     "name": "stdout",
     "output_type": "stream",
     "text": [
      "<class 'numpy.int64'>\n",
      "<class 'numpy.int64'>\n"
     ]
    }
   ],
   "source": [
    "#Let's read in a single csv first:\n",
    "race_df2 = pd.read_csv('./data/races/athlete_2/athlete_2_race_5_3_mo_Running_extra_cols.csv', index_col='date')\n",
    "\n",
    "try:\n",
    "    race_df2['elev_gain'] = race_df2['elev_gain'].str.replace(',', '').astype(float)\n",
    "except:\n",
    "    print(type(race_df2['elev_gain'][0]))\n",
    "\n",
    "\n",
    "try:\n",
    "    race_df2['elev_loss'] = race_df2['elev_loss'].str.replace(',', '').astype(float)\n",
    "except:\n",
    "    print(type(race_df2['elev_loss'][0]))\n",
    "\n",
    "\n",
    "try:\n",
    "    race_df2['calories'] = race_df2['calories'].str.replace(',', '').astype(float)\n",
    "except:\n",
    "    print(race_df2['calories'].info())"
   ]
  },
  {
   "cell_type": "code",
   "execution_count": 95,
   "metadata": {},
   "outputs": [
    {
     "name": "stderr",
     "output_type": "stream",
     "text": [
      "/Users/Keith/miniconda3/envs/timer/lib/python3.8/site-packages/pmdarima/utils/visualization.py:219: FutureWarning: the 'unbiased'' keyword is deprecated, use 'adjusted' instead\n",
      "  res = tsaplots.plot_acf(\n"
     ]
    },
    {
     "data": {
      "image/png": "[encoded data removed]",
      "text/plain": [
       "<Figure size 576x432 with 3 Axes>"
      ]
     },
     "metadata": {
      "needs_background": "light"
     },
     "output_type": "display_data"
    },
    {
     "name": "stderr",
     "output_type": "stream",
     "text": [
      "/Users/Keith/miniconda3/envs/timer/lib/python3.8/site-packages/pmdarima/utils/visualization.py:219: FutureWarning: the 'unbiased'' keyword is deprecated, use 'adjusted' instead\n",
      "  res = tsaplots.plot_acf(\n"
     ]
    },
    {
     "data": {
      "image/png": "[encoded data removed]",
      "text/plain": [
       "<Figure size 576x432 with 3 Axes>"
      ]
     },
     "metadata": {
      "needs_background": "light"
     },
     "output_type": "display_data"
    }
   ],
   "source": [
    "tsdisplay(race_df2['spd_mph'], lag_max=14)\n",
    "\n",
    "tsdisplay(race_df2['GAP_ft_s'], lag_max=14)\n",
    "\n",
    "X = race_df2[race_df2['race']==0][['distance', 'avg_hr','elev_gain', 'elev_loss']] #, 'avg_stride_length', 'avg_ground_contact_time']]\n",
    "\n",
    "y = race_df2[race_df2['race']==0]['spd_ft_s']"
   ]
  },
  {
   "cell_type": "code",
   "execution_count": 96,
   "metadata": {},
   "outputs": [
    {
     "name": "stdout",
     "output_type": "stream",
     "text": [
      "Performing stepwise search to minimize aic\n",
      " ARIMA(2,0,2)(1,0,1)[7] intercept   : AIC=122.564, Time=0.72 sec\n",
      " ARIMA(0,0,0)(0,0,0)[7] intercept   : AIC=106.353, Time=0.20 sec\n",
      " ARIMA(1,0,0)(1,0,0)[7] intercept   : AIC=116.207, Time=0.72 sec\n",
      " ARIMA(0,0,1)(0,0,1)[7] intercept   : AIC=115.518, Time=0.57 sec\n",
      " ARIMA(0,0,0)(0,0,0)[7]             : AIC=112.753, Time=0.20 sec\n",
      " ARIMA(0,0,0)(1,0,0)[7] intercept   : AIC=112.341, Time=0.46 sec\n",
      " ARIMA(0,0,0)(0,0,1)[7] intercept   : AIC=113.126, Time=0.45 sec\n",
      " ARIMA(0,0,0)(1,0,1)[7] intercept   : AIC=117.673, Time=0.48 sec\n",
      " ARIMA(1,0,0)(0,0,0)[7] intercept   : AIC=115.657, Time=0.29 sec\n",
      " ARIMA(0,0,1)(0,0,0)[7] intercept   : AIC=115.746, Time=0.13 sec\n",
      " ARIMA(1,0,1)(0,0,0)[7] intercept   : AIC=111.853, Time=0.24 sec\n",
      "\n",
      "Best model:  ARIMA(0,0,0)(0,0,0)[7] intercept\n",
      "Total fit time: 4.479 seconds\n"
     ]
    },
    {
     "name": "stderr",
     "output_type": "stream",
     "text": [
      "/Users/Keith/miniconda3/envs/timer/lib/python3.8/site-packages/statsmodels/tsa/base/tsa_model.py:376: ValueWarning: No supported index is available. Prediction results will be given with an integer index beginning at `start`.\n",
      "  warnings.warn('No supported index is available.'\n"
     ]
    },
    {
     "data": {
      "text/plain": [
       "array([12.15430104])"
      ]
     },
     "execution_count": 96,
     "metadata": {},
     "output_type": "execute_result"
    }
   ],
   "source": [
    "model = pmd.auto_arima(y, X=X, m=7, trace=True)\n",
    "\n",
    "preds = model.predict(1, X = race_df2[race_df2['race']==1][['distance', 'avg_hr','elev_gain', 'elev_loss']])#, 1.30, 240]])\n",
    "preds"
   ]
  },
  {
   "cell_type": "code",
   "execution_count": 97,
   "metadata": {},
   "outputs": [
    {
     "data": {
      "text/html": [
       "<div>\n",
       "<style scoped>\n",
       "    .dataframe tbody tr th:only-of-type {\n",
       "        vertical-align: middle;\n",
       "    }\n",
       "\n",
       "    .dataframe tbody tr th {\n",
       "        vertical-align: top;\n",
       "    }\n",
       "\n",
       "    .dataframe thead th {\n",
       "        text-align: right;\n",
       "    }\n",
       "</style>\n",
       "<table border=\"1\" class=\"dataframe\">\n",
       "  <thead>\n",
       "    <tr style=\"text-align: right;\">\n",
       "      <th></th>\n",
       "      <th>spd_ft_s</th>\n",
       "      <th>distance</th>\n",
       "      <th>avg_hr</th>\n",
       "      <th>elev_gain</th>\n",
       "      <th>elev_loss</th>\n",
       "    </tr>\n",
       "    <tr>\n",
       "      <th>date</th>\n",
       "      <th></th>\n",
       "      <th></th>\n",
       "      <th></th>\n",
       "      <th></th>\n",
       "      <th></th>\n",
       "    </tr>\n",
       "  </thead>\n",
       "  <tbody>\n",
       "    <tr>\n",
       "      <th>2018-11-24</th>\n",
       "      <td>14.27027</td>\n",
       "      <td>3.09</td>\n",
       "      <td>176</td>\n",
       "      <td>49</td>\n",
       "      <td>49</td>\n",
       "    </tr>\n",
       "  </tbody>\n",
       "</table>\n",
       "</div>"
      ],
      "text/plain": [
       "            spd_ft_s  distance  avg_hr  elev_gain  elev_loss\n",
       "date                                                        \n",
       "2018-11-24  14.27027      3.09     176         49         49"
      ]
     },
     "execution_count": 97,
     "metadata": {},
     "output_type": "execute_result"
    }
   ],
   "source": [
    "race_df2[race_df2['race']==1][['spd_ft_s', 'distance', 'avg_hr','elev_gain', 'elev_loss']]"
   ]
  },
  {
   "cell_type": "code",
   "execution_count": null,
   "metadata": {},
   "outputs": [],
   "source": [
    "#This athlete is a lot faster than their training lets on."
   ]
  },
  {
   "cell_type": "markdown",
   "metadata": {},
   "source": [
    "## Athlete 10"
   ]
  },
  {
   "cell_type": "markdown",
   "metadata": {},
   "source": [
    "### Race 0"
   ]
  },
  {
   "cell_type": "code",
   "execution_count": 98,
   "metadata": {},
   "outputs": [
    {
     "name": "stdout",
     "output_type": "stream",
     "text": [
      "<class 'numpy.int64'>\n",
      "<class 'numpy.int64'>\n"
     ]
    }
   ],
   "source": [
    "#Let's read in a single csv first:\n",
    "race_df2 = pd.read_csv('./data/races/athlete_10/athlete_10_race_0_3_mo_Running_extra_cols.csv', index_col='date')\n",
    "\n",
    "try:\n",
    "    race_df2['elev_gain'] = race_df2['elev_gain'].str.replace(',', '').astype(float)\n",
    "except:\n",
    "    print(type(race_df2['elev_gain'][0]))\n",
    "\n",
    "\n",
    "try:\n",
    "    race_df2['elev_loss'] = race_df2['elev_loss'].str.replace(',', '').astype(float)\n",
    "except:\n",
    "    print(type(race_df2['elev_loss'][0]))\n",
    "\n",
    "\n",
    "try:\n",
    "    race_df2['calories'] = race_df2['calories'].str.replace(',', '').astype(float)\n",
    "except:\n",
    "    print(race_df2['calories'].info())"
   ]
  },
  {
   "cell_type": "code",
   "execution_count": 104,
   "metadata": {},
   "outputs": [
    {
     "name": "stderr",
     "output_type": "stream",
     "text": [
      "/Users/Keith/miniconda3/envs/timer/lib/python3.8/site-packages/pmdarima/utils/visualization.py:219: FutureWarning: the 'unbiased'' keyword is deprecated, use 'adjusted' instead\n",
      "  res = tsaplots.plot_acf(\n"
     ]
    },
    {
     "data": {
      "image/png": "[encoded data removed]",
      "text/plain": [
       "<Figure size 576x432 with 3 Axes>"
      ]
     },
     "metadata": {
      "needs_background": "light"
     },
     "output_type": "display_data"
    },
    {
     "name": "stderr",
     "output_type": "stream",
     "text": [
      "/Users/Keith/miniconda3/envs/timer/lib/python3.8/site-packages/pmdarima/utils/visualization.py:219: FutureWarning: the 'unbiased'' keyword is deprecated, use 'adjusted' instead\n",
      "  res = tsaplots.plot_acf(\n"
     ]
    },
    {
     "data": {
      "image/png": "[encoded data removed]",
      "text/plain": [
       "<Figure size 576x432 with 3 Axes>"
      ]
     },
     "metadata": {
      "needs_background": "light"
     },
     "output_type": "display_data"
    }
   ],
   "source": [
    "tsdisplay(race_df2['spd_mph'], lag_max=14)\n",
    "\n",
    "tsdisplay(race_df2['GAP_ft_s'], lag_max=14)\n",
    "\n",
    "X = race_df2[race_df2['is_race']==0][['distance', 'avg_hr','elev_gain', 'elev_loss', 'avg_run_cadence']] #, 'avg_stride_length', 'avg_ground_contact_time']]\n",
    "\n",
    "y = race_df2[race_df2['is_race']==0]['spd_ft_s']"
   ]
  },
  {
   "cell_type": "code",
   "execution_count": 107,
   "metadata": {},
   "outputs": [
    {
     "data": {
      "text/plain": [
       "155.43478260869566"
      ]
     },
     "execution_count": 107,
     "metadata": {},
     "output_type": "execute_result"
    }
   ],
   "source": [
    "#Lets find the average cadence for long runs:\n",
    "race_df2[race_df2['is_race']==0]['avg_run_cadence'].mean()"
   ]
  },
  {
   "cell_type": "code",
   "execution_count": 108,
   "metadata": {},
   "outputs": [
    {
     "data": {
      "text/plain": [
       "150.8695652173913"
      ]
     },
     "execution_count": 108,
     "metadata": {},
     "output_type": "execute_result"
    }
   ],
   "source": [
    "#And heart rate:\n",
    "race_df2[race_df2['is_race']==0]['avg_hr'].mean()"
   ]
  },
  {
   "cell_type": "code",
   "execution_count": 106,
   "metadata": {},
   "outputs": [
    {
     "data": {
      "text/html": [
       "<div>\n",
       "<style scoped>\n",
       "    .dataframe tbody tr th:only-of-type {\n",
       "        vertical-align: middle;\n",
       "    }\n",
       "\n",
       "    .dataframe tbody tr th {\n",
       "        vertical-align: top;\n",
       "    }\n",
       "\n",
       "    .dataframe thead th {\n",
       "        text-align: right;\n",
       "    }\n",
       "</style>\n",
       "<table border=\"1\" class=\"dataframe\">\n",
       "  <thead>\n",
       "    <tr style=\"text-align: right;\">\n",
       "      <th></th>\n",
       "      <th>distance</th>\n",
       "      <th>avg_hr</th>\n",
       "      <th>elev_gain</th>\n",
       "      <th>elev_loss</th>\n",
       "      <th>avg_run_cadence</th>\n",
       "    </tr>\n",
       "    <tr>\n",
       "      <th>date</th>\n",
       "      <th></th>\n",
       "      <th></th>\n",
       "      <th></th>\n",
       "      <th></th>\n",
       "      <th></th>\n",
       "    </tr>\n",
       "  </thead>\n",
       "  <tbody>\n",
       "    <tr>\n",
       "      <th>2018-10-27</th>\n",
       "      <td>13.09</td>\n",
       "      <td>171</td>\n",
       "      <td>594</td>\n",
       "      <td>896</td>\n",
       "      <td>159</td>\n",
       "    </tr>\n",
       "  </tbody>\n",
       "</table>\n",
       "</div>"
      ],
      "text/plain": [
       "            distance  avg_hr  elev_gain  elev_loss  avg_run_cadence\n",
       "date                                                               \n",
       "2018-10-27     13.09     171        594        896              159"
      ]
     },
     "execution_count": 106,
     "metadata": {},
     "output_type": "execute_result"
    }
   ],
   "source": [
    "race_df2[race_df2['is_race']==1][['distance', 'avg_hr','elev_gain', 'elev_loss', 'avg_run_cadence']]"
   ]
  },
  {
   "cell_type": "code",
   "execution_count": 105,
   "metadata": {},
   "outputs": [
    {
     "name": "stdout",
     "output_type": "stream",
     "text": [
      "Performing stepwise search to minimize aic\n",
      " ARIMA(2,0,2)(1,0,1)[7] intercept   : AIC=27.328, Time=0.87 sec\n",
      " ARIMA(0,0,0)(0,0,0)[7] intercept   : AIC=31.058, Time=0.09 sec\n",
      " ARIMA(1,0,0)(1,0,0)[7] intercept   : AIC=20.618, Time=0.48 sec\n",
      " ARIMA(0,0,1)(0,0,1)[7] intercept   : AIC=19.627, Time=0.80 sec\n",
      " ARIMA(0,0,0)(0,0,0)[7]             : AIC=29.064, Time=0.14 sec\n",
      " ARIMA(0,0,1)(0,0,0)[7] intercept   : AIC=17.670, Time=0.31 sec\n",
      " ARIMA(0,0,1)(1,0,0)[7] intercept   : AIC=18.228, Time=0.55 sec\n",
      " ARIMA(0,0,1)(1,0,1)[7] intercept   : AIC=21.562, Time=0.81 sec\n",
      " ARIMA(1,0,1)(0,0,0)[7] intercept   : AIC=20.008, Time=0.23 sec\n",
      " ARIMA(0,0,2)(0,0,0)[7] intercept   : AIC=18.389, Time=0.22 sec\n",
      " ARIMA(1,0,0)(0,0,0)[7] intercept   : AIC=19.572, Time=0.16 sec\n",
      " ARIMA(1,0,2)(0,0,0)[7] intercept   : AIC=22.025, Time=0.31 sec\n",
      " ARIMA(0,0,1)(0,0,0)[7]             : AIC=16.010, Time=0.15 sec\n",
      " ARIMA(0,0,1)(1,0,0)[7]             : AIC=16.528, Time=0.70 sec\n",
      " ARIMA(0,0,1)(0,0,1)[7]             : AIC=17.943, Time=1.07 sec\n",
      " ARIMA(0,0,1)(1,0,1)[7]             : AIC=19.869, Time=1.05 sec\n",
      " ARIMA(1,0,1)(0,0,0)[7]             : AIC=17.445, Time=0.41 sec\n",
      " ARIMA(0,0,2)(0,0,0)[7]             : AIC=17.514, Time=0.18 sec\n",
      " ARIMA(1,0,0)(0,0,0)[7]             : AIC=17.590, Time=0.14 sec\n",
      " ARIMA(1,0,2)(0,0,0)[7]             : AIC=19.931, Time=0.39 sec\n",
      "\n",
      "Best model:  ARIMA(0,0,1)(0,0,0)[7]          \n",
      "Total fit time: 9.107 seconds\n"
     ]
    },
    {
     "name": "stderr",
     "output_type": "stream",
     "text": [
      "/Users/Keith/miniconda3/envs/timer/lib/python3.8/site-packages/statsmodels/tsa/base/tsa_model.py:376: ValueWarning: No supported index is available. Prediction results will be given with an integer index beginning at `start`.\n",
      "  warnings.warn('No supported index is available.'\n"
     ]
    },
    {
     "data": {
      "text/plain": [
       "array([7.99719228])"
      ]
     },
     "execution_count": 105,
     "metadata": {},
     "output_type": "execute_result"
    }
   ],
   "source": [
    "model = pmd.auto_arima(y, X=X, m=7, trace=True)\n",
    "\n",
    "preds = model.predict(1, X = race_df2[race_df2['is_race']==1][['distance', 'avg_hr','elev_gain', 'elev_loss', 'avg_run_cadence']])#, 1.30, 240]])\n",
    "preds"
   ]
  },
  {
   "cell_type": "code",
   "execution_count": 102,
   "metadata": {},
   "outputs": [
    {
     "data": {
      "text/html": [
       "<div>\n",
       "<style scoped>\n",
       "    .dataframe tbody tr th:only-of-type {\n",
       "        vertical-align: middle;\n",
       "    }\n",
       "\n",
       "    .dataframe tbody tr th {\n",
       "        vertical-align: top;\n",
       "    }\n",
       "\n",
       "    .dataframe thead th {\n",
       "        text-align: right;\n",
       "    }\n",
       "</style>\n",
       "<table border=\"1\" class=\"dataframe\">\n",
       "  <thead>\n",
       "    <tr style=\"text-align: right;\">\n",
       "      <th></th>\n",
       "      <th>spd_ft_s</th>\n",
       "      <th>distance</th>\n",
       "      <th>avg_hr</th>\n",
       "      <th>elev_gain</th>\n",
       "      <th>elev_loss</th>\n",
       "    </tr>\n",
       "    <tr>\n",
       "      <th>date</th>\n",
       "      <th></th>\n",
       "      <th></th>\n",
       "      <th></th>\n",
       "      <th></th>\n",
       "      <th></th>\n",
       "    </tr>\n",
       "  </thead>\n",
       "  <tbody>\n",
       "    <tr>\n",
       "      <th>2018-10-27</th>\n",
       "      <td>7.833828</td>\n",
       "      <td>13.09</td>\n",
       "      <td>171</td>\n",
       "      <td>594</td>\n",
       "      <td>896</td>\n",
       "    </tr>\n",
       "  </tbody>\n",
       "</table>\n",
       "</div>"
      ],
      "text/plain": [
       "            spd_ft_s  distance  avg_hr  elev_gain  elev_loss\n",
       "date                                                        \n",
       "2018-10-27  7.833828     13.09     171        594        896"
      ]
     },
     "execution_count": 102,
     "metadata": {},
     "output_type": "execute_result"
    }
   ],
   "source": [
    "race_df2[race_df2['is_race']==1][['spd_ft_s','distance', 'avg_hr','elev_gain', 'elev_loss']]"
   ]
  },
  {
   "cell_type": "code",
   "execution_count": 110,
   "metadata": {},
   "outputs": [
    {
     "name": "stderr",
     "output_type": "stream",
     "text": [
      "/Users/Keith/miniconda3/envs/timer/lib/python3.8/site-packages/statsmodels/tsa/base/tsa_model.py:376: ValueWarning: No supported index is available. Prediction results will be given with an integer index beginning at `start`.\n",
      "  warnings.warn('No supported index is available.'\n"
     ]
    }
   ],
   "source": [
    "preds2 = model.predict(1, X = [[13.1, 150, 594, 896, 159]])"
   ]
  },
  {
   "cell_type": "code",
   "execution_count": 111,
   "metadata": {},
   "outputs": [
    {
     "data": {
      "text/plain": [
       "array([7.649452])"
      ]
     },
     "execution_count": 111,
     "metadata": {},
     "output_type": "execute_result"
    }
   ],
   "source": [
    "preds2"
   ]
  },
  {
   "cell_type": "markdown",
   "metadata": {},
   "source": [
    "## Race 1"
   ]
  },
  {
   "cell_type": "code",
   "execution_count": 112,
   "metadata": {},
   "outputs": [
    {
     "name": "stdout",
     "output_type": "stream",
     "text": [
      "<class 'numpy.int64'>\n",
      "<class 'numpy.int64'>\n"
     ]
    }
   ],
   "source": [
    "#Let's read in a single csv first:\n",
    "race_df2 = pd.read_csv('./data/races/athlete_10/athlete_10_race_1_3_mo_Running_extra_cols.csv', index_col='date')\n",
    "\n",
    "try:\n",
    "    race_df2['elev_gain'] = race_df2['elev_gain'].str.replace(',', '').astype(float)\n",
    "except:\n",
    "    print(type(race_df2['elev_gain'][0]))\n",
    "\n",
    "\n",
    "try:\n",
    "    race_df2['elev_loss'] = race_df2['elev_loss'].str.replace(',', '').astype(float)\n",
    "except:\n",
    "    print(type(race_df2['elev_loss'][0]))\n",
    "\n",
    "\n",
    "try:\n",
    "    race_df2['calories'] = race_df2['calories'].str.replace(',', '').astype(float)\n",
    "except:\n",
    "    print(race_df2['calories'].info())"
   ]
  },
  {
   "cell_type": "code",
   "execution_count": 113,
   "metadata": {},
   "outputs": [
    {
     "name": "stderr",
     "output_type": "stream",
     "text": [
      "/Users/Keith/miniconda3/envs/timer/lib/python3.8/site-packages/pmdarima/utils/visualization.py:219: FutureWarning: the 'unbiased'' keyword is deprecated, use 'adjusted' instead\n",
      "  res = tsaplots.plot_acf(\n"
     ]
    },
    {
     "data": {
      "image/png": "[encoded data removed]",
      "text/plain": [
       "<Figure size 576x432 with 3 Axes>"
      ]
     },
     "metadata": {
      "needs_background": "light"
     },
     "output_type": "display_data"
    },
    {
     "name": "stderr",
     "output_type": "stream",
     "text": [
      "/Users/Keith/miniconda3/envs/timer/lib/python3.8/site-packages/pmdarima/utils/visualization.py:219: FutureWarning: the 'unbiased'' keyword is deprecated, use 'adjusted' instead\n",
      "  res = tsaplots.plot_acf(\n"
     ]
    },
    {
     "data": {
      "image/png": "[encoded data removed]",
      "text/plain": [
       "<Figure size 576x432 with 3 Axes>"
      ]
     },
     "metadata": {
      "needs_background": "light"
     },
     "output_type": "display_data"
    }
   ],
   "source": [
    "tsdisplay(race_df2['spd_mph'], lag_max=14)\n",
    "\n",
    "tsdisplay(race_df2['GAP_ft_s'], lag_max=14)\n",
    "\n",
    "X = race_df2[race_df2['is_race']==0][['distance', 'avg_hr','elev_gain', 'elev_loss', 'avg_run_cadence']] #, 'avg_stride_length', 'avg_ground_contact_time']]\n",
    "\n",
    "y = race_df2[race_df2['is_race']==0]['spd_ft_s']"
   ]
  },
  {
   "cell_type": "code",
   "execution_count": 114,
   "metadata": {},
   "outputs": [
    {
     "data": {
      "text/plain": [
       "155.0"
      ]
     },
     "execution_count": 114,
     "metadata": {},
     "output_type": "execute_result"
    }
   ],
   "source": [
    "#Lets find the average cadence for long runs:\n",
    "avg_cadence = race_df2[race_df2['is_race']==0]['avg_run_cadence'].mean()\n",
    "avg_cadence"
   ]
  },
  {
   "cell_type": "code",
   "execution_count": 115,
   "metadata": {},
   "outputs": [
    {
     "data": {
      "text/plain": [
       "149.15384615384616"
      ]
     },
     "execution_count": 115,
     "metadata": {},
     "output_type": "execute_result"
    }
   ],
   "source": [
    "#And heart rate:\n",
    "avg_hr = race_df2[race_df2['is_race']==0]['avg_hr'].mean()\n",
    "avg_hr"
   ]
  },
  {
   "cell_type": "code",
   "execution_count": 116,
   "metadata": {},
   "outputs": [
    {
     "data": {
      "text/html": [
       "<div>\n",
       "<style scoped>\n",
       "    .dataframe tbody tr th:only-of-type {\n",
       "        vertical-align: middle;\n",
       "    }\n",
       "\n",
       "    .dataframe tbody tr th {\n",
       "        vertical-align: top;\n",
       "    }\n",
       "\n",
       "    .dataframe thead th {\n",
       "        text-align: right;\n",
       "    }\n",
       "</style>\n",
       "<table border=\"1\" class=\"dataframe\">\n",
       "  <thead>\n",
       "    <tr style=\"text-align: right;\">\n",
       "      <th></th>\n",
       "      <th>distance</th>\n",
       "      <th>avg_hr</th>\n",
       "      <th>elev_gain</th>\n",
       "      <th>elev_loss</th>\n",
       "      <th>avg_run_cadence</th>\n",
       "    </tr>\n",
       "    <tr>\n",
       "      <th>date</th>\n",
       "      <th></th>\n",
       "      <th></th>\n",
       "      <th></th>\n",
       "      <th></th>\n",
       "      <th></th>\n",
       "    </tr>\n",
       "  </thead>\n",
       "  <tbody>\n",
       "    <tr>\n",
       "      <th>2018-10-27</th>\n",
       "      <td>13.09</td>\n",
       "      <td>171</td>\n",
       "      <td>594</td>\n",
       "      <td>896</td>\n",
       "      <td>159</td>\n",
       "    </tr>\n",
       "    <tr>\n",
       "      <th>2018-11-22</th>\n",
       "      <td>13.43</td>\n",
       "      <td>164</td>\n",
       "      <td>643</td>\n",
       "      <td>955</td>\n",
       "      <td>149</td>\n",
       "    </tr>\n",
       "  </tbody>\n",
       "</table>\n",
       "</div>"
      ],
      "text/plain": [
       "            distance  avg_hr  elev_gain  elev_loss  avg_run_cadence\n",
       "date                                                               \n",
       "2018-10-27     13.09     171        594        896              159\n",
       "2018-11-22     13.43     164        643        955              149"
      ]
     },
     "execution_count": 116,
     "metadata": {},
     "output_type": "execute_result"
    }
   ],
   "source": [
    "race_df2[race_df2['is_race']==1][['distance', 'avg_hr','elev_gain', 'elev_loss', 'avg_run_cadence']]"
   ]
  },
  {
   "cell_type": "code",
   "execution_count": 117,
   "metadata": {},
   "outputs": [
    {
     "data": {
      "text/html": [
       "<div>\n",
       "<style scoped>\n",
       "    .dataframe tbody tr th:only-of-type {\n",
       "        vertical-align: middle;\n",
       "    }\n",
       "\n",
       "    .dataframe tbody tr th {\n",
       "        vertical-align: top;\n",
       "    }\n",
       "\n",
       "    .dataframe thead th {\n",
       "        text-align: right;\n",
       "    }\n",
       "</style>\n",
       "<table border=\"1\" class=\"dataframe\">\n",
       "  <thead>\n",
       "    <tr style=\"text-align: right;\">\n",
       "      <th></th>\n",
       "      <th>distance</th>\n",
       "      <th>avg_hr</th>\n",
       "      <th>elev_gain</th>\n",
       "      <th>elev_loss</th>\n",
       "      <th>avg_run_cadence</th>\n",
       "    </tr>\n",
       "    <tr>\n",
       "      <th>date</th>\n",
       "      <th></th>\n",
       "      <th></th>\n",
       "      <th></th>\n",
       "      <th></th>\n",
       "      <th></th>\n",
       "    </tr>\n",
       "  </thead>\n",
       "  <tbody>\n",
       "    <tr>\n",
       "      <th>2018-11-22</th>\n",
       "      <td>13.43</td>\n",
       "      <td>164</td>\n",
       "      <td>643</td>\n",
       "      <td>955</td>\n",
       "      <td>149</td>\n",
       "    </tr>\n",
       "  </tbody>\n",
       "</table>\n",
       "</div>"
      ],
      "text/plain": [
       "            distance  avg_hr  elev_gain  elev_loss  avg_run_cadence\n",
       "date                                                               \n",
       "2018-11-22     13.43     164        643        955              149"
      ]
     },
     "execution_count": 117,
     "metadata": {},
     "output_type": "execute_result"
    }
   ],
   "source": [
    "#Let's drop the first race, since it is contained in the data:\n",
    "race_df2.drop('2018-10-27', axis = 0, inplace=True)\n",
    "race_df2[race_df2['is_race']==1][['distance', 'avg_hr','elev_gain', 'elev_loss', 'avg_run_cadence']]"
   ]
  },
  {
   "cell_type": "code",
   "execution_count": 118,
   "metadata": {},
   "outputs": [
    {
     "name": "stdout",
     "output_type": "stream",
     "text": [
      "Performing stepwise search to minimize aic\n",
      " ARIMA(2,0,2)(1,0,1)[7] intercept   : AIC=23.480, Time=0.65 sec\n",
      " ARIMA(0,0,0)(0,0,0)[7] intercept   : AIC=17.966, Time=0.05 sec\n",
      " ARIMA(1,0,0)(1,0,0)[7] intercept   : AIC=20.588, Time=0.29 sec\n",
      " ARIMA(0,0,1)(0,0,1)[7] intercept   : AIC=19.381, Time=0.51 sec\n",
      " ARIMA(0,0,0)(0,0,0)[7]             : AIC=15.986, Time=0.18 sec\n",
      " ARIMA(0,0,0)(1,0,0)[7] intercept   : AIC=19.879, Time=0.12 sec\n",
      " ARIMA(0,0,0)(0,0,1)[7] intercept   : AIC=19.966, Time=0.20 sec\n",
      " ARIMA(0,0,0)(1,0,1)[7] intercept   : AIC=21.516, Time=0.42 sec\n",
      " ARIMA(1,0,0)(0,0,0)[7] intercept   : AIC=18.640, Time=0.13 sec\n",
      " ARIMA(0,0,1)(0,0,0)[7] intercept   : AIC=17.502, Time=0.15 sec\n",
      " ARIMA(1,0,1)(0,0,0)[7] intercept   : AIC=20.017, Time=0.18 sec\n",
      "\n",
      "Best model:  ARIMA(0,0,0)(0,0,0)[7]          \n",
      "Total fit time: 2.899 seconds\n"
     ]
    },
    {
     "name": "stderr",
     "output_type": "stream",
     "text": [
      "/Users/Keith/miniconda3/envs/timer/lib/python3.8/site-packages/statsmodels/tsa/base/tsa_model.py:376: ValueWarning: No supported index is available. Prediction results will be given with an integer index beginning at `start`.\n",
      "  warnings.warn('No supported index is available.'\n"
     ]
    },
    {
     "data": {
      "text/plain": [
       "array([7.35190103])"
      ]
     },
     "execution_count": 118,
     "metadata": {},
     "output_type": "execute_result"
    }
   ],
   "source": [
    "model = pmd.auto_arima(y, X=X, m=7, trace=True)\n",
    "\n",
    "preds = model.predict(1, X = race_df2[race_df2['is_race']==1][['distance', 'avg_hr','elev_gain', 'elev_loss', 'avg_run_cadence']])#, 1.30, 240]])\n",
    "preds"
   ]
  },
  {
   "cell_type": "code",
   "execution_count": 119,
   "metadata": {},
   "outputs": [
    {
     "data": {
      "text/html": [
       "<div>\n",
       "<style scoped>\n",
       "    .dataframe tbody tr th:only-of-type {\n",
       "        vertical-align: middle;\n",
       "    }\n",
       "\n",
       "    .dataframe tbody tr th {\n",
       "        vertical-align: top;\n",
       "    }\n",
       "\n",
       "    .dataframe thead th {\n",
       "        text-align: right;\n",
       "    }\n",
       "</style>\n",
       "<table border=\"1\" class=\"dataframe\">\n",
       "  <thead>\n",
       "    <tr style=\"text-align: right;\">\n",
       "      <th></th>\n",
       "      <th>spd_ft_s</th>\n",
       "      <th>distance</th>\n",
       "      <th>avg_hr</th>\n",
       "      <th>elev_gain</th>\n",
       "      <th>elev_loss</th>\n",
       "      <th>avg_run_cadence</th>\n",
       "    </tr>\n",
       "    <tr>\n",
       "      <th>date</th>\n",
       "      <th></th>\n",
       "      <th></th>\n",
       "      <th></th>\n",
       "      <th></th>\n",
       "      <th></th>\n",
       "      <th></th>\n",
       "    </tr>\n",
       "  </thead>\n",
       "  <tbody>\n",
       "    <tr>\n",
       "      <th>2018-11-22</th>\n",
       "      <td>7.42616</td>\n",
       "      <td>13.43</td>\n",
       "      <td>164</td>\n",
       "      <td>643</td>\n",
       "      <td>955</td>\n",
       "      <td>149</td>\n",
       "    </tr>\n",
       "  </tbody>\n",
       "</table>\n",
       "</div>"
      ],
      "text/plain": [
       "            spd_ft_s  distance  avg_hr  elev_gain  elev_loss  avg_run_cadence\n",
       "date                                                                         \n",
       "2018-11-22   7.42616     13.43     164        643        955              149"
      ]
     },
     "execution_count": 119,
     "metadata": {},
     "output_type": "execute_result"
    }
   ],
   "source": [
    "race_df2[race_df2['is_race']==1][['spd_ft_s','distance', 'avg_hr','elev_gain', 'elev_loss', 'avg_run_cadence']]"
   ]
  },
  {
   "cell_type": "code",
   "execution_count": 121,
   "metadata": {},
   "outputs": [
    {
     "name": "stderr",
     "output_type": "stream",
     "text": [
      "/Users/Keith/miniconda3/envs/timer/lib/python3.8/site-packages/statsmodels/tsa/base/tsa_model.py:376: ValueWarning: No supported index is available. Prediction results will be given with an integer index beginning at `start`.\n",
      "  warnings.warn('No supported index is available.'\n"
     ]
    },
    {
     "data": {
      "text/plain": [
       "array([7.24332224])"
      ]
     },
     "execution_count": 121,
     "metadata": {},
     "output_type": "execute_result"
    }
   ],
   "source": [
    "preds2 = model.predict(1, X = [[13.43, 149, 643, 955, 155]])\n",
    "preds2"
   ]
  },
  {
   "cell_type": "markdown",
   "metadata": {},
   "source": [
    "## Race 2"
   ]
  },
  {
   "cell_type": "code",
   "execution_count": 2,
   "metadata": {},
   "outputs": [
    {
     "name": "stdout",
     "output_type": "stream",
     "text": [
      "<class 'numpy.int64'>\n"
     ]
    }
   ],
   "source": [
    "#Let's read in a single csv first:\n",
    "race_df2 = pd.read_csv('./data/races/athlete_10/athlete_10_race_3_3_mo_Running_extra_cols.csv', index_col='date')\n",
    "\n",
    "try:\n",
    "    race_df2['elev_gain'] = race_df2['elev_gain'].str.replace(',', '').astype(float)\n",
    "except:\n",
    "    print(type(race_df2['elev_gain'][0]))\n",
    "\n",
    "\n",
    "try:\n",
    "    race_df2['elev_loss'] = race_df2['elev_loss'].str.replace(',', '').astype(float)\n",
    "except:\n",
    "    print(type(race_df2['elev_loss'][0]))\n",
    "\n",
    "\n",
    "try:\n",
    "    race_df2['calories'] = race_df2['calories'].str.replace(',', '').astype(float)\n",
    "except:\n",
    "    print(race_df2['calories'].info())"
   ]
  },
  {
   "cell_type": "code",
   "execution_count": 3,
   "metadata": {},
   "outputs": [
    {
     "ename": "NameError",
     "evalue": "name 'tsdisplay' is not defined",
     "output_type": "error",
     "traceback": [
      "\u001b[0;31m---------------------------------------------------------------------------\u001b[0m",
      "\u001b[0;31mNameError\u001b[0m                                 Traceback (most recent call last)",
      "\u001b[0;32m<ipython-input-3-9b4a65dfe3d6>\u001b[0m in \u001b[0;36m<module>\u001b[0;34m\u001b[0m\n\u001b[0;32m----> 1\u001b[0;31m \u001b[0mtsdisplay\u001b[0m\u001b[0;34m(\u001b[0m\u001b[0mrace_df2\u001b[0m\u001b[0;34m[\u001b[0m\u001b[0;34m'spd_mph'\u001b[0m\u001b[0;34m]\u001b[0m\u001b[0;34m,\u001b[0m \u001b[0mlag_max\u001b[0m\u001b[0;34m=\u001b[0m\u001b[0;36m14\u001b[0m\u001b[0;34m)\u001b[0m\u001b[0;34m\u001b[0m\u001b[0;34m\u001b[0m\u001b[0m\n\u001b[0m\u001b[1;32m      2\u001b[0m \u001b[0;34m\u001b[0m\u001b[0m\n\u001b[1;32m      3\u001b[0m \u001b[0mtsdisplay\u001b[0m\u001b[0;34m(\u001b[0m\u001b[0mrace_df2\u001b[0m\u001b[0;34m[\u001b[0m\u001b[0;34m'GAP_ft_s'\u001b[0m\u001b[0;34m]\u001b[0m\u001b[0;34m,\u001b[0m \u001b[0mlag_max\u001b[0m\u001b[0;34m=\u001b[0m\u001b[0;36m14\u001b[0m\u001b[0;34m)\u001b[0m\u001b[0;34m\u001b[0m\u001b[0;34m\u001b[0m\u001b[0m\n\u001b[1;32m      4\u001b[0m \u001b[0;34m\u001b[0m\u001b[0m\n\u001b[1;32m      5\u001b[0m \u001b[0mX\u001b[0m \u001b[0;34m=\u001b[0m \u001b[0mrace_df2\u001b[0m\u001b[0;34m[\u001b[0m\u001b[0mrace_df2\u001b[0m\u001b[0;34m[\u001b[0m\u001b[0;34m'is_race'\u001b[0m\u001b[0;34m]\u001b[0m\u001b[0;34m==\u001b[0m\u001b[0;36m0\u001b[0m\u001b[0;34m]\u001b[0m\u001b[0;34m[\u001b[0m\u001b[0;34m[\u001b[0m\u001b[0;34m'distance'\u001b[0m\u001b[0;34m,\u001b[0m \u001b[0;34m'avg_hr'\u001b[0m\u001b[0;34m,\u001b[0m\u001b[0;34m'elev_gain'\u001b[0m\u001b[0;34m,\u001b[0m \u001b[0;34m'elev_loss'\u001b[0m\u001b[0;34m,\u001b[0m \u001b[0;34m'avg_run_cadence'\u001b[0m\u001b[0;34m]\u001b[0m\u001b[0;34m]\u001b[0m \u001b[0;31m#, 'avg_stride_length', 'avg_ground_contact_time']]\u001b[0m\u001b[0;34m\u001b[0m\u001b[0;34m\u001b[0m\u001b[0m\n",
      "\u001b[0;31mNameError\u001b[0m: name 'tsdisplay' is not defined"
     ]
    }
   ],
   "source": [
    "tsdisplay(race_df2['spd_mph'], lag_max=14)\n",
    "\n",
    "tsdisplay(race_df2['GAP_ft_s'], lag_max=14)\n",
    "\n",
    "X = race_df2[race_df2['is_race']==0][['distance', 'avg_hr','elev_gain', 'elev_loss', 'avg_run_cadence']] #, 'avg_stride_length', 'avg_ground_contact_time']]\n",
    "\n",
    "y = race_df2[race_df2['is_race']==0]['spd_ft_s']"
   ]
  },
  {
   "cell_type": "code",
   "execution_count": 4,
   "metadata": {},
   "outputs": [
    {
     "data": {
      "text/plain": [
       "164.76"
      ]
     },
     "execution_count": 4,
     "metadata": {},
     "output_type": "execute_result"
    }
   ],
   "source": [
    "#Lets find the average cadence for long runs:\n",
    "avg_cadence = race_df2[race_df2['is_race']==0]['avg_run_cadence'].mean()\n",
    "avg_cadence"
   ]
  },
  {
   "cell_type": "code",
   "execution_count": 5,
   "metadata": {},
   "outputs": [
    {
     "data": {
      "text/plain": [
       "155.68"
      ]
     },
     "execution_count": 5,
     "metadata": {},
     "output_type": "execute_result"
    }
   ],
   "source": [
    "#And heart rate:\n",
    "avg_hr = race_df2[race_df2['is_race']==0]['avg_hr'].mean()\n",
    "avg_hr"
   ]
  },
  {
   "cell_type": "code",
   "execution_count": 6,
   "metadata": {},
   "outputs": [
    {
     "data": {
      "text/html": [
       "<div>\n",
       "<style scoped>\n",
       "    .dataframe tbody tr th:only-of-type {\n",
       "        vertical-align: middle;\n",
       "    }\n",
       "\n",
       "    .dataframe tbody tr th {\n",
       "        vertical-align: top;\n",
       "    }\n",
       "\n",
       "    .dataframe thead th {\n",
       "        text-align: right;\n",
       "    }\n",
       "</style>\n",
       "<table border=\"1\" class=\"dataframe\">\n",
       "  <thead>\n",
       "    <tr style=\"text-align: right;\">\n",
       "      <th></th>\n",
       "      <th>distance</th>\n",
       "      <th>avg_hr</th>\n",
       "      <th>elev_gain</th>\n",
       "      <th>elev_loss</th>\n",
       "      <th>avg_run_cadence</th>\n",
       "    </tr>\n",
       "    <tr>\n",
       "      <th>date</th>\n",
       "      <th></th>\n",
       "      <th></th>\n",
       "      <th></th>\n",
       "      <th></th>\n",
       "      <th></th>\n",
       "    </tr>\n",
       "  </thead>\n",
       "  <tbody>\n",
       "    <tr>\n",
       "      <th>2019-03-03</th>\n",
       "      <td>13.25</td>\n",
       "      <td>164</td>\n",
       "      <td>1722</td>\n",
       "      <td>1549.0</td>\n",
       "      <td>163</td>\n",
       "    </tr>\n",
       "  </tbody>\n",
       "</table>\n",
       "</div>"
      ],
      "text/plain": [
       "            distance  avg_hr  elev_gain  elev_loss  avg_run_cadence\n",
       "date                                                               \n",
       "2019-03-03     13.25     164       1722     1549.0              163"
      ]
     },
     "execution_count": 6,
     "metadata": {},
     "output_type": "execute_result"
    }
   ],
   "source": [
    "race_df2[race_df2['is_race']==1][['distance', 'avg_hr','elev_gain', 'elev_loss', 'avg_run_cadence']]"
   ]
  },
  {
   "cell_type": "code",
   "execution_count": 132,
   "metadata": {},
   "outputs": [],
   "source": [
    "# #Let's drop the first race, since it is contained in the data:\n",
    "# race_df2.drop('2018-10-27', axis = 0, inplace=True)\n",
    "# race_df2[race_df2['is_race']==1][['distance', 'avg_hr','elev_gain', 'elev_loss', 'avg_run_cadence']]"
   ]
  },
  {
   "cell_type": "code",
   "execution_count": 7,
   "metadata": {},
   "outputs": [
    {
     "data": {
      "text/plain": [
       "date\n",
       "2019-03-03    13.25\n",
       "Name: distance, dtype: float64"
      ]
     },
     "execution_count": 7,
     "metadata": {},
     "output_type": "execute_result"
    }
   ],
   "source": [
    "race_distance = race_df2[race_df2['is_race']==1]['distance']\n",
    "race_distance"
   ]
  },
  {
   "cell_type": "code",
   "execution_count": 8,
   "metadata": {},
   "outputs": [],
   "source": [
    "race_gain = race_df2[race_df2['is_race']==1]['elev_gain']\n",
    "race_loss = race_df2[race_df2['is_race']==1]['elev_loss']"
   ]
  },
  {
   "cell_type": "code",
   "execution_count": 9,
   "metadata": {},
   "outputs": [
    {
     "ename": "NameError",
     "evalue": "name 'pmd' is not defined",
     "output_type": "error",
     "traceback": [
      "\u001b[0;31m---------------------------------------------------------------------------\u001b[0m",
      "\u001b[0;31mNameError\u001b[0m                                 Traceback (most recent call last)",
      "\u001b[0;32m<ipython-input-9-d3c9a3366520>\u001b[0m in \u001b[0;36m<module>\u001b[0;34m\u001b[0m\n\u001b[0;32m----> 1\u001b[0;31m \u001b[0mmodel\u001b[0m \u001b[0;34m=\u001b[0m \u001b[0mpmd\u001b[0m\u001b[0;34m.\u001b[0m\u001b[0mauto_arima\u001b[0m\u001b[0;34m(\u001b[0m\u001b[0my\u001b[0m\u001b[0;34m,\u001b[0m \u001b[0mX\u001b[0m\u001b[0;34m=\u001b[0m\u001b[0mX\u001b[0m\u001b[0;34m,\u001b[0m \u001b[0mm\u001b[0m\u001b[0;34m=\u001b[0m\u001b[0;36m7\u001b[0m\u001b[0;34m,\u001b[0m \u001b[0mtrace\u001b[0m\u001b[0;34m=\u001b[0m\u001b[0;32mTrue\u001b[0m\u001b[0;34m)\u001b[0m\u001b[0;34m\u001b[0m\u001b[0;34m\u001b[0m\u001b[0m\n\u001b[0m\u001b[1;32m      2\u001b[0m \u001b[0;34m\u001b[0m\u001b[0m\n\u001b[1;32m      3\u001b[0m \u001b[0mpreds\u001b[0m \u001b[0;34m=\u001b[0m \u001b[0mmodel\u001b[0m\u001b[0;34m.\u001b[0m\u001b[0mpredict\u001b[0m\u001b[0;34m(\u001b[0m\u001b[0;36m1\u001b[0m\u001b[0;34m,\u001b[0m \u001b[0mX\u001b[0m \u001b[0;34m=\u001b[0m\u001b[0;34m[\u001b[0m\u001b[0;34m[\u001b[0m\u001b[0mrace_distance\u001b[0m\u001b[0;34m,\u001b[0m \u001b[0mavg_hr\u001b[0m\u001b[0;34m,\u001b[0m \u001b[0mrace_gain\u001b[0m\u001b[0;34m,\u001b[0m \u001b[0mrace_loss\u001b[0m\u001b[0;34m,\u001b[0m \u001b[0mavg_cadence\u001b[0m\u001b[0;34m]\u001b[0m\u001b[0;34m]\u001b[0m\u001b[0;34m)\u001b[0m\u001b[0;34m\u001b[0m\u001b[0;34m\u001b[0m\u001b[0m\n",
      "\u001b[0;31mNameError\u001b[0m: name 'pmd' is not defined"
     ]
    }
   ],
   "source": [
    "model = pmd.auto_arima(y, X=X, m=7, trace=True)\n",
    "\n",
    "preds = model.predict(1, X =[[race_distance, avg_hr, race_gain, race_loss, avg_cadence]])"
   ]
  },
  {
   "cell_type": "code",
   "execution_count": 119,
   "metadata": {},
   "outputs": [
    {
     "data": {
      "text/html": [
       "<div>\n",
       "<style scoped>\n",
       "    .dataframe tbody tr th:only-of-type {\n",
       "        vertical-align: middle;\n",
       "    }\n",
       "\n",
       "    .dataframe tbody tr th {\n",
       "        vertical-align: top;\n",
       "    }\n",
       "\n",
       "    .dataframe thead th {\n",
       "        text-align: right;\n",
       "    }\n",
       "</style>\n",
       "<table border=\"1\" class=\"dataframe\">\n",
       "  <thead>\n",
       "    <tr style=\"text-align: right;\">\n",
       "      <th></th>\n",
       "      <th>spd_ft_s</th>\n",
       "      <th>distance</th>\n",
       "      <th>avg_hr</th>\n",
       "      <th>elev_gain</th>\n",
       "      <th>elev_loss</th>\n",
       "      <th>avg_run_cadence</th>\n",
       "    </tr>\n",
       "    <tr>\n",
       "      <th>date</th>\n",
       "      <th></th>\n",
       "      <th></th>\n",
       "      <th></th>\n",
       "      <th></th>\n",
       "      <th></th>\n",
       "      <th></th>\n",
       "    </tr>\n",
       "  </thead>\n",
       "  <tbody>\n",
       "    <tr>\n",
       "      <th>2018-11-22</th>\n",
       "      <td>7.42616</td>\n",
       "      <td>13.43</td>\n",
       "      <td>164</td>\n",
       "      <td>643</td>\n",
       "      <td>955</td>\n",
       "      <td>149</td>\n",
       "    </tr>\n",
       "  </tbody>\n",
       "</table>\n",
       "</div>"
      ],
      "text/plain": [
       "            spd_ft_s  distance  avg_hr  elev_gain  elev_loss  avg_run_cadence\n",
       "date                                                                         \n",
       "2018-11-22   7.42616     13.43     164        643        955              149"
      ]
     },
     "execution_count": 119,
     "metadata": {},
     "output_type": "execute_result"
    }
   ],
   "source": [
    "race_df2[race_df2['is_race']==1][['spd_ft_s','distance', 'avg_hr','elev_gain', 'elev_loss', 'avg_run_cadence']]"
   ]
  },
  {
   "cell_type": "code",
   "execution_count": null,
   "metadata": {},
   "outputs": [],
   "source": []
  },
  {
   "cell_type": "code",
   "execution_count": 138,
   "metadata": {},
   "outputs": [
    {
     "data": {
      "text/plain": [
       "array([7.16779698])"
      ]
     },
     "execution_count": 138,
     "metadata": {},
     "output_type": "execute_result"
    }
   ],
   "source": [
    "preds"
   ]
  },
  {
   "cell_type": "code",
   "execution_count": 139,
   "metadata": {},
   "outputs": [],
   "source": [
    "#Once again, within :15-20s of race pace"
   ]
  },
  {
   "cell_type": "code",
   "execution_count": null,
   "metadata": {},
   "outputs": [],
   "source": []
  }
 ],
 "metadata": {
  "kernelspec": {
   "display_name": "Python 3",
   "language": "python",
   "name": "python3"
  },
  "language_info": {
   "codemirror_mode": {
    "name": "ipython",
    "version": 3
   },
   "file_extension": ".py",
   "mimetype": "text/x-python",
   "name": "python",
   "nbconvert_exporter": "python",
   "pygments_lexer": "ipython3",
   "version": "3.8.3"
  }
 },
 "nbformat": 4,
 "nbformat_minor": 4
}
