{
 "cells": [
  {
   "cell_type": "code",
   "execution_count": null,
   "metadata": {},
   "outputs": [],
   "source": [
    "#Initial EDA \n",
    "#We have parsed out the data from garmin for each athlete, and gathered 1 month prior and 3 months prior data."
   ]
  },
  {
   "cell_type": "code",
   "execution_count": 2,
   "metadata": {},
   "outputs": [],
   "source": [
    "import pandas as pd\n",
    "import numpy as np\n",
    "import matplotlib.pyplot as plt\n",
    "from datetime import date\n",
    "import matplotlib.dates as mdates\n",
    "import datetime\n",
    "import json\n",
    "import os\n",
    "import glob"
   ]
  },
  {
   "cell_type": "code",
   "execution_count": 3,
   "metadata": {},
   "outputs": [],
   "source": [
    "import warnings\n",
    "warnings.filterwarnings(\"ignore\")"
   ]
  },
  {
   "cell_type": "code",
   "execution_count": 4,
   "metadata": {},
   "outputs": [],
   "source": [
    "#Let's read in a sample 1 month file:\n",
    "sample_1_mo = pd.read_csv('./data/races/athlete_9/athlete_9_race_10_1_mo.csv', index_col='date')"
   ]
  },
  {
   "cell_type": "code",
   "execution_count": 5,
   "metadata": {},
   "outputs": [
    {
     "data": {
      "text/html": [
       "<div>\n",
       "<style scoped>\n",
       "    .dataframe tbody tr th:only-of-type {\n",
       "        vertical-align: middle;\n",
       "    }\n",
       "\n",
       "    .dataframe tbody tr th {\n",
       "        vertical-align: top;\n",
       "    }\n",
       "\n",
       "    .dataframe thead th {\n",
       "        text-align: right;\n",
       "    }\n",
       "</style>\n",
       "<table border=\"1\" class=\"dataframe\">\n",
       "  <thead>\n",
       "    <tr style=\"text-align: right;\">\n",
       "      <th></th>\n",
       "      <th>activity_type</th>\n",
       "      <th>favorite</th>\n",
       "      <th>title</th>\n",
       "      <th>distance</th>\n",
       "      <th>calories</th>\n",
       "      <th>time</th>\n",
       "      <th>avg_hr</th>\n",
       "      <th>max_hr</th>\n",
       "      <th>aerobic_te</th>\n",
       "      <th>avg_run_cadence</th>\n",
       "      <th>...</th>\n",
       "      <th>surface_interval</th>\n",
       "      <th>decompression</th>\n",
       "      <th>best_lap_time</th>\n",
       "      <th>number_of_laps</th>\n",
       "      <th>max_temp</th>\n",
       "      <th>athlete_id</th>\n",
       "      <th>filetype</th>\n",
       "      <th>is_race</th>\n",
       "      <th>avg_pace</th>\n",
       "      <th>best_pace</th>\n",
       "    </tr>\n",
       "    <tr>\n",
       "      <th>date</th>\n",
       "      <th></th>\n",
       "      <th></th>\n",
       "      <th></th>\n",
       "      <th></th>\n",
       "      <th></th>\n",
       "      <th></th>\n",
       "      <th></th>\n",
       "      <th></th>\n",
       "      <th></th>\n",
       "      <th></th>\n",
       "      <th></th>\n",
       "      <th></th>\n",
       "      <th></th>\n",
       "      <th></th>\n",
       "      <th></th>\n",
       "      <th></th>\n",
       "      <th></th>\n",
       "      <th></th>\n",
       "      <th></th>\n",
       "      <th></th>\n",
       "      <th></th>\n",
       "    </tr>\n",
       "  </thead>\n",
       "  <tbody>\n",
       "    <tr>\n",
       "      <th>2017-03-22</th>\n",
       "      <td>Treadmill Running</td>\n",
       "      <td>False</td>\n",
       "      <td>Treadmill Running</td>\n",
       "      <td>0.02</td>\n",
       "      <td>216</td>\n",
       "      <td>00:19:05</td>\n",
       "      <td>131</td>\n",
       "      <td>154</td>\n",
       "      <td>2.0</td>\n",
       "      <td>5</td>\n",
       "      <td>...</td>\n",
       "      <td>0:00</td>\n",
       "      <td>No</td>\n",
       "      <td>00:00.00</td>\n",
       "      <td>0</td>\n",
       "      <td>0.0</td>\n",
       "      <td>9</td>\n",
       "      <td>garmin</td>\n",
       "      <td>0</td>\n",
       "      <td>00:00:00</td>\n",
       "      <td>00:00:00</td>\n",
       "    </tr>\n",
       "    <tr>\n",
       "      <th>2017-03-22</th>\n",
       "      <td>Treadmill Running</td>\n",
       "      <td>False</td>\n",
       "      <td>Treadmill Running</td>\n",
       "      <td>1.04</td>\n",
       "      <td>130</td>\n",
       "      <td>00:08:49.0</td>\n",
       "      <td>155</td>\n",
       "      <td>166</td>\n",
       "      <td>2.1</td>\n",
       "      <td>175</td>\n",
       "      <td>...</td>\n",
       "      <td>0:00</td>\n",
       "      <td>No</td>\n",
       "      <td>00:00.00</td>\n",
       "      <td>0</td>\n",
       "      <td>0.0</td>\n",
       "      <td>9</td>\n",
       "      <td>garmin</td>\n",
       "      <td>0</td>\n",
       "      <td>0 days 00:08:31</td>\n",
       "      <td>0 days 00:08:31</td>\n",
       "    </tr>\n",
       "    <tr>\n",
       "      <th>2017-03-23</th>\n",
       "      <td>Treadmill Running</td>\n",
       "      <td>False</td>\n",
       "      <td>Treadmill Running</td>\n",
       "      <td>1.91</td>\n",
       "      <td>247</td>\n",
       "      <td>00:16:34</td>\n",
       "      <td>157</td>\n",
       "      <td>166</td>\n",
       "      <td>2.6</td>\n",
       "      <td>173</td>\n",
       "      <td>...</td>\n",
       "      <td>0:00</td>\n",
       "      <td>No</td>\n",
       "      <td>00:00.00</td>\n",
       "      <td>0</td>\n",
       "      <td>0.0</td>\n",
       "      <td>9</td>\n",
       "      <td>garmin</td>\n",
       "      <td>0</td>\n",
       "      <td>0 days 00:08:40</td>\n",
       "      <td>0 days 00:08:40</td>\n",
       "    </tr>\n",
       "    <tr>\n",
       "      <th>2017-03-23</th>\n",
       "      <td>Indoor Cycling</td>\n",
       "      <td>False</td>\n",
       "      <td>Indoor Cycling</td>\n",
       "      <td>0.00</td>\n",
       "      <td>760</td>\n",
       "      <td>01:03:43</td>\n",
       "      <td>138</td>\n",
       "      <td>169</td>\n",
       "      <td>3.0</td>\n",
       "      <td>0</td>\n",
       "      <td>...</td>\n",
       "      <td>0:00</td>\n",
       "      <td>No</td>\n",
       "      <td>00:00.00</td>\n",
       "      <td>0</td>\n",
       "      <td>0.0</td>\n",
       "      <td>9</td>\n",
       "      <td>garmin</td>\n",
       "      <td>0</td>\n",
       "      <td>00:00:00</td>\n",
       "      <td>00:00:00</td>\n",
       "    </tr>\n",
       "    <tr>\n",
       "      <th>2017-03-24</th>\n",
       "      <td>Treadmill Running</td>\n",
       "      <td>False</td>\n",
       "      <td>Treadmill Running</td>\n",
       "      <td>3.44</td>\n",
       "      <td>414</td>\n",
       "      <td>00:30:05</td>\n",
       "      <td>143</td>\n",
       "      <td>157</td>\n",
       "      <td>2.9</td>\n",
       "      <td>172</td>\n",
       "      <td>...</td>\n",
       "      <td>0:00</td>\n",
       "      <td>No</td>\n",
       "      <td>00:00.00</td>\n",
       "      <td>0</td>\n",
       "      <td>0.0</td>\n",
       "      <td>9</td>\n",
       "      <td>garmin</td>\n",
       "      <td>0</td>\n",
       "      <td>0 days 00:08:44</td>\n",
       "      <td>0 days 00:08:44</td>\n",
       "    </tr>\n",
       "  </tbody>\n",
       "</table>\n",
       "<p>5 rows × 48 columns</p>\n",
       "</div>"
      ],
      "text/plain": [
       "                activity_type  favorite              title distance calories  \\\n",
       "date                                                                           \n",
       "2017-03-22  Treadmill Running     False  Treadmill Running     0.02      216   \n",
       "2017-03-22  Treadmill Running     False  Treadmill Running     1.04      130   \n",
       "2017-03-23  Treadmill Running     False  Treadmill Running     1.91      247   \n",
       "2017-03-23     Indoor Cycling     False     Indoor Cycling     0.00      760   \n",
       "2017-03-24  Treadmill Running     False  Treadmill Running     3.44      414   \n",
       "\n",
       "                  time  avg_hr  max_hr  aerobic_te  avg_run_cadence  ...  \\\n",
       "date                                                                 ...   \n",
       "2017-03-22    00:19:05     131     154         2.0                5  ...   \n",
       "2017-03-22  00:08:49.0     155     166         2.1              175  ...   \n",
       "2017-03-23    00:16:34     157     166         2.6              173  ...   \n",
       "2017-03-23    01:03:43     138     169         3.0                0  ...   \n",
       "2017-03-24    00:30:05     143     157         2.9              172  ...   \n",
       "\n",
       "            surface_interval decompression best_lap_time number_of_laps  \\\n",
       "date                                                                      \n",
       "2017-03-22              0:00            No      00:00.00              0   \n",
       "2017-03-22              0:00            No      00:00.00              0   \n",
       "2017-03-23              0:00            No      00:00.00              0   \n",
       "2017-03-23              0:00            No      00:00.00              0   \n",
       "2017-03-24              0:00            No      00:00.00              0   \n",
       "\n",
       "           max_temp  athlete_id  filetype  is_race         avg_pace  \\\n",
       "date                                                                  \n",
       "2017-03-22      0.0           9    garmin        0         00:00:00   \n",
       "2017-03-22      0.0           9    garmin        0  0 days 00:08:31   \n",
       "2017-03-23      0.0           9    garmin        0  0 days 00:08:40   \n",
       "2017-03-23      0.0           9    garmin        0         00:00:00   \n",
       "2017-03-24      0.0           9    garmin        0  0 days 00:08:44   \n",
       "\n",
       "                  best_pace  \n",
       "date                         \n",
       "2017-03-22         00:00:00  \n",
       "2017-03-22  0 days 00:08:31  \n",
       "2017-03-23  0 days 00:08:40  \n",
       "2017-03-23         00:00:00  \n",
       "2017-03-24  0 days 00:08:44  \n",
       "\n",
       "[5 rows x 48 columns]"
      ]
     },
     "execution_count": 5,
     "metadata": {},
     "output_type": "execute_result"
    }
   ],
   "source": [
    "sample_1_mo.head()"
   ]
  },
  {
   "cell_type": "code",
   "execution_count": 6,
   "metadata": {},
   "outputs": [
    {
     "data": {
      "text/html": [
       "<div>\n",
       "<style scoped>\n",
       "    .dataframe tbody tr th:only-of-type {\n",
       "        vertical-align: middle;\n",
       "    }\n",
       "\n",
       "    .dataframe tbody tr th {\n",
       "        vertical-align: top;\n",
       "    }\n",
       "\n",
       "    .dataframe thead th {\n",
       "        text-align: right;\n",
       "    }\n",
       "</style>\n",
       "<table border=\"1\" class=\"dataframe\">\n",
       "  <thead>\n",
       "    <tr style=\"text-align: right;\">\n",
       "      <th></th>\n",
       "      <th>activity_type</th>\n",
       "      <th>favorite</th>\n",
       "      <th>title</th>\n",
       "      <th>distance</th>\n",
       "      <th>calories</th>\n",
       "      <th>time</th>\n",
       "      <th>avg_hr</th>\n",
       "      <th>max_hr</th>\n",
       "      <th>aerobic_te</th>\n",
       "      <th>avg_run_cadence</th>\n",
       "      <th>...</th>\n",
       "      <th>surface_interval</th>\n",
       "      <th>decompression</th>\n",
       "      <th>best_lap_time</th>\n",
       "      <th>number_of_laps</th>\n",
       "      <th>max_temp</th>\n",
       "      <th>athlete_id</th>\n",
       "      <th>filetype</th>\n",
       "      <th>is_race</th>\n",
       "      <th>avg_pace</th>\n",
       "      <th>best_pace</th>\n",
       "    </tr>\n",
       "    <tr>\n",
       "      <th>date</th>\n",
       "      <th></th>\n",
       "      <th></th>\n",
       "      <th></th>\n",
       "      <th></th>\n",
       "      <th></th>\n",
       "      <th></th>\n",
       "      <th></th>\n",
       "      <th></th>\n",
       "      <th></th>\n",
       "      <th></th>\n",
       "      <th></th>\n",
       "      <th></th>\n",
       "      <th></th>\n",
       "      <th></th>\n",
       "      <th></th>\n",
       "      <th></th>\n",
       "      <th></th>\n",
       "      <th></th>\n",
       "      <th></th>\n",
       "      <th></th>\n",
       "      <th></th>\n",
       "    </tr>\n",
       "  </thead>\n",
       "  <tbody>\n",
       "    <tr>\n",
       "      <th>2017-04-09</th>\n",
       "      <td>Cycling</td>\n",
       "      <td>False</td>\n",
       "      <td>Spicewood Cycling</td>\n",
       "      <td>3.46</td>\n",
       "      <td>157</td>\n",
       "      <td>00:21:55</td>\n",
       "      <td>113</td>\n",
       "      <td>151</td>\n",
       "      <td>1.5</td>\n",
       "      <td>0</td>\n",
       "      <td>...</td>\n",
       "      <td>0:00</td>\n",
       "      <td>No</td>\n",
       "      <td>00:00.00</td>\n",
       "      <td>0</td>\n",
       "      <td>0.0</td>\n",
       "      <td>9</td>\n",
       "      <td>garmin</td>\n",
       "      <td>1</td>\n",
       "      <td>00:00:00</td>\n",
       "      <td>00:00:00</td>\n",
       "    </tr>\n",
       "    <tr>\n",
       "      <th>2017-04-09</th>\n",
       "      <td>Cycling</td>\n",
       "      <td>True</td>\n",
       "      <td>Spicewood Cycling</td>\n",
       "      <td>24.91</td>\n",
       "      <td>1,737</td>\n",
       "      <td>02:07:12</td>\n",
       "      <td>164</td>\n",
       "      <td>182</td>\n",
       "      <td>4.2</td>\n",
       "      <td>0</td>\n",
       "      <td>...</td>\n",
       "      <td>0:00</td>\n",
       "      <td>No</td>\n",
       "      <td>00:00.00</td>\n",
       "      <td>0</td>\n",
       "      <td>0.0</td>\n",
       "      <td>9</td>\n",
       "      <td>garmin</td>\n",
       "      <td>1</td>\n",
       "      <td>00:00:00</td>\n",
       "      <td>00:00:00</td>\n",
       "    </tr>\n",
       "    <tr>\n",
       "      <th>2017-04-09</th>\n",
       "      <td>Running</td>\n",
       "      <td>True</td>\n",
       "      <td>Spicewood Running</td>\n",
       "      <td>2.64</td>\n",
       "      <td>316</td>\n",
       "      <td>00:21:57</td>\n",
       "      <td>157</td>\n",
       "      <td>174</td>\n",
       "      <td>2.9</td>\n",
       "      <td>159</td>\n",
       "      <td>...</td>\n",
       "      <td>0:00</td>\n",
       "      <td>No</td>\n",
       "      <td>00:00.00</td>\n",
       "      <td>0</td>\n",
       "      <td>0.0</td>\n",
       "      <td>9</td>\n",
       "      <td>garmin</td>\n",
       "      <td>1</td>\n",
       "      <td>0 days 00:08:19</td>\n",
       "      <td>0 days 00:08:19</td>\n",
       "    </tr>\n",
       "    <tr>\n",
       "      <th>2017-04-22</th>\n",
       "      <td>Cycling</td>\n",
       "      <td>False</td>\n",
       "      <td>Spicewood Cycling</td>\n",
       "      <td>1.45</td>\n",
       "      <td>139</td>\n",
       "      <td>00:10:21</td>\n",
       "      <td>145</td>\n",
       "      <td>167</td>\n",
       "      <td>2.0</td>\n",
       "      <td>0</td>\n",
       "      <td>...</td>\n",
       "      <td>0:00</td>\n",
       "      <td>No</td>\n",
       "      <td>00:00.00</td>\n",
       "      <td>0</td>\n",
       "      <td>0.0</td>\n",
       "      <td>9</td>\n",
       "      <td>garmin</td>\n",
       "      <td>1</td>\n",
       "      <td>00:00:00</td>\n",
       "      <td>00:00:00</td>\n",
       "    </tr>\n",
       "    <tr>\n",
       "      <th>2017-04-22</th>\n",
       "      <td>Running</td>\n",
       "      <td>False</td>\n",
       "      <td>Spicewood Running</td>\n",
       "      <td>0.67</td>\n",
       "      <td>80</td>\n",
       "      <td>00:05:29.5</td>\n",
       "      <td>150</td>\n",
       "      <td>162</td>\n",
       "      <td>1.8</td>\n",
       "      <td>173</td>\n",
       "      <td>...</td>\n",
       "      <td>0:00</td>\n",
       "      <td>No</td>\n",
       "      <td>00:00.00</td>\n",
       "      <td>0</td>\n",
       "      <td>0.0</td>\n",
       "      <td>9</td>\n",
       "      <td>garmin</td>\n",
       "      <td>1</td>\n",
       "      <td>0 days 00:08:08</td>\n",
       "      <td>0 days 00:08:08</td>\n",
       "    </tr>\n",
       "    <tr>\n",
       "      <th>2017-04-22</th>\n",
       "      <td>Multisport</td>\n",
       "      <td>True</td>\n",
       "      <td>Spicewood Multi-Sport</td>\n",
       "      <td>12.84</td>\n",
       "      <td>1,246</td>\n",
       "      <td>01:40:42</td>\n",
       "      <td>0</td>\n",
       "      <td>188</td>\n",
       "      <td>0.0</td>\n",
       "      <td>0</td>\n",
       "      <td>...</td>\n",
       "      <td>0:00</td>\n",
       "      <td>No</td>\n",
       "      <td>00:00.00</td>\n",
       "      <td>0</td>\n",
       "      <td>0.0</td>\n",
       "      <td>9</td>\n",
       "      <td>garmin</td>\n",
       "      <td>1</td>\n",
       "      <td>00:00:00</td>\n",
       "      <td>00:00:00</td>\n",
       "    </tr>\n",
       "    <tr>\n",
       "      <th>2017-04-22</th>\n",
       "      <td>Cycling</td>\n",
       "      <td>True</td>\n",
       "      <td>Spicewood Cycling</td>\n",
       "      <td>1.87</td>\n",
       "      <td>136</td>\n",
       "      <td>00:08:51.8</td>\n",
       "      <td>153</td>\n",
       "      <td>166</td>\n",
       "      <td>2.0</td>\n",
       "      <td>0</td>\n",
       "      <td>...</td>\n",
       "      <td>0:00</td>\n",
       "      <td>No</td>\n",
       "      <td>00:00.00</td>\n",
       "      <td>0</td>\n",
       "      <td>0.0</td>\n",
       "      <td>9</td>\n",
       "      <td>garmin</td>\n",
       "      <td>1</td>\n",
       "      <td>00:00:00</td>\n",
       "      <td>00:00:00</td>\n",
       "    </tr>\n",
       "    <tr>\n",
       "      <th>2017-04-22</th>\n",
       "      <td>Running</td>\n",
       "      <td>True</td>\n",
       "      <td>Spicewood Running</td>\n",
       "      <td>3.26</td>\n",
       "      <td>371</td>\n",
       "      <td>00:23:59</td>\n",
       "      <td>163</td>\n",
       "      <td>173</td>\n",
       "      <td>3.0</td>\n",
       "      <td>170</td>\n",
       "      <td>...</td>\n",
       "      <td>0:00</td>\n",
       "      <td>No</td>\n",
       "      <td>00:00.00</td>\n",
       "      <td>0</td>\n",
       "      <td>0.0</td>\n",
       "      <td>9</td>\n",
       "      <td>garmin</td>\n",
       "      <td>1</td>\n",
       "      <td>0 days 00:07:22</td>\n",
       "      <td>0 days 00:07:22</td>\n",
       "    </tr>\n",
       "  </tbody>\n",
       "</table>\n",
       "<p>8 rows × 48 columns</p>\n",
       "</div>"
      ],
      "text/plain": [
       "           activity_type  favorite                  title distance calories  \\\n",
       "date                                                                          \n",
       "2017-04-09       Cycling     False      Spicewood Cycling     3.46      157   \n",
       "2017-04-09       Cycling      True      Spicewood Cycling    24.91    1,737   \n",
       "2017-04-09       Running      True      Spicewood Running     2.64      316   \n",
       "2017-04-22       Cycling     False      Spicewood Cycling     1.45      139   \n",
       "2017-04-22       Running     False      Spicewood Running     0.67       80   \n",
       "2017-04-22    Multisport      True  Spicewood Multi-Sport    12.84    1,246   \n",
       "2017-04-22       Cycling      True      Spicewood Cycling     1.87      136   \n",
       "2017-04-22       Running      True      Spicewood Running     3.26      371   \n",
       "\n",
       "                  time  avg_hr  max_hr  aerobic_te  avg_run_cadence  ...  \\\n",
       "date                                                                 ...   \n",
       "2017-04-09    00:21:55     113     151         1.5                0  ...   \n",
       "2017-04-09    02:07:12     164     182         4.2                0  ...   \n",
       "2017-04-09    00:21:57     157     174         2.9              159  ...   \n",
       "2017-04-22    00:10:21     145     167         2.0                0  ...   \n",
       "2017-04-22  00:05:29.5     150     162         1.8              173  ...   \n",
       "2017-04-22    01:40:42       0     188         0.0                0  ...   \n",
       "2017-04-22  00:08:51.8     153     166         2.0                0  ...   \n",
       "2017-04-22    00:23:59     163     173         3.0              170  ...   \n",
       "\n",
       "            surface_interval decompression best_lap_time number_of_laps  \\\n",
       "date                                                                      \n",
       "2017-04-09              0:00            No      00:00.00              0   \n",
       "2017-04-09              0:00            No      00:00.00              0   \n",
       "2017-04-09              0:00            No      00:00.00              0   \n",
       "2017-04-22              0:00            No      00:00.00              0   \n",
       "2017-04-22              0:00            No      00:00.00              0   \n",
       "2017-04-22              0:00            No      00:00.00              0   \n",
       "2017-04-22              0:00            No      00:00.00              0   \n",
       "2017-04-22              0:00            No      00:00.00              0   \n",
       "\n",
       "           max_temp  athlete_id  filetype  is_race         avg_pace  \\\n",
       "date                                                                  \n",
       "2017-04-09      0.0           9    garmin        1         00:00:00   \n",
       "2017-04-09      0.0           9    garmin        1         00:00:00   \n",
       "2017-04-09      0.0           9    garmin        1  0 days 00:08:19   \n",
       "2017-04-22      0.0           9    garmin        1         00:00:00   \n",
       "2017-04-22      0.0           9    garmin        1  0 days 00:08:08   \n",
       "2017-04-22      0.0           9    garmin        1         00:00:00   \n",
       "2017-04-22      0.0           9    garmin        1         00:00:00   \n",
       "2017-04-22      0.0           9    garmin        1  0 days 00:07:22   \n",
       "\n",
       "                  best_pace  \n",
       "date                         \n",
       "2017-04-09         00:00:00  \n",
       "2017-04-09         00:00:00  \n",
       "2017-04-09  0 days 00:08:19  \n",
       "2017-04-22         00:00:00  \n",
       "2017-04-22  0 days 00:08:08  \n",
       "2017-04-22         00:00:00  \n",
       "2017-04-22         00:00:00  \n",
       "2017-04-22  0 days 00:07:22  \n",
       "\n",
       "[8 rows x 48 columns]"
      ]
     },
     "execution_count": 6,
     "metadata": {},
     "output_type": "execute_result"
    }
   ],
   "source": [
    "#Find out what the race is:\n",
    "sample_1_mo[sample_1_mo['is_race'] == 1]"
   ]
  },
  {
   "cell_type": "code",
   "execution_count": 7,
   "metadata": {},
   "outputs": [],
   "source": [
    "#Looks like it was a triathlon. (activity_type = Multi-Sport)"
   ]
  },
  {
   "cell_type": "markdown",
   "metadata": {},
   "source": [
    "Let's look at just the running portion:"
   ]
  },
  {
   "cell_type": "code",
   "execution_count": 8,
   "metadata": {},
   "outputs": [
    {
     "name": "stdout",
     "output_type": "stream",
     "text": [
      "<class 'pandas.core.frame.DataFrame'>\n",
      "Index: 16 entries, 2017-03-25 to 2017-04-22\n",
      "Data columns (total 48 columns):\n",
      " #   Column                    Non-Null Count  Dtype  \n",
      "---  ------                    --------------  -----  \n",
      " 0   activity_type             16 non-null     object \n",
      " 1   favorite                  16 non-null     bool   \n",
      " 2   title                     16 non-null     object \n",
      " 3   distance                  16 non-null     object \n",
      " 4   calories                  16 non-null     object \n",
      " 5   time                      16 non-null     object \n",
      " 6   avg_hr                    16 non-null     int64  \n",
      " 7   max_hr                    16 non-null     int64  \n",
      " 8   aerobic_te                16 non-null     float64\n",
      " 9   avg_run_cadence           16 non-null     int64  \n",
      " 10  max_run_cadence           16 non-null     int64  \n",
      " 11  avg_speed                 16 non-null     object \n",
      " 12  max_speed                 16 non-null     object \n",
      " 13  elev_gain                 16 non-null     object \n",
      " 14  elev_loss                 16 non-null     object \n",
      " 15  avg_stride_length         16 non-null     float64\n",
      " 16  avg_vertical_ratio        16 non-null     float64\n",
      " 17  avg_vertical_oscillation  16 non-null     float64\n",
      " 18  avg_ground_contact_time   16 non-null     int64  \n",
      " 19  avg_gct_balance           16 non-null     object \n",
      " 20  avg_bike_cadence          16 non-null     int64  \n",
      " 21  max_bike_cadence          16 non-null     int64  \n",
      " 22  normalized_powerâ_npâ     16 non-null     int64  \n",
      " 23  lr_balance                16 non-null     object \n",
      " 24  training_stress_scoreâ    16 non-null     float64\n",
      " 25  max_avg_power_20_min      16 non-null     int64  \n",
      " 26  avg_power                 16 non-null     int64  \n",
      " 27  max_power                 16 non-null     int64  \n",
      " 28  grit                      16 non-null     float64\n",
      " 29  flow                      16 non-null     float64\n",
      " 30  total_strokes             16 non-null     int64  \n",
      " 31  avg__swolf                16 non-null     int64  \n",
      " 32  avg_stroke_rate           16 non-null     int64  \n",
      " 33  total_reps                16 non-null     int64  \n",
      " 34  total_sets                16 non-null     int64  \n",
      " 35  climb_time                16 non-null     object \n",
      " 36  bottom_time               16 non-null     object \n",
      " 37  min_temp                  16 non-null     float64\n",
      " 38  surface_interval          16 non-null     object \n",
      " 39  decompression             16 non-null     object \n",
      " 40  best_lap_time             16 non-null     object \n",
      " 41  number_of_laps            16 non-null     int64  \n",
      " 42  max_temp                  16 non-null     float64\n",
      " 43  athlete_id                16 non-null     int64  \n",
      " 44  filetype                  16 non-null     object \n",
      " 45  is_race                   16 non-null     int64  \n",
      " 46  avg_pace                  16 non-null     object \n",
      " 47  best_pace                 16 non-null     object \n",
      "dtypes: bool(1), float64(9), int64(19), object(19)\n",
      "memory usage: 6.0+ KB\n"
     ]
    }
   ],
   "source": [
    "s_1_1_run = sample_1_mo[sample_1_mo['activity_type'] == 'Running']\n",
    "s_1_1_run.info()"
   ]
  },
  {
   "cell_type": "code",
   "execution_count": 9,
   "metadata": {},
   "outputs": [],
   "source": [
    "s_1_1_run['avg_pace'] = pd.to_timedelta(s_1_1_run['avg_pace'])"
   ]
  },
  {
   "cell_type": "code",
   "execution_count": 10,
   "metadata": {},
   "outputs": [
    {
     "data": {
      "text/plain": [
       "numpy.float64"
      ]
     },
     "execution_count": 10,
     "metadata": {},
     "output_type": "execute_result"
    }
   ],
   "source": [
    "s_1_1_run['distance'] = pd.to_numeric(s_1_1_run['distance'])\n",
    "type(s_1_1_run['distance'][0])"
   ]
  },
  {
   "cell_type": "code",
   "execution_count": 11,
   "metadata": {},
   "outputs": [
    {
     "data": {
      "text/plain": [
       "pandas._libs.tslibs.timedeltas.Timedelta"
      ]
     },
     "execution_count": 11,
     "metadata": {},
     "output_type": "execute_result"
    }
   ],
   "source": [
    "type(s_1_1_run['avg_pace'][0])"
   ]
  },
  {
   "cell_type": "code",
   "execution_count": 12,
   "metadata": {},
   "outputs": [
    {
     "data": {
      "text/plain": [
       "Timedelta('0 days 00:08:54')"
      ]
     },
     "execution_count": 12,
     "metadata": {},
     "output_type": "execute_result"
    }
   ],
   "source": [
    "s_1_1_run['avg_pace'][0]"
   ]
  },
  {
   "cell_type": "code",
   "execution_count": 13,
   "metadata": {},
   "outputs": [],
   "source": [
    "#Let's process some timedeltas so we can actually graph them:\n",
    "#Arbitrary zero time/date:\n",
    "zero = datetime.datetime(2017,1,1)\n",
    "avg_pace = [zero + t for t in s_1_1_run['avg_pace']]"
   ]
  },
  {
   "cell_type": "code",
   "execution_count": 14,
   "metadata": {},
   "outputs": [
    {
     "data": {
      "text/plain": [
       "[datetime.datetime(2017, 1, 1, 0, 8, 54),\n",
       " datetime.datetime(2017, 1, 1, 0, 8, 12),\n",
       " datetime.datetime(2017, 1, 1, 0, 14, 33)]"
      ]
     },
     "execution_count": 14,
     "metadata": {},
     "output_type": "execute_result"
    }
   ],
   "source": [
    "#check out what we made:\n",
    "avg_pace[:3]"
   ]
  },
  {
   "cell_type": "code",
   "execution_count": 15,
   "metadata": {},
   "outputs": [
    {
     "data": {
      "text/plain": [
       "[0.006180555556056788, 0.005694444444088731, 0.010104166667588288]"
      ]
     },
     "execution_count": 15,
     "metadata": {},
     "output_type": "execute_result"
    }
   ],
   "source": [
    "zero = mdates.date2num(zero)\n",
    "avg_pace = [t-zero for t in mdates.date2num(avg_pace)]\n",
    "avg_pace[:3]"
   ]
  },
  {
   "cell_type": "code",
   "execution_count": 16,
   "metadata": {},
   "outputs": [
    {
     "data": {
      "text/plain": [
       "<matplotlib.legend.Legend at 0x7fbce2019c40>"
      ]
     },
     "execution_count": 16,
     "metadata": {},
     "output_type": "execute_result"
    },
    {
     "data": {
      "image/png": "[encoded data removed]",
      "text/plain": [
       "<Figure size 1440x864 with 2 Axes>"
      ]
     },
     "metadata": {
      "needs_background": "light"
     },
     "output_type": "display_data"
    }
   ],
   "source": [
    "fig, ax = plt.subplots(figsize = (20, 12))\n",
    "ax.plot(s_1_1_run.index, avg_pace, label='Pace', color='orange')\n",
    "ax.set_xlabel(\"Date\",fontsize=24)\n",
    "ax.set_ylabel(\"Pace\", fontsize=24, color='orange')\n",
    "ax.yaxis.set_major_formatter(mdates.DateFormatter(\"%H:%M:%S\"))\n",
    "plt.legend(loc='upper left')\n",
    "ax2 = ax.twinx()\n",
    "ax2.plot(s_1_1_run.index, s_1_1_run['distance'], label = 'Distance', color='blue')\n",
    "ax2.set_ylabel(\"Distance\", fontsize=24, color = 'blue')\n",
    "plt.legend()"
   ]
  },
  {
   "cell_type": "code",
   "execution_count": 17,
   "metadata": {},
   "outputs": [],
   "source": [
    "#Let's read in the 3 month file:\n",
    "sample_3_mo = pd.read_csv('./data/races/athlete_9/athlete_9_race_10_3_mo.csv', index_col='date')"
   ]
  },
  {
   "cell_type": "code",
   "execution_count": 18,
   "metadata": {},
   "outputs": [
    {
     "name": "stdout",
     "output_type": "stream",
     "text": [
      "<class 'pandas.core.frame.DataFrame'>\n",
      "Index: 29 entries, 2017-01-19 to 2017-04-22\n",
      "Data columns (total 48 columns):\n",
      " #   Column                    Non-Null Count  Dtype  \n",
      "---  ------                    --------------  -----  \n",
      " 0   activity_type             29 non-null     object \n",
      " 1   favorite                  29 non-null     bool   \n",
      " 2   title                     29 non-null     object \n",
      " 3   distance                  29 non-null     object \n",
      " 4   calories                  29 non-null     object \n",
      " 5   time                      29 non-null     object \n",
      " 6   avg_hr                    29 non-null     int64  \n",
      " 7   max_hr                    29 non-null     int64  \n",
      " 8   aerobic_te                29 non-null     float64\n",
      " 9   avg_run_cadence           29 non-null     int64  \n",
      " 10  max_run_cadence           29 non-null     int64  \n",
      " 11  avg_speed                 29 non-null     object \n",
      " 12  max_speed                 29 non-null     object \n",
      " 13  elev_gain                 29 non-null     object \n",
      " 14  elev_loss                 29 non-null     object \n",
      " 15  avg_stride_length         29 non-null     float64\n",
      " 16  avg_vertical_ratio        29 non-null     float64\n",
      " 17  avg_vertical_oscillation  29 non-null     float64\n",
      " 18  avg_ground_contact_time   29 non-null     int64  \n",
      " 19  avg_gct_balance           29 non-null     object \n",
      " 20  avg_bike_cadence          29 non-null     int64  \n",
      " 21  max_bike_cadence          29 non-null     int64  \n",
      " 22  normalized_powerâ_npâ     29 non-null     int64  \n",
      " 23  lr_balance                29 non-null     object \n",
      " 24  training_stress_scoreâ    29 non-null     float64\n",
      " 25  max_avg_power_20_min      29 non-null     int64  \n",
      " 26  avg_power                 29 non-null     int64  \n",
      " 27  max_power                 29 non-null     int64  \n",
      " 28  grit                      29 non-null     float64\n",
      " 29  flow                      29 non-null     float64\n",
      " 30  total_strokes             29 non-null     int64  \n",
      " 31  avg__swolf                29 non-null     int64  \n",
      " 32  avg_stroke_rate           29 non-null     int64  \n",
      " 33  total_reps                29 non-null     int64  \n",
      " 34  total_sets                29 non-null     int64  \n",
      " 35  climb_time                29 non-null     object \n",
      " 36  bottom_time               29 non-null     object \n",
      " 37  min_temp                  29 non-null     float64\n",
      " 38  surface_interval          29 non-null     object \n",
      " 39  decompression             29 non-null     object \n",
      " 40  best_lap_time             29 non-null     object \n",
      " 41  number_of_laps            29 non-null     int64  \n",
      " 42  max_temp                  29 non-null     float64\n",
      " 43  athlete_id                29 non-null     int64  \n",
      " 44  filetype                  29 non-null     object \n",
      " 45  is_race                   29 non-null     int64  \n",
      " 46  avg_pace                  29 non-null     object \n",
      " 47  best_pace                 29 non-null     object \n",
      "dtypes: bool(1), float64(9), int64(19), object(19)\n",
      "memory usage: 10.9+ KB\n"
     ]
    }
   ],
   "source": [
    "s_1_3_run = sample_3_mo[sample_3_mo['activity_type'] == 'Running']\n",
    "s_1_3_run.info()"
   ]
  },
  {
   "cell_type": "code",
   "execution_count": 19,
   "metadata": {},
   "outputs": [],
   "source": [
    "s_1_3_run['avg_pace'] = pd.to_timedelta(s_1_3_run['avg_pace'])\n",
    "s_1_3_run['distance'] = pd.to_numeric(s_1_3_run['distance'])"
   ]
  },
  {
   "cell_type": "code",
   "execution_count": 20,
   "metadata": {},
   "outputs": [
    {
     "data": {
      "text/plain": [
       "[0.00640046296393848, 0.0060995370367891155, 0.005798611109639751]"
      ]
     },
     "execution_count": 20,
     "metadata": {},
     "output_type": "execute_result"
    }
   ],
   "source": [
    "#Let's process some timedeltas so we can actually graph them:\n",
    "#Arbitrary zero time/date:\n",
    "zero = datetime.datetime(2017,1,1)\n",
    "avg_pace = [zero + t for t in s_1_3_run['avg_pace']]\n",
    "zero = mdates.date2num(zero)\n",
    "avg_pace = [t-zero for t in mdates.date2num(avg_pace)]\n",
    "#Output is in fractions of a day:\n",
    "avg_pace[:3]"
   ]
  },
  {
   "cell_type": "code",
   "execution_count": 21,
   "metadata": {},
   "outputs": [
    {
     "data": {
      "text/plain": [
       "<matplotlib.legend.Legend at 0x7fbce2f9df10>"
      ]
     },
     "execution_count": 21,
     "metadata": {},
     "output_type": "execute_result"
    },
    {
     "data": {
      "image/png": "[encoded data removed]",
      "text/plain": [
       "<Figure size 2016x1080 with 2 Axes>"
      ]
     },
     "metadata": {
      "needs_background": "light"
     },
     "output_type": "display_data"
    }
   ],
   "source": [
    "fig, ax = plt.subplots(figsize = (28, 15))\n",
    "ax.plot(s_1_3_run.index, avg_pace, label='Pace', color='orange')\n",
    "ax.set_xlabel(\"Date\",fontsize=24)\n",
    "ax.set_ylabel(\"Pace\", fontsize=24, color='orange')\n",
    "ax.yaxis.set_major_formatter(mdates.DateFormatter(\"%H:%M:%S\"))\n",
    "plt.legend(loc='upper left')\n",
    "ax2 = ax.twinx()\n",
    "ax2.plot(s_1_3_run.index, s_1_3_run['distance'], label = 'Distance', color='blue')\n",
    "ax2.set_ylabel(\"Distance\", fontsize=24, color = 'blue')\n",
    "plt.legend()"
   ]
  },
  {
   "cell_type": "code",
   "execution_count": 22,
   "metadata": {},
   "outputs": [],
   "source": [
    "#Let's process some timedeltas so we can actually graph them:\n",
    "#Arbitrary zero time/date:\n",
    "zero = datetime.datetime(2017,1,1)\n",
    "train_pace_1 = [zero + t for t in s_1_3_run[s_1_3_run['is_race']==0]['avg_pace']]\n",
    "zero = mdates.date2num(zero)\n",
    "train_pace_1 = [t-zero for t in mdates.date2num(train_pace_1)]"
   ]
  },
  {
   "cell_type": "code",
   "execution_count": 23,
   "metadata": {},
   "outputs": [
    {
     "data": {
      "text/plain": [
       "[<matplotlib.lines.Line2D at 0x7fbcdf58d700>]"
      ]
     },
     "execution_count": 23,
     "metadata": {},
     "output_type": "execute_result"
    },
    {
     "data": {
      "image/png": "[encoded data removed]",
      "text/plain": [
       "<Figure size 2016x1080 with 1 Axes>"
      ]
     },
     "metadata": {
      "needs_background": "light"
     },
     "output_type": "display_data"
    }
   ],
   "source": [
    "#Lets plot a curve of the distances vs. paces, where the data is not a race:\n",
    "fig, ax = plt.subplots(figsize=(28,15))\n",
    "ax.scatter(s_1_3_run[s_1_3_run['is_race'] == 0]['distance'], train_pace_1)\n",
    "ax.yaxis.set_major_formatter(mdates.DateFormatter(\"%H:%M:%S\"))\n",
    "m_1, b_1 = np.polyfit(s_1_3_run[s_1_3_run['is_race'] == 0]['distance'], train_pace_1, 1)\n",
    "plt.plot((s_1_3_run[s_1_3_run['is_race'] == 0]['distance']), (s_1_3_run[s_1_3_run['is_race'] == 0]['distance'])*m_1+b_1, color='red')\n"
   ]
  },
  {
   "cell_type": "code",
   "execution_count": 24,
   "metadata": {},
   "outputs": [],
   "source": [
    "#Looks like this athlete is pretty consistent."
   ]
  },
  {
   "cell_type": "markdown",
   "metadata": {},
   "source": [
    "Let's predict based on this fit:"
   ]
  },
  {
   "cell_type": "code",
   "execution_count": 25,
   "metadata": {},
   "outputs": [
    {
     "data": {
      "text/plain": [
       "date\n",
       "2017-04-09    2.64\n",
       "2017-04-22    0.67\n",
       "2017-04-22    3.26\n",
       "Name: distance, dtype: float64"
      ]
     },
     "execution_count": 25,
     "metadata": {},
     "output_type": "execute_result"
    }
   ],
   "source": [
    "s_1_3_run[s_1_3_run['is_race'] == 1]['distance']"
   ]
  },
  {
   "cell_type": "code",
   "execution_count": 26,
   "metadata": {},
   "outputs": [
    {
     "data": {
      "text/plain": [
       "493.84964360903734"
      ]
     },
     "execution_count": 26,
     "metadata": {},
     "output_type": "execute_result"
    }
   ],
   "source": [
    "race1 = m_1*2.64+b_1\n",
    "race1_s = race1 * 24 * 60 * 60\n",
    "race1_s"
   ]
  },
  {
   "cell_type": "code",
   "execution_count": 27,
   "metadata": {},
   "outputs": [
    {
     "data": {
      "text/plain": [
       "8.0"
      ]
     },
     "execution_count": 27,
     "metadata": {},
     "output_type": "execute_result"
    }
   ],
   "source": [
    "race1_s // 60"
   ]
  },
  {
   "cell_type": "code",
   "execution_count": 28,
   "metadata": {},
   "outputs": [
    {
     "data": {
      "text/plain": [
       "13.849643609037344"
      ]
     },
     "execution_count": 28,
     "metadata": {},
     "output_type": "execute_result"
    }
   ],
   "source": [
    "race1_s % 60"
   ]
  },
  {
   "cell_type": "markdown",
   "metadata": {},
   "source": [
    "8:13 predicted."
   ]
  },
  {
   "cell_type": "code",
   "execution_count": 29,
   "metadata": {},
   "outputs": [
    {
     "data": {
      "text/plain": [
       "date\n",
       "2017-04-09   0 days 00:08:19\n",
       "2017-04-22   0 days 00:08:08\n",
       "2017-04-22   0 days 00:07:22\n",
       "Name: avg_pace, dtype: timedelta64[ns]"
      ]
     },
     "execution_count": 29,
     "metadata": {},
     "output_type": "execute_result"
    }
   ],
   "source": [
    "s_1_3_run[s_1_3_run['is_race'] == 1]['avg_pace']"
   ]
  },
  {
   "cell_type": "markdown",
   "metadata": {},
   "source": [
    "8:19 actual!!!"
   ]
  },
  {
   "cell_type": "code",
   "execution_count": 30,
   "metadata": {},
   "outputs": [
    {
     "data": {
      "text/plain": [
       "496.0363228693127"
      ]
     },
     "execution_count": 30,
     "metadata": {},
     "output_type": "execute_result"
    }
   ],
   "source": [
    "race2 = m_1*3.26+b_1\n",
    "race2_s = race2 * 24 * 60 * 60\n",
    "race2_s"
   ]
  },
  {
   "cell_type": "code",
   "execution_count": 31,
   "metadata": {},
   "outputs": [
    {
     "data": {
      "text/plain": [
       "8.0"
      ]
     },
     "execution_count": 31,
     "metadata": {},
     "output_type": "execute_result"
    }
   ],
   "source": [
    "race2_s // 60"
   ]
  },
  {
   "cell_type": "code",
   "execution_count": 32,
   "metadata": {},
   "outputs": [
    {
     "data": {
      "text/plain": [
       "16.0363228693127"
      ]
     },
     "execution_count": 32,
     "metadata": {},
     "output_type": "execute_result"
    }
   ],
   "source": [
    "race2_s % 60"
   ]
  },
  {
   "cell_type": "markdown",
   "metadata": {},
   "source": [
    "Race 2 prediction: 8:16. Actual: 7:22. "
   ]
  },
  {
   "cell_type": "code",
   "execution_count": 33,
   "metadata": {},
   "outputs": [
    {
     "data": {
      "text/html": [
       "<div>\n",
       "<style scoped>\n",
       "    .dataframe tbody tr th:only-of-type {\n",
       "        vertical-align: middle;\n",
       "    }\n",
       "\n",
       "    .dataframe tbody tr th {\n",
       "        vertical-align: top;\n",
       "    }\n",
       "\n",
       "    .dataframe thead th {\n",
       "        text-align: right;\n",
       "    }\n",
       "</style>\n",
       "<table border=\"1\" class=\"dataframe\">\n",
       "  <thead>\n",
       "    <tr style=\"text-align: right;\">\n",
       "      <th></th>\n",
       "      <th>avg_hr</th>\n",
       "      <th>elev_gain</th>\n",
       "    </tr>\n",
       "    <tr>\n",
       "      <th>date</th>\n",
       "      <th></th>\n",
       "      <th></th>\n",
       "    </tr>\n",
       "  </thead>\n",
       "  <tbody>\n",
       "    <tr>\n",
       "      <th>2017-04-09</th>\n",
       "      <td>157</td>\n",
       "      <td>89</td>\n",
       "    </tr>\n",
       "    <tr>\n",
       "      <th>2017-04-22</th>\n",
       "      <td>150</td>\n",
       "      <td>16</td>\n",
       "    </tr>\n",
       "    <tr>\n",
       "      <th>2017-04-22</th>\n",
       "      <td>163</td>\n",
       "      <td>128</td>\n",
       "    </tr>\n",
       "  </tbody>\n",
       "</table>\n",
       "</div>"
      ],
      "text/plain": [
       "            avg_hr elev_gain\n",
       "date                        \n",
       "2017-04-09     157        89\n",
       "2017-04-22     150        16\n",
       "2017-04-22     163       128"
      ]
     },
     "execution_count": 33,
     "metadata": {},
     "output_type": "execute_result"
    }
   ],
   "source": [
    "s_1_3_run[s_1_3_run['is_race'] == 1][['avg_hr', 'elev_gain']]"
   ]
  },
  {
   "cell_type": "code",
   "execution_count": 34,
   "metadata": {},
   "outputs": [],
   "source": [
    "#Initial EDA \n",
    "#We have parsed out the data from garmin for each athlete, and gathered 1 month prior and 3 months prior data."
   ]
  },
  {
   "cell_type": "code",
   "execution_count": 35,
   "metadata": {},
   "outputs": [],
   "source": [
    "#Let's read in a sample 1 month file:\n",
    "sample_3_mo = pd.read_csv('./data/races/athlete_3/athlete_3_race_1_3_mo.csv', index_col='date')"
   ]
  },
  {
   "cell_type": "code",
   "execution_count": 36,
   "metadata": {},
   "outputs": [
    {
     "data": {
      "text/html": [
       "<div>\n",
       "<style scoped>\n",
       "    .dataframe tbody tr th:only-of-type {\n",
       "        vertical-align: middle;\n",
       "    }\n",
       "\n",
       "    .dataframe tbody tr th {\n",
       "        vertical-align: top;\n",
       "    }\n",
       "\n",
       "    .dataframe thead th {\n",
       "        text-align: right;\n",
       "    }\n",
       "</style>\n",
       "<table border=\"1\" class=\"dataframe\">\n",
       "  <thead>\n",
       "    <tr style=\"text-align: right;\">\n",
       "      <th></th>\n",
       "      <th>activity_type</th>\n",
       "      <th>favorite</th>\n",
       "      <th>title</th>\n",
       "      <th>distance</th>\n",
       "      <th>calories</th>\n",
       "      <th>time</th>\n",
       "      <th>avg_hr</th>\n",
       "      <th>max_hr</th>\n",
       "      <th>aerobic_te</th>\n",
       "      <th>avg_run_cadence</th>\n",
       "      <th>...</th>\n",
       "      <th>decompression</th>\n",
       "      <th>best_lap_time</th>\n",
       "      <th>number_of_laps</th>\n",
       "      <th>max_temp</th>\n",
       "      <th>avg_resp</th>\n",
       "      <th>min_resp</th>\n",
       "      <th>max_resp</th>\n",
       "      <th>athlete_id</th>\n",
       "      <th>filetype</th>\n",
       "      <th>is_race</th>\n",
       "    </tr>\n",
       "    <tr>\n",
       "      <th>date</th>\n",
       "      <th></th>\n",
       "      <th></th>\n",
       "      <th></th>\n",
       "      <th></th>\n",
       "      <th></th>\n",
       "      <th></th>\n",
       "      <th></th>\n",
       "      <th></th>\n",
       "      <th></th>\n",
       "      <th></th>\n",
       "      <th></th>\n",
       "      <th></th>\n",
       "      <th></th>\n",
       "      <th></th>\n",
       "      <th></th>\n",
       "      <th></th>\n",
       "      <th></th>\n",
       "      <th></th>\n",
       "      <th></th>\n",
       "      <th></th>\n",
       "      <th></th>\n",
       "    </tr>\n",
       "  </thead>\n",
       "  <tbody>\n",
       "    <tr>\n",
       "      <th>2018-03-09</th>\n",
       "      <td>Pool Swimming</td>\n",
       "      <td>False</td>\n",
       "      <td>Lap Swimming</td>\n",
       "      <td>2,300</td>\n",
       "      <td>416</td>\n",
       "      <td>00:57:22</td>\n",
       "      <td>0</td>\n",
       "      <td>0</td>\n",
       "      <td>0.0</td>\n",
       "      <td>0</td>\n",
       "      <td>...</td>\n",
       "      <td>No</td>\n",
       "      <td>00:00.00</td>\n",
       "      <td>72</td>\n",
       "      <td>0.0</td>\n",
       "      <td>0</td>\n",
       "      <td>0</td>\n",
       "      <td>0</td>\n",
       "      <td>3</td>\n",
       "      <td>garmin</td>\n",
       "      <td>0</td>\n",
       "    </tr>\n",
       "    <tr>\n",
       "      <th>2018-03-10</th>\n",
       "      <td>Running</td>\n",
       "      <td>False</td>\n",
       "      <td>Lafayette Running</td>\n",
       "      <td>3.30</td>\n",
       "      <td>409</td>\n",
       "      <td>00:25:02</td>\n",
       "      <td>153</td>\n",
       "      <td>164</td>\n",
       "      <td>2.7</td>\n",
       "      <td>173</td>\n",
       "      <td>...</td>\n",
       "      <td>No</td>\n",
       "      <td>00:00.00</td>\n",
       "      <td>2</td>\n",
       "      <td>0.0</td>\n",
       "      <td>0</td>\n",
       "      <td>0</td>\n",
       "      <td>0</td>\n",
       "      <td>3</td>\n",
       "      <td>garmin</td>\n",
       "      <td>0</td>\n",
       "    </tr>\n",
       "    <tr>\n",
       "      <th>2018-03-10</th>\n",
       "      <td>Pool Swimming</td>\n",
       "      <td>False</td>\n",
       "      <td>Lap Swimming</td>\n",
       "      <td>2,000</td>\n",
       "      <td>390</td>\n",
       "      <td>00:36:47</td>\n",
       "      <td>0</td>\n",
       "      <td>0</td>\n",
       "      <td>0.0</td>\n",
       "      <td>0</td>\n",
       "      <td>...</td>\n",
       "      <td>No</td>\n",
       "      <td>00:00.00</td>\n",
       "      <td>38</td>\n",
       "      <td>0.0</td>\n",
       "      <td>0</td>\n",
       "      <td>0</td>\n",
       "      <td>0</td>\n",
       "      <td>3</td>\n",
       "      <td>garmin</td>\n",
       "      <td>0</td>\n",
       "    </tr>\n",
       "    <tr>\n",
       "      <th>2018-03-10</th>\n",
       "      <td>Indoor Cycling</td>\n",
       "      <td>False</td>\n",
       "      <td>Indoor Cycling</td>\n",
       "      <td>0.00</td>\n",
       "      <td>2,006</td>\n",
       "      <td>02:40:03</td>\n",
       "      <td>137</td>\n",
       "      <td>168</td>\n",
       "      <td>3.4</td>\n",
       "      <td>0</td>\n",
       "      <td>...</td>\n",
       "      <td>No</td>\n",
       "      <td>00:00.00</td>\n",
       "      <td>16</td>\n",
       "      <td>0.0</td>\n",
       "      <td>0</td>\n",
       "      <td>0</td>\n",
       "      <td>0</td>\n",
       "      <td>3</td>\n",
       "      <td>garmin</td>\n",
       "      <td>0</td>\n",
       "    </tr>\n",
       "    <tr>\n",
       "      <th>2018-03-11</th>\n",
       "      <td>Running</td>\n",
       "      <td>False</td>\n",
       "      <td>Denver Running</td>\n",
       "      <td>12.01</td>\n",
       "      <td>1,220</td>\n",
       "      <td>01:31:38</td>\n",
       "      <td>146</td>\n",
       "      <td>163</td>\n",
       "      <td>2.6</td>\n",
       "      <td>175</td>\n",
       "      <td>...</td>\n",
       "      <td>No</td>\n",
       "      <td>00:00.00</td>\n",
       "      <td>2</td>\n",
       "      <td>0.0</td>\n",
       "      <td>0</td>\n",
       "      <td>0</td>\n",
       "      <td>0</td>\n",
       "      <td>3</td>\n",
       "      <td>garmin</td>\n",
       "      <td>0</td>\n",
       "    </tr>\n",
       "  </tbody>\n",
       "</table>\n",
       "<p>5 rows × 49 columns</p>\n",
       "</div>"
      ],
      "text/plain": [
       "             activity_type  favorite              title distance calories  \\\n",
       "date                                                                        \n",
       "2018-03-09   Pool Swimming     False       Lap Swimming    2,300      416   \n",
       "2018-03-10         Running     False  Lafayette Running     3.30      409   \n",
       "2018-03-10   Pool Swimming     False       Lap Swimming    2,000      390   \n",
       "2018-03-10  Indoor Cycling     False     Indoor Cycling     0.00    2,006   \n",
       "2018-03-11         Running     False     Denver Running    12.01    1,220   \n",
       "\n",
       "                time  avg_hr  max_hr  aerobic_te  avg_run_cadence  ...  \\\n",
       "date                                                               ...   \n",
       "2018-03-09  00:57:22       0       0         0.0                0  ...   \n",
       "2018-03-10  00:25:02     153     164         2.7              173  ...   \n",
       "2018-03-10  00:36:47       0       0         0.0                0  ...   \n",
       "2018-03-10  02:40:03     137     168         3.4                0  ...   \n",
       "2018-03-11  01:31:38     146     163         2.6              175  ...   \n",
       "\n",
       "            decompression best_lap_time number_of_laps max_temp avg_resp  \\\n",
       "date                                                                       \n",
       "2018-03-09             No      00:00.00             72      0.0        0   \n",
       "2018-03-10             No      00:00.00              2      0.0        0   \n",
       "2018-03-10             No      00:00.00             38      0.0        0   \n",
       "2018-03-10             No      00:00.00             16      0.0        0   \n",
       "2018-03-11             No      00:00.00              2      0.0        0   \n",
       "\n",
       "            min_resp  max_resp  athlete_id  filetype is_race  \n",
       "date                                                          \n",
       "2018-03-09         0         0           3    garmin       0  \n",
       "2018-03-10         0         0           3    garmin       0  \n",
       "2018-03-10         0         0           3    garmin       0  \n",
       "2018-03-10         0         0           3    garmin       0  \n",
       "2018-03-11         0         0           3    garmin       0  \n",
       "\n",
       "[5 rows x 49 columns]"
      ]
     },
     "execution_count": 36,
     "metadata": {},
     "output_type": "execute_result"
    }
   ],
   "source": [
    "sample_3_mo.head()"
   ]
  },
  {
   "cell_type": "code",
   "execution_count": 37,
   "metadata": {},
   "outputs": [
    {
     "data": {
      "text/html": [
       "<div>\n",
       "<style scoped>\n",
       "    .dataframe tbody tr th:only-of-type {\n",
       "        vertical-align: middle;\n",
       "    }\n",
       "\n",
       "    .dataframe tbody tr th {\n",
       "        vertical-align: top;\n",
       "    }\n",
       "\n",
       "    .dataframe thead th {\n",
       "        text-align: right;\n",
       "    }\n",
       "</style>\n",
       "<table border=\"1\" class=\"dataframe\">\n",
       "  <thead>\n",
       "    <tr style=\"text-align: right;\">\n",
       "      <th></th>\n",
       "      <th>activity_type</th>\n",
       "      <th>favorite</th>\n",
       "      <th>title</th>\n",
       "      <th>distance</th>\n",
       "      <th>calories</th>\n",
       "      <th>time</th>\n",
       "      <th>avg_hr</th>\n",
       "      <th>max_hr</th>\n",
       "      <th>aerobic_te</th>\n",
       "      <th>avg_run_cadence</th>\n",
       "      <th>...</th>\n",
       "      <th>decompression</th>\n",
       "      <th>best_lap_time</th>\n",
       "      <th>number_of_laps</th>\n",
       "      <th>max_temp</th>\n",
       "      <th>avg_resp</th>\n",
       "      <th>min_resp</th>\n",
       "      <th>max_resp</th>\n",
       "      <th>athlete_id</th>\n",
       "      <th>filetype</th>\n",
       "      <th>is_race</th>\n",
       "    </tr>\n",
       "    <tr>\n",
       "      <th>date</th>\n",
       "      <th></th>\n",
       "      <th></th>\n",
       "      <th></th>\n",
       "      <th></th>\n",
       "      <th></th>\n",
       "      <th></th>\n",
       "      <th></th>\n",
       "      <th></th>\n",
       "      <th></th>\n",
       "      <th></th>\n",
       "      <th></th>\n",
       "      <th></th>\n",
       "      <th></th>\n",
       "      <th></th>\n",
       "      <th></th>\n",
       "      <th></th>\n",
       "      <th></th>\n",
       "      <th></th>\n",
       "      <th></th>\n",
       "      <th></th>\n",
       "      <th></th>\n",
       "    </tr>\n",
       "  </thead>\n",
       "  <tbody>\n",
       "    <tr>\n",
       "      <th>2018-05-05</th>\n",
       "      <td>Multisport</td>\n",
       "      <td>True</td>\n",
       "      <td>Hurricane Multi-Sport</td>\n",
       "      <td>70.12</td>\n",
       "      <td>3,699</td>\n",
       "      <td>04:35:41</td>\n",
       "      <td>0</td>\n",
       "      <td>172</td>\n",
       "      <td>0.0</td>\n",
       "      <td>0</td>\n",
       "      <td>...</td>\n",
       "      <td>No</td>\n",
       "      <td>00:00.00</td>\n",
       "      <td>5</td>\n",
       "      <td>0.0</td>\n",
       "      <td>0</td>\n",
       "      <td>0</td>\n",
       "      <td>0</td>\n",
       "      <td>3</td>\n",
       "      <td>garmin</td>\n",
       "      <td>1</td>\n",
       "    </tr>\n",
       "    <tr>\n",
       "      <th>2018-05-05</th>\n",
       "      <td>Cycling</td>\n",
       "      <td>False</td>\n",
       "      <td>Hurricane Cycling</td>\n",
       "      <td>55.55</td>\n",
       "      <td>2,378</td>\n",
       "      <td>02:28:57</td>\n",
       "      <td>150</td>\n",
       "      <td>159</td>\n",
       "      <td>0.0</td>\n",
       "      <td>0</td>\n",
       "      <td>...</td>\n",
       "      <td>No</td>\n",
       "      <td>00:00.00</td>\n",
       "      <td>1</td>\n",
       "      <td>0.0</td>\n",
       "      <td>0</td>\n",
       "      <td>0</td>\n",
       "      <td>0</td>\n",
       "      <td>3</td>\n",
       "      <td>garmin</td>\n",
       "      <td>1</td>\n",
       "    </tr>\n",
       "    <tr>\n",
       "      <th>2018-06-10</th>\n",
       "      <td>Multisport</td>\n",
       "      <td>True</td>\n",
       "      <td>Boulder Multi-Sport</td>\n",
       "      <td>139.75</td>\n",
       "      <td>6,936</td>\n",
       "      <td>11:00:17</td>\n",
       "      <td>0</td>\n",
       "      <td>162</td>\n",
       "      <td>0.0</td>\n",
       "      <td>0</td>\n",
       "      <td>...</td>\n",
       "      <td>No</td>\n",
       "      <td>00:00.00</td>\n",
       "      <td>5</td>\n",
       "      <td>0.0</td>\n",
       "      <td>0</td>\n",
       "      <td>0</td>\n",
       "      <td>0</td>\n",
       "      <td>3</td>\n",
       "      <td>garmin</td>\n",
       "      <td>1</td>\n",
       "    </tr>\n",
       "    <tr>\n",
       "      <th>2018-06-10</th>\n",
       "      <td>Cycling</td>\n",
       "      <td>False</td>\n",
       "      <td>Boulder Cycling</td>\n",
       "      <td>117.35</td>\n",
       "      <td>4,019</td>\n",
       "      <td>10:25:46</td>\n",
       "      <td>144</td>\n",
       "      <td>160</td>\n",
       "      <td>0.0</td>\n",
       "      <td>0</td>\n",
       "      <td>...</td>\n",
       "      <td>No</td>\n",
       "      <td>00:00.00</td>\n",
       "      <td>2</td>\n",
       "      <td>0.0</td>\n",
       "      <td>0</td>\n",
       "      <td>0</td>\n",
       "      <td>0</td>\n",
       "      <td>3</td>\n",
       "      <td>garmin</td>\n",
       "      <td>1</td>\n",
       "    </tr>\n",
       "  </tbody>\n",
       "</table>\n",
       "<p>4 rows × 49 columns</p>\n",
       "</div>"
      ],
      "text/plain": [
       "           activity_type  favorite                  title distance calories  \\\n",
       "date                                                                          \n",
       "2018-05-05    Multisport      True  Hurricane Multi-Sport    70.12    3,699   \n",
       "2018-05-05       Cycling     False      Hurricane Cycling    55.55    2,378   \n",
       "2018-06-10    Multisport      True    Boulder Multi-Sport   139.75    6,936   \n",
       "2018-06-10       Cycling     False        Boulder Cycling   117.35    4,019   \n",
       "\n",
       "                time  avg_hr  max_hr  aerobic_te  avg_run_cadence  ...  \\\n",
       "date                                                               ...   \n",
       "2018-05-05  04:35:41       0     172         0.0                0  ...   \n",
       "2018-05-05  02:28:57     150     159         0.0                0  ...   \n",
       "2018-06-10  11:00:17       0     162         0.0                0  ...   \n",
       "2018-06-10  10:25:46     144     160         0.0                0  ...   \n",
       "\n",
       "            decompression best_lap_time number_of_laps max_temp avg_resp  \\\n",
       "date                                                                       \n",
       "2018-05-05             No      00:00.00              5      0.0        0   \n",
       "2018-05-05             No      00:00.00              1      0.0        0   \n",
       "2018-06-10             No      00:00.00              5      0.0        0   \n",
       "2018-06-10             No      00:00.00              2      0.0        0   \n",
       "\n",
       "            min_resp  max_resp  athlete_id  filetype is_race  \n",
       "date                                                          \n",
       "2018-05-05         0         0           3    garmin       1  \n",
       "2018-05-05         0         0           3    garmin       1  \n",
       "2018-06-10         0         0           3    garmin       1  \n",
       "2018-06-10         0         0           3    garmin       1  \n",
       "\n",
       "[4 rows x 49 columns]"
      ]
     },
     "execution_count": 37,
     "metadata": {},
     "output_type": "execute_result"
    }
   ],
   "source": [
    "#Find out what the race is:\n",
    "sample_3_mo[sample_3_mo['is_race'] == 1]"
   ]
  },
  {
   "cell_type": "code",
   "execution_count": 38,
   "metadata": {},
   "outputs": [],
   "source": [
    "#Looks like it was a triathlon. (activity_type = Multi-Sport)"
   ]
  },
  {
   "cell_type": "markdown",
   "metadata": {},
   "source": [
    "Let's look at just the running portion:"
   ]
  },
  {
   "cell_type": "code",
   "execution_count": 39,
   "metadata": {},
   "outputs": [
    {
     "name": "stdout",
     "output_type": "stream",
     "text": [
      "<class 'pandas.core.frame.DataFrame'>\n",
      "Index: 52 entries, 2018-03-10 to 2018-06-07\n",
      "Data columns (total 49 columns):\n",
      " #   Column                    Non-Null Count  Dtype  \n",
      "---  ------                    --------------  -----  \n",
      " 0   activity_type             52 non-null     object \n",
      " 1   favorite                  52 non-null     bool   \n",
      " 2   title                     52 non-null     object \n",
      " 3   distance                  52 non-null     object \n",
      " 4   calories                  52 non-null     object \n",
      " 5   time                      52 non-null     object \n",
      " 6   avg_hr                    52 non-null     int64  \n",
      " 7   max_hr                    52 non-null     int64  \n",
      " 8   aerobic_te                52 non-null     float64\n",
      " 9   avg_run_cadence           52 non-null     int64  \n",
      " 10  max_run_cadence           52 non-null     int64  \n",
      " 11  avg_pace                  52 non-null     object \n",
      " 12  best_pace                 52 non-null     object \n",
      " 13  elev_gain                 52 non-null     object \n",
      " 14  elev_loss                 52 non-null     object \n",
      " 15  avg_stride_length         52 non-null     float64\n",
      " 16  avg_vertical_ratio        52 non-null     float64\n",
      " 17  avg_vertical_oscillation  52 non-null     float64\n",
      " 18  avg_ground_contact_time   52 non-null     int64  \n",
      " 19  avg_gct_balance           52 non-null     object \n",
      " 20  avg_run_cadence_1         52 non-null     int64  \n",
      " 21  max_run_cadence_1         52 non-null     int64  \n",
      " 22  normalized_powerâ_npâ     52 non-null     int64  \n",
      " 23  lr_balance                52 non-null     object \n",
      " 24  training_stress_scoreâ    52 non-null     float64\n",
      " 25  max_avg_power_20_min      52 non-null     int64  \n",
      " 26  avg_power                 52 non-null     int64  \n",
      " 27  max_power                 52 non-null     int64  \n",
      " 28  grit                      52 non-null     float64\n",
      " 29  flow                      52 non-null     float64\n",
      " 30  total_strokes             52 non-null     int64  \n",
      " 31  avg__swolf                52 non-null     int64  \n",
      " 32  avg_stroke_rate           52 non-null     int64  \n",
      " 33  total_reps                52 non-null     int64  \n",
      " 34  total_sets                52 non-null     int64  \n",
      " 35  climb_time                52 non-null     object \n",
      " 36  bottom_time               52 non-null     object \n",
      " 37  min_temp                  52 non-null     float64\n",
      " 38  surface_interval          52 non-null     object \n",
      " 39  decompression             52 non-null     object \n",
      " 40  best_lap_time             52 non-null     object \n",
      " 41  number_of_laps            52 non-null     int64  \n",
      " 42  max_temp                  52 non-null     float64\n",
      " 43  avg_resp                  52 non-null     int64  \n",
      " 44  min_resp                  52 non-null     int64  \n",
      " 45  max_resp                  52 non-null     int64  \n",
      " 46  athlete_id                52 non-null     int64  \n",
      " 47  filetype                  52 non-null     object \n",
      " 48  is_race                   52 non-null     int64  \n",
      "dtypes: bool(1), float64(9), int64(22), object(17)\n",
      "memory usage: 20.0+ KB\n"
     ]
    }
   ],
   "source": [
    "s_3_1_run = sample_3_mo[sample_3_mo['activity_type'] == 'Running']\n",
    "s_3_1_run.info()"
   ]
  },
  {
   "cell_type": "code",
   "execution_count": 40,
   "metadata": {},
   "outputs": [],
   "source": [
    "s_3_1_run['avg_pace'] = pd.to_timedelta(s_3_1_run['avg_pace'])"
   ]
  },
  {
   "cell_type": "code",
   "execution_count": 41,
   "metadata": {},
   "outputs": [
    {
     "data": {
      "text/plain": [
       "numpy.float64"
      ]
     },
     "execution_count": 41,
     "metadata": {},
     "output_type": "execute_result"
    }
   ],
   "source": [
    "s_3_1_run['distance'] = pd.to_numeric(s_3_1_run['distance'])\n",
    "type(s_1_1_run['distance'][0])"
   ]
  },
  {
   "cell_type": "code",
   "execution_count": 42,
   "metadata": {},
   "outputs": [
    {
     "data": {
      "text/plain": [
       "pandas._libs.tslibs.timedeltas.Timedelta"
      ]
     },
     "execution_count": 42,
     "metadata": {},
     "output_type": "execute_result"
    }
   ],
   "source": [
    "type(s_3_1_run['avg_pace'][0])"
   ]
  },
  {
   "cell_type": "code",
   "execution_count": 43,
   "metadata": {},
   "outputs": [
    {
     "data": {
      "text/plain": [
       "Timedelta('0 days 00:07:35')"
      ]
     },
     "execution_count": 43,
     "metadata": {},
     "output_type": "execute_result"
    }
   ],
   "source": [
    "s_3_1_run['avg_pace'][0]"
   ]
  },
  {
   "cell_type": "code",
   "execution_count": 44,
   "metadata": {},
   "outputs": [],
   "source": [
    "#Let's process some timedeltas so we can actually graph them:\n",
    "#Arbitrary zero time/date:\n",
    "zero = datetime.datetime(2017,1,1)\n",
    "avg_pace = [zero + t for t in s_3_1_run['avg_pace']]"
   ]
  },
  {
   "cell_type": "code",
   "execution_count": 45,
   "metadata": {},
   "outputs": [
    {
     "data": {
      "text/plain": [
       "[datetime.datetime(2017, 1, 1, 0, 7, 35),\n",
       " datetime.datetime(2017, 1, 1, 0, 7, 38),\n",
       " datetime.datetime(2017, 1, 1, 0, 7, 20)]"
      ]
     },
     "execution_count": 45,
     "metadata": {},
     "output_type": "execute_result"
    }
   ],
   "source": [
    "#check out what we made:\n",
    "avg_pace[:3]"
   ]
  },
  {
   "cell_type": "code",
   "execution_count": 46,
   "metadata": {},
   "outputs": [
    {
     "data": {
      "text/plain": [
       "[0.005266203705104999, 0.00530092592453002, 0.00509259259342798]"
      ]
     },
     "execution_count": 46,
     "metadata": {},
     "output_type": "execute_result"
    }
   ],
   "source": [
    "zero = mdates.date2num(zero)\n",
    "avg_pace = [t-zero for t in mdates.date2num(avg_pace)]\n",
    "avg_pace[:3]"
   ]
  },
  {
   "cell_type": "code",
   "execution_count": 55,
   "metadata": {},
   "outputs": [
    {
     "data": {
      "text/plain": [
       "<matplotlib.legend.Legend at 0x7fbce557c790>"
      ]
     },
     "execution_count": 55,
     "metadata": {},
     "output_type": "execute_result"
    },
    {
     "data": {
      "image/png": "[encoded data removed]",
      "text/plain": [
       "<Figure size 1440x864 with 2 Axes>"
      ]
     },
     "metadata": {
      "needs_background": "light"
     },
     "output_type": "display_data"
    }
   ],
   "source": [
    "fig, ax = plt.subplots(figsize = (20, 12))\n",
    "ax.plot(s_3_1_run.index, avg_pace, label='Pace', color='orange')\n",
    "ax.set_xlabel(\"Date\",fontsize=24)\n",
    "ax.set_ylabel(\"Pace\", fontsize=24, color='orange')\n",
    "ax.yaxis.set_major_formatter(mdates.DateFormatter(\"%H:%M:%S\"))\n",
    "plt.legend(loc='upper left')\n",
    "ax2 = ax.twinx()\n",
    "ax2.plot(s_3_1_run.index, s_3_1_run['distance'], label = 'Distance', color='blue')\n",
    "ax2.set_ylabel(\"Distance\", fontsize=24, color = 'blue')\n",
    "plt.xticks(rotation = 90)\n",
    "plt.legend()"
   ]
  },
  {
   "cell_type": "code",
   "execution_count": 48,
   "metadata": {},
   "outputs": [],
   "source": [
    "#Let's read in the 3 month file:\n",
    "sample_3_mo = pd.read_csv('./data/races/athlete_3/athlete_3_race_1_3_mo.csv', index_col='date')"
   ]
  },
  {
   "cell_type": "code",
   "execution_count": 49,
   "metadata": {},
   "outputs": [
    {
     "name": "stdout",
     "output_type": "stream",
     "text": [
      "<class 'pandas.core.frame.DataFrame'>\n",
      "Index: 52 entries, 2018-03-10 to 2018-06-07\n",
      "Data columns (total 49 columns):\n",
      " #   Column                    Non-Null Count  Dtype  \n",
      "---  ------                    --------------  -----  \n",
      " 0   activity_type             52 non-null     object \n",
      " 1   favorite                  52 non-null     bool   \n",
      " 2   title                     52 non-null     object \n",
      " 3   distance                  52 non-null     object \n",
      " 4   calories                  52 non-null     object \n",
      " 5   time                      52 non-null     object \n",
      " 6   avg_hr                    52 non-null     int64  \n",
      " 7   max_hr                    52 non-null     int64  \n",
      " 8   aerobic_te                52 non-null     float64\n",
      " 9   avg_run_cadence           52 non-null     int64  \n",
      " 10  max_run_cadence           52 non-null     int64  \n",
      " 11  avg_pace                  52 non-null     object \n",
      " 12  best_pace                 52 non-null     object \n",
      " 13  elev_gain                 52 non-null     object \n",
      " 14  elev_loss                 52 non-null     object \n",
      " 15  avg_stride_length         52 non-null     float64\n",
      " 16  avg_vertical_ratio        52 non-null     float64\n",
      " 17  avg_vertical_oscillation  52 non-null     float64\n",
      " 18  avg_ground_contact_time   52 non-null     int64  \n",
      " 19  avg_gct_balance           52 non-null     object \n",
      " 20  avg_run_cadence_1         52 non-null     int64  \n",
      " 21  max_run_cadence_1         52 non-null     int64  \n",
      " 22  normalized_powerâ_npâ     52 non-null     int64  \n",
      " 23  lr_balance                52 non-null     object \n",
      " 24  training_stress_scoreâ    52 non-null     float64\n",
      " 25  max_avg_power_20_min      52 non-null     int64  \n",
      " 26  avg_power                 52 non-null     int64  \n",
      " 27  max_power                 52 non-null     int64  \n",
      " 28  grit                      52 non-null     float64\n",
      " 29  flow                      52 non-null     float64\n",
      " 30  total_strokes             52 non-null     int64  \n",
      " 31  avg__swolf                52 non-null     int64  \n",
      " 32  avg_stroke_rate           52 non-null     int64  \n",
      " 33  total_reps                52 non-null     int64  \n",
      " 34  total_sets                52 non-null     int64  \n",
      " 35  climb_time                52 non-null     object \n",
      " 36  bottom_time               52 non-null     object \n",
      " 37  min_temp                  52 non-null     float64\n",
      " 38  surface_interval          52 non-null     object \n",
      " 39  decompression             52 non-null     object \n",
      " 40  best_lap_time             52 non-null     object \n",
      " 41  number_of_laps            52 non-null     int64  \n",
      " 42  max_temp                  52 non-null     float64\n",
      " 43  avg_resp                  52 non-null     int64  \n",
      " 44  min_resp                  52 non-null     int64  \n",
      " 45  max_resp                  52 non-null     int64  \n",
      " 46  athlete_id                52 non-null     int64  \n",
      " 47  filetype                  52 non-null     object \n",
      " 48  is_race                   52 non-null     int64  \n",
      "dtypes: bool(1), float64(9), int64(22), object(17)\n",
      "memory usage: 20.0+ KB\n"
     ]
    }
   ],
   "source": [
    "s_3_3_run = sample_3_mo[sample_3_mo['activity_type'] == 'Running']\n",
    "s_3_3_run.info()"
   ]
  },
  {
   "cell_type": "code",
   "execution_count": 50,
   "metadata": {},
   "outputs": [],
   "source": [
    "s_3_3_run['avg_pace'] = pd.to_timedelta(s_3_3_run['avg_pace'])\n",
    "s_3_3_run['distance'] = pd.to_numeric(s_3_3_run['distance'])"
   ]
  },
  {
   "cell_type": "code",
   "execution_count": 51,
   "metadata": {},
   "outputs": [
    {
     "data": {
      "text/plain": [
       "[0.005266203705104999, 0.00530092592453002, 0.00509259259342798]"
      ]
     },
     "execution_count": 51,
     "metadata": {},
     "output_type": "execute_result"
    }
   ],
   "source": [
    "#Let's process some timedeltas so we can actually graph them:\n",
    "#Arbitrary zero time/date:\n",
    "zero = datetime.datetime(2017,1,1)\n",
    "avg_pace = [zero + t for t in s_3_3_run['avg_pace']]\n",
    "zero = mdates.date2num(zero)\n",
    "avg_pace = [t-zero for t in mdates.date2num(avg_pace)]\n",
    "#Output is in fractions of a day:\n",
    "avg_pace[:3]"
   ]
  },
  {
   "cell_type": "code",
   "execution_count": 52,
   "metadata": {},
   "outputs": [
    {
     "data": {
      "text/plain": [
       "<matplotlib.legend.Legend at 0x7fc13aa48ee0>"
      ]
     },
     "execution_count": 52,
     "metadata": {},
     "output_type": "execute_result"
    },
    {
     "data": {
      "image/png": "[encoded data removed]",
      "text/plain": [
       "<Figure size 2016x1080 with 2 Axes>"
      ]
     },
     "metadata": {
      "needs_background": "light"
     },
     "output_type": "display_data"
    }
   ],
   "source": [
    "fig, ax = plt.subplots(figsize = (28, 15))\n",
    "ax.plot(s_3_3_run.index, avg_pace, label='Pace', color='orange')\n",
    "ax.set_xlabel(\"Date\",fontsize=24)\n",
    "ax.set_ylabel(\"Pace\", fontsize=24, color='orange')\n",
    "ax.yaxis.set_major_formatter(mdates.DateFormatter(\"%H:%M:%S\"))\n",
    "plt.legend(loc='upper left')\n",
    "ax2 = ax.twinx()\n",
    "ax2.plot(s_3_3_run.index, s_3_3_run['distance'], label = 'Distance', color='blue')\n",
    "ax2.set_ylabel(\"Distance\", fontsize=24, color = 'blue')\n",
    "plt.legend()"
   ]
  },
  {
   "cell_type": "code",
   "execution_count": 53,
   "metadata": {},
   "outputs": [],
   "source": [
    "#What we can see here is that speed and pace appear to be somewhat inversely proportional, which we would expect. "
   ]
  },
  {
   "cell_type": "code",
   "execution_count": 54,
   "metadata": {},
   "outputs": [],
   "source": [
    "#Let's process some timedeltas so we can actually graph them:\n",
    "#Arbitrary zero time/date:\n",
    "zero = datetime.datetime(2017,1,1)\n",
    "train_pace = [zero + t for t in s_3_3_run[s_3_3_run['is_race']==0]['avg_pace']]\n",
    "zero = mdates.date2num(zero)\n",
    "train_pace = [t-zero for t in mdates.date2num(train_pace)]"
   ]
  },
  {
   "cell_type": "code",
   "execution_count": 55,
   "metadata": {},
   "outputs": [
    {
     "data": {
      "text/plain": [
       "[<matplotlib.lines.Line2D at 0x7fc13b137520>]"
      ]
     },
     "execution_count": 55,
     "metadata": {},
     "output_type": "execute_result"
    },
    {
     "data": {
      "image/png": "[encoded data removed]",
      "text/plain": [
       "<Figure size 2016x1080 with 1 Axes>"
      ]
     },
     "metadata": {
      "needs_background": "light"
     },
     "output_type": "display_data"
    }
   ],
   "source": [
    "#Lets plot a curve of the distances vs. paces, where the data is not a race:\n",
    "fig, ax = plt.subplots(figsize=(28,15))\n",
    "ax.scatter(s_3_3_run[s_3_3_run['is_race'] == 0]['distance'], train_pace)\n",
    "ax.yaxis.set_major_formatter(mdates.DateFormatter(\"%H:%M:%S\"))\n",
    "m, b = np.polyfit(s_3_3_run[s_3_3_run['is_race'] == 0]['distance'], train_pace, 1)\n",
    "plt.plot((s_3_3_run[s_3_3_run['is_race'] == 0]['distance']), (s_3_3_run[s_3_3_run['is_race'] == 0]['distance'])*m+b, color='red')\n"
   ]
  },
  {
   "cell_type": "code",
   "execution_count": 56,
   "metadata": {},
   "outputs": [],
   "source": [
    "#Linear Fit. Looks like we might have some different types of runs. Might need to look into \n",
    "#weighting the runs based on the intensity, so that slower runs at lower intensity don't skew the data."
   ]
  },
  {
   "cell_type": "code",
   "execution_count": 57,
   "metadata": {},
   "outputs": [
    {
     "data": {
      "text/plain": [
       "date\n",
       "2018-03-10      49.0\n",
       "2018-03-11     410.0\n",
       "2018-03-13     226.0\n",
       "2018-03-14      33.0\n",
       "2018-03-15     253.0\n",
       "2018-03-16      95.0\n",
       "2018-03-17     151.0\n",
       "2018-03-18     384.0\n",
       "2018-03-20     190.0\n",
       "2018-03-22     148.0\n",
       "2018-03-24     377.0\n",
       "2018-03-25     105.0\n",
       "2018-03-29     115.0\n",
       "2018-03-31     115.0\n",
       "2018-04-03      69.0\n",
       "2018-04-04     190.0\n",
       "2018-04-07      66.0\n",
       "2018-04-08     387.0\n",
       "2018-04-08     194.0\n",
       "2018-04-10      56.0\n",
       "2018-04-11     180.0\n",
       "2018-04-12      49.0\n",
       "2018-04-14     597.0\n",
       "2018-04-15     105.0\n",
       "2018-04-18      30.0\n",
       "2018-04-19     620.0\n",
       "2018-04-21      98.0\n",
       "2018-04-22     148.0\n",
       "2018-04-26      59.0\n",
       "2018-04-27     440.0\n",
       "2018-04-28      89.0\n",
       "2018-05-01      79.0\n",
       "2018-05-08      59.0\n",
       "2018-05-09     187.0\n",
       "2018-05-12      62.0\n",
       "2018-05-13     331.0\n",
       "2018-05-14      72.0\n",
       "2018-05-15     266.0\n",
       "2018-05-16     627.0\n",
       "2018-05-18     138.0\n",
       "2018-05-19     194.0\n",
       "2018-05-20     174.0\n",
       "2018-05-22     148.0\n",
       "2018-05-24     315.0\n",
       "2018-05-26    1020.0\n",
       "2018-05-29     128.0\n",
       "2018-05-31      20.0\n",
       "2018-06-02      62.0\n",
       "2018-06-03     308.0\n",
       "2018-06-05     164.0\n",
       "2018-06-06      82.0\n",
       "2018-06-07      26.0\n",
       "Name: elev_gain, dtype: float64"
      ]
     },
     "execution_count": 57,
     "metadata": {},
     "output_type": "execute_result"
    }
   ],
   "source": [
    "s_3_3_run['elev_gain'] = s_3_3_run['elev_gain'].str.replace(',', '').astype(float)\n",
    "s_3_3_run['elev_gain']"
   ]
  },
  {
   "cell_type": "code",
   "execution_count": 58,
   "metadata": {},
   "outputs": [
    {
     "data": {
      "text/plain": [
       "[<matplotlib.lines.Line2D at 0x7fc13d17f1c0>]"
      ]
     },
     "execution_count": 58,
     "metadata": {},
     "output_type": "execute_result"
    },
    {
     "data": {
      "image/png": "[encoded data removed]",
      "text/plain": [
       "<Figure size 2016x1080 with 1 Axes>"
      ]
     },
     "metadata": {
      "needs_background": "light"
     },
     "output_type": "display_data"
    }
   ],
   "source": [
    "#let's graph elevation gain per mile vs. pace:\n",
    "fig, ax = plt.subplots(figsize=(28,15))\n",
    "ax.scatter((s_3_3_run[s_3_3_run['is_race'] == 0]['elev_gain']/s_3_3_run[s_3_3_run['is_race'] == 0]['distance']), train_pace)\n",
    "ax.yaxis.set_major_formatter(mdates.DateFormatter(\"%H:%M:%S\"))\n",
    "ax.set_xlabel(\"Ft/mile\",fontsize=24)\n",
    "ax.set_ylabel(\"Pace\", fontsize=24)\n",
    "m, b = np.polyfit(s_3_3_run[s_3_3_run['is_race'] == 0]['elev_gain'], train_pace, 1)\n",
    "plt.plot((s_3_3_run[s_3_3_run['is_race'] == 0]['elev_gain']/s_3_3_run[s_3_3_run['is_race'] == 0]['distance']), (s_3_3_run[s_3_3_run['is_race'] == 0]['elev_gain']/s_3_3_run[s_3_3_run['is_race'] == 0]['distance'])*m+b, color='red')"
   ]
  },
  {
   "cell_type": "code",
   "execution_count": 59,
   "metadata": {},
   "outputs": [
    {
     "data": {
      "image/png": "[encoded data removed]",
      "text/plain": [
       "<Figure size 2016x1080 with 1 Axes>"
      ]
     },
     "metadata": {
      "needs_background": "light"
     },
     "output_type": "display_data"
    }
   ],
   "source": [
    "#Let's look at heart rate by pace:\n",
    "fig, ax = plt.subplots(figsize=(28,15))\n",
    "ax.scatter(s_3_3_run[s_3_3_run['is_race'] == 0]['avg_hr'], train_pace)\n",
    "ax.yaxis.set_major_formatter(mdates.DateFormatter(\"%H:%M:%S\"))\n",
    "m, b = np.polyfit(s_3_3_run[s_3_3_run['is_race'] == 0]['avg_hr'], train_pace, 1)\n",
    "plt.plot((s_3_3_run[s_3_3_run['is_race'] == 0]['avg_hr']), (s_3_3_run[s_3_3_run['is_race'] == 0]['avg_hr'])*m+b, color='red')\n",
    "plt.savefig('./images/pace_v_hr_athlete_3.png')"
   ]
  },
  {
   "cell_type": "code",
   "execution_count": 60,
   "metadata": {},
   "outputs": [],
   "source": [
    "#Ah now this looks promising!"
   ]
  },
  {
   "cell_type": "code",
   "execution_count": 61,
   "metadata": {},
   "outputs": [],
   "source": [
    "#This looks promising. Let's go back and scale the other graphs with this data. It makes sense: If you are working at a lower heart rate, you should see a \n",
    "#slower pace for the same course based on ft/mile gained over the course."
   ]
  },
  {
   "cell_type": "code",
   "execution_count": 62,
   "metadata": {},
   "outputs": [],
   "source": [
    "athlete_max_hr = 175"
   ]
  },
  {
   "cell_type": "code",
   "execution_count": 63,
   "metadata": {},
   "outputs": [],
   "source": [
    "s_3_3_run['ft_per_mile'] = (s_3_3_run['elev_gain']/s_3_3_run['distance'])"
   ]
  },
  {
   "cell_type": "code",
   "execution_count": 64,
   "metadata": {},
   "outputs": [
    {
     "data": {
      "text/plain": [
       "date\n",
       "2018-03-10    14.848485\n",
       "2018-03-11    34.138218\n",
       "2018-03-13    33.089312\n",
       "2018-03-14    13.043478\n",
       "2018-03-15    31.273177\n",
       "2018-03-16    23.456790\n",
       "2018-03-17    27.859779\n",
       "2018-03-18    31.973356\n",
       "2018-03-20    25.435074\n",
       "2018-03-22    34.338747\n",
       "2018-03-24    26.909350\n",
       "2018-03-25    28.301887\n",
       "2018-03-29    15.688950\n",
       "2018-03-31    31.855956\n",
       "2018-04-03    16.197183\n",
       "2018-04-04    28.106509\n",
       "2018-04-07    23.826715\n",
       "2018-04-08    36.406397\n",
       "2018-04-08    37.816764\n",
       "2018-04-10    23.628692\n",
       "2018-04-11    24.793388\n",
       "2018-04-12    21.777778\n",
       "2018-04-14    38.220230\n",
       "2018-04-15    19.699812\n",
       "2018-04-18    18.292683\n",
       "2018-04-19    38.605230\n",
       "2018-04-21    23.333333\n",
       "2018-04-22    28.352490\n",
       "2018-04-26    20.136519\n",
       "2018-04-27    36.636137\n",
       "2018-04-28    25.428571\n",
       "2018-05-01    15.768463\n",
       "2018-05-08    20.774648\n",
       "2018-05-09    27.868852\n",
       "2018-05-12    17.270195\n",
       "2018-05-13    33.066933\n",
       "2018-05-14    19.834711\n",
       "2018-05-15    35.231788\n",
       "2018-05-16    36.623832\n",
       "2018-05-18    30.396476\n",
       "2018-05-19    29.216867\n",
       "2018-05-20    31.926606\n",
       "2018-05-22    23.492063\n",
       "2018-05-24    38.697789\n",
       "2018-05-26    61.968408\n",
       "2018-05-29    24.380952\n",
       "2018-05-31     1.885014\n",
       "2018-06-02    17.971014\n",
       "2018-06-03    38.308458\n",
       "2018-06-05    36.123348\n",
       "2018-06-06    17.190776\n",
       "2018-06-07    13.903743\n",
       "Name: ft_per_mile, dtype: float64"
      ]
     },
     "execution_count": 64,
     "metadata": {},
     "output_type": "execute_result"
    }
   ],
   "source": [
    "s_3_3_run['ft_per_mile']"
   ]
  },
  {
   "cell_type": "code",
   "execution_count": 65,
   "metadata": {},
   "outputs": [
    {
     "data": {
      "text/html": [
       "<div>\n",
       "<style scoped>\n",
       "    .dataframe tbody tr th:only-of-type {\n",
       "        vertical-align: middle;\n",
       "    }\n",
       "\n",
       "    .dataframe tbody tr th {\n",
       "        vertical-align: top;\n",
       "    }\n",
       "\n",
       "    .dataframe thead th {\n",
       "        text-align: right;\n",
       "    }\n",
       "</style>\n",
       "<table border=\"1\" class=\"dataframe\">\n",
       "  <thead>\n",
       "    <tr style=\"text-align: right;\">\n",
       "      <th></th>\n",
       "      <th>intensity</th>\n",
       "      <th>avg_pace</th>\n",
       "      <th>distance</th>\n",
       "    </tr>\n",
       "    <tr>\n",
       "      <th>date</th>\n",
       "      <th></th>\n",
       "      <th></th>\n",
       "      <th></th>\n",
       "    </tr>\n",
       "  </thead>\n",
       "  <tbody>\n",
       "    <tr>\n",
       "      <th>2018-03-10</th>\n",
       "      <td>0.874286</td>\n",
       "      <td>0 days 00:07:35</td>\n",
       "      <td>3.30</td>\n",
       "    </tr>\n",
       "    <tr>\n",
       "      <th>2018-03-11</th>\n",
       "      <td>0.834286</td>\n",
       "      <td>0 days 00:07:38</td>\n",
       "      <td>12.01</td>\n",
       "    </tr>\n",
       "    <tr>\n",
       "      <th>2018-03-13</th>\n",
       "      <td>0.851429</td>\n",
       "      <td>0 days 00:07:20</td>\n",
       "      <td>6.83</td>\n",
       "    </tr>\n",
       "    <tr>\n",
       "      <th>2018-03-14</th>\n",
       "      <td>0.691429</td>\n",
       "      <td>0 days 00:09:27</td>\n",
       "      <td>2.53</td>\n",
       "    </tr>\n",
       "    <tr>\n",
       "      <th>2018-03-15</th>\n",
       "      <td>0.845714</td>\n",
       "      <td>0 days 00:07:31</td>\n",
       "      <td>8.09</td>\n",
       "    </tr>\n",
       "    <tr>\n",
       "      <th>2018-03-16</th>\n",
       "      <td>0.708571</td>\n",
       "      <td>0 days 00:08:39</td>\n",
       "      <td>4.05</td>\n",
       "    </tr>\n",
       "    <tr>\n",
       "      <th>2018-03-17</th>\n",
       "      <td>0.891429</td>\n",
       "      <td>0 days 00:07:38</td>\n",
       "      <td>5.42</td>\n",
       "    </tr>\n",
       "    <tr>\n",
       "      <th>2018-03-18</th>\n",
       "      <td>0.822857</td>\n",
       "      <td>0 days 00:07:34</td>\n",
       "      <td>12.01</td>\n",
       "    </tr>\n",
       "    <tr>\n",
       "      <th>2018-03-20</th>\n",
       "      <td>0.817143</td>\n",
       "      <td>0 days 00:07:23</td>\n",
       "      <td>7.47</td>\n",
       "    </tr>\n",
       "    <tr>\n",
       "      <th>2018-03-22</th>\n",
       "      <td>0.742857</td>\n",
       "      <td>0 days 00:08:11</td>\n",
       "      <td>4.31</td>\n",
       "    </tr>\n",
       "    <tr>\n",
       "      <th>2018-03-24</th>\n",
       "      <td>0.885714</td>\n",
       "      <td>0 days 00:07:37</td>\n",
       "      <td>14.01</td>\n",
       "    </tr>\n",
       "    <tr>\n",
       "      <th>2018-03-25</th>\n",
       "      <td>0.840000</td>\n",
       "      <td>0 days 00:08:06</td>\n",
       "      <td>3.71</td>\n",
       "    </tr>\n",
       "    <tr>\n",
       "      <th>2018-03-29</th>\n",
       "      <td>0.788571</td>\n",
       "      <td>0 days 00:07:48</td>\n",
       "      <td>7.33</td>\n",
       "    </tr>\n",
       "    <tr>\n",
       "      <th>2018-03-31</th>\n",
       "      <td>0.742857</td>\n",
       "      <td>0 days 00:08:45</td>\n",
       "      <td>3.61</td>\n",
       "    </tr>\n",
       "    <tr>\n",
       "      <th>2018-04-03</th>\n",
       "      <td>0.765714</td>\n",
       "      <td>0 days 00:08:17</td>\n",
       "      <td>4.26</td>\n",
       "    </tr>\n",
       "    <tr>\n",
       "      <th>2018-04-04</th>\n",
       "      <td>0.828571</td>\n",
       "      <td>0 days 00:07:24</td>\n",
       "      <td>6.76</td>\n",
       "    </tr>\n",
       "    <tr>\n",
       "      <th>2018-04-07</th>\n",
       "      <td>0.885714</td>\n",
       "      <td>0 days 00:07:16</td>\n",
       "      <td>2.77</td>\n",
       "    </tr>\n",
       "    <tr>\n",
       "      <th>2018-04-08</th>\n",
       "      <td>0.834286</td>\n",
       "      <td>0 days 00:07:36</td>\n",
       "      <td>10.63</td>\n",
       "    </tr>\n",
       "    <tr>\n",
       "      <th>2018-04-08</th>\n",
       "      <td>0.828571</td>\n",
       "      <td>0 days 00:07:48</td>\n",
       "      <td>5.13</td>\n",
       "    </tr>\n",
       "    <tr>\n",
       "      <th>2018-04-10</th>\n",
       "      <td>0.754286</td>\n",
       "      <td>0 days 00:08:28</td>\n",
       "      <td>2.37</td>\n",
       "    </tr>\n",
       "    <tr>\n",
       "      <th>2018-04-11</th>\n",
       "      <td>0.822857</td>\n",
       "      <td>0 days 00:07:35</td>\n",
       "      <td>7.26</td>\n",
       "    </tr>\n",
       "    <tr>\n",
       "      <th>2018-04-12</th>\n",
       "      <td>0.680000</td>\n",
       "      <td>0 days 00:09:11</td>\n",
       "      <td>2.25</td>\n",
       "    </tr>\n",
       "    <tr>\n",
       "      <th>2018-04-14</th>\n",
       "      <td>0.851429</td>\n",
       "      <td>0 days 00:07:50</td>\n",
       "      <td>15.62</td>\n",
       "    </tr>\n",
       "    <tr>\n",
       "      <th>2018-04-15</th>\n",
       "      <td>0.828571</td>\n",
       "      <td>0 days 00:07:35</td>\n",
       "      <td>5.33</td>\n",
       "    </tr>\n",
       "    <tr>\n",
       "      <th>2018-04-18</th>\n",
       "      <td>0.628571</td>\n",
       "      <td>0 days 00:09:20</td>\n",
       "      <td>1.64</td>\n",
       "    </tr>\n",
       "    <tr>\n",
       "      <th>2018-04-19</th>\n",
       "      <td>0.800000</td>\n",
       "      <td>0 days 00:07:42</td>\n",
       "      <td>16.06</td>\n",
       "    </tr>\n",
       "    <tr>\n",
       "      <th>2018-04-21</th>\n",
       "      <td>0.748571</td>\n",
       "      <td>0 days 00:08:22</td>\n",
       "      <td>4.20</td>\n",
       "    </tr>\n",
       "    <tr>\n",
       "      <th>2018-04-22</th>\n",
       "      <td>0.845714</td>\n",
       "      <td>0 days 00:07:44</td>\n",
       "      <td>5.22</td>\n",
       "    </tr>\n",
       "    <tr>\n",
       "      <th>2018-04-26</th>\n",
       "      <td>0.851429</td>\n",
       "      <td>0 days 00:06:55</td>\n",
       "      <td>2.93</td>\n",
       "    </tr>\n",
       "    <tr>\n",
       "      <th>2018-04-27</th>\n",
       "      <td>0.828571</td>\n",
       "      <td>0 days 00:07:35</td>\n",
       "      <td>12.01</td>\n",
       "    </tr>\n",
       "    <tr>\n",
       "      <th>2018-04-28</th>\n",
       "      <td>0.822857</td>\n",
       "      <td>0 days 00:07:26</td>\n",
       "      <td>3.50</td>\n",
       "    </tr>\n",
       "    <tr>\n",
       "      <th>2018-05-01</th>\n",
       "      <td>0.805714</td>\n",
       "      <td>0 days 00:07:16</td>\n",
       "      <td>5.01</td>\n",
       "    </tr>\n",
       "    <tr>\n",
       "      <th>2018-05-08</th>\n",
       "      <td>0.697143</td>\n",
       "      <td>0 days 00:09:23</td>\n",
       "      <td>2.84</td>\n",
       "    </tr>\n",
       "    <tr>\n",
       "      <th>2018-05-09</th>\n",
       "      <td>0.822857</td>\n",
       "      <td>0 days 00:07:32</td>\n",
       "      <td>6.71</td>\n",
       "    </tr>\n",
       "    <tr>\n",
       "      <th>2018-05-12</th>\n",
       "      <td>0.845714</td>\n",
       "      <td>0 days 00:07:19</td>\n",
       "      <td>3.59</td>\n",
       "    </tr>\n",
       "    <tr>\n",
       "      <th>2018-05-13</th>\n",
       "      <td>0.811429</td>\n",
       "      <td>0 days 00:07:33</td>\n",
       "      <td>10.01</td>\n",
       "    </tr>\n",
       "    <tr>\n",
       "      <th>2018-05-14</th>\n",
       "      <td>0.725714</td>\n",
       "      <td>0 days 00:08:21</td>\n",
       "      <td>3.63</td>\n",
       "    </tr>\n",
       "    <tr>\n",
       "      <th>2018-05-15</th>\n",
       "      <td>0.874286</td>\n",
       "      <td>0 days 00:07:18</td>\n",
       "      <td>7.55</td>\n",
       "    </tr>\n",
       "    <tr>\n",
       "      <th>2018-05-16</th>\n",
       "      <td>0.834286</td>\n",
       "      <td>0 days 00:07:37</td>\n",
       "      <td>17.12</td>\n",
       "    </tr>\n",
       "    <tr>\n",
       "      <th>2018-05-18</th>\n",
       "      <td>0.805714</td>\n",
       "      <td>0 days 00:07:46</td>\n",
       "      <td>4.54</td>\n",
       "    </tr>\n",
       "    <tr>\n",
       "      <th>2018-05-19</th>\n",
       "      <td>0.840000</td>\n",
       "      <td>0 days 00:07:33</td>\n",
       "      <td>6.64</td>\n",
       "    </tr>\n",
       "    <tr>\n",
       "      <th>2018-05-20</th>\n",
       "      <td>0.868571</td>\n",
       "      <td>0 days 00:07:40</td>\n",
       "      <td>5.45</td>\n",
       "    </tr>\n",
       "    <tr>\n",
       "      <th>2018-05-22</th>\n",
       "      <td>0.840000</td>\n",
       "      <td>0 days 00:07:15</td>\n",
       "      <td>6.30</td>\n",
       "    </tr>\n",
       "    <tr>\n",
       "      <th>2018-05-24</th>\n",
       "      <td>0.862857</td>\n",
       "      <td>0 days 00:07:23</td>\n",
       "      <td>8.14</td>\n",
       "    </tr>\n",
       "    <tr>\n",
       "      <th>2018-05-26</th>\n",
       "      <td>0.834286</td>\n",
       "      <td>0 days 00:08:19</td>\n",
       "      <td>16.46</td>\n",
       "    </tr>\n",
       "    <tr>\n",
       "      <th>2018-05-29</th>\n",
       "      <td>0.805714</td>\n",
       "      <td>0 days 00:07:37</td>\n",
       "      <td>5.25</td>\n",
       "    </tr>\n",
       "    <tr>\n",
       "      <th>2018-05-31</th>\n",
       "      <td>0.851429</td>\n",
       "      <td>0 days 00:07:33</td>\n",
       "      <td>10.61</td>\n",
       "    </tr>\n",
       "    <tr>\n",
       "      <th>2018-06-02</th>\n",
       "      <td>0.862857</td>\n",
       "      <td>0 days 00:07:16</td>\n",
       "      <td>3.45</td>\n",
       "    </tr>\n",
       "    <tr>\n",
       "      <th>2018-06-03</th>\n",
       "      <td>0.822857</td>\n",
       "      <td>0 days 00:07:29</td>\n",
       "      <td>8.04</td>\n",
       "    </tr>\n",
       "    <tr>\n",
       "      <th>2018-06-05</th>\n",
       "      <td>0.805714</td>\n",
       "      <td>0 days 00:07:45</td>\n",
       "      <td>4.54</td>\n",
       "    </tr>\n",
       "    <tr>\n",
       "      <th>2018-06-06</th>\n",
       "      <td>0.862857</td>\n",
       "      <td>0 days 00:07:21</td>\n",
       "      <td>4.77</td>\n",
       "    </tr>\n",
       "    <tr>\n",
       "      <th>2018-06-07</th>\n",
       "      <td>0.771429</td>\n",
       "      <td>0 days 00:08:07</td>\n",
       "      <td>1.87</td>\n",
       "    </tr>\n",
       "  </tbody>\n",
       "</table>\n",
       "</div>"
      ],
      "text/plain": [
       "            intensity        avg_pace  distance\n",
       "date                                           \n",
       "2018-03-10   0.874286 0 days 00:07:35      3.30\n",
       "2018-03-11   0.834286 0 days 00:07:38     12.01\n",
       "2018-03-13   0.851429 0 days 00:07:20      6.83\n",
       "2018-03-14   0.691429 0 days 00:09:27      2.53\n",
       "2018-03-15   0.845714 0 days 00:07:31      8.09\n",
       "2018-03-16   0.708571 0 days 00:08:39      4.05\n",
       "2018-03-17   0.891429 0 days 00:07:38      5.42\n",
       "2018-03-18   0.822857 0 days 00:07:34     12.01\n",
       "2018-03-20   0.817143 0 days 00:07:23      7.47\n",
       "2018-03-22   0.742857 0 days 00:08:11      4.31\n",
       "2018-03-24   0.885714 0 days 00:07:37     14.01\n",
       "2018-03-25   0.840000 0 days 00:08:06      3.71\n",
       "2018-03-29   0.788571 0 days 00:07:48      7.33\n",
       "2018-03-31   0.742857 0 days 00:08:45      3.61\n",
       "2018-04-03   0.765714 0 days 00:08:17      4.26\n",
       "2018-04-04   0.828571 0 days 00:07:24      6.76\n",
       "2018-04-07   0.885714 0 days 00:07:16      2.77\n",
       "2018-04-08   0.834286 0 days 00:07:36     10.63\n",
       "2018-04-08   0.828571 0 days 00:07:48      5.13\n",
       "2018-04-10   0.754286 0 days 00:08:28      2.37\n",
       "2018-04-11   0.822857 0 days 00:07:35      7.26\n",
       "2018-04-12   0.680000 0 days 00:09:11      2.25\n",
       "2018-04-14   0.851429 0 days 00:07:50     15.62\n",
       "2018-04-15   0.828571 0 days 00:07:35      5.33\n",
       "2018-04-18   0.628571 0 days 00:09:20      1.64\n",
       "2018-04-19   0.800000 0 days 00:07:42     16.06\n",
       "2018-04-21   0.748571 0 days 00:08:22      4.20\n",
       "2018-04-22   0.845714 0 days 00:07:44      5.22\n",
       "2018-04-26   0.851429 0 days 00:06:55      2.93\n",
       "2018-04-27   0.828571 0 days 00:07:35     12.01\n",
       "2018-04-28   0.822857 0 days 00:07:26      3.50\n",
       "2018-05-01   0.805714 0 days 00:07:16      5.01\n",
       "2018-05-08   0.697143 0 days 00:09:23      2.84\n",
       "2018-05-09   0.822857 0 days 00:07:32      6.71\n",
       "2018-05-12   0.845714 0 days 00:07:19      3.59\n",
       "2018-05-13   0.811429 0 days 00:07:33     10.01\n",
       "2018-05-14   0.725714 0 days 00:08:21      3.63\n",
       "2018-05-15   0.874286 0 days 00:07:18      7.55\n",
       "2018-05-16   0.834286 0 days 00:07:37     17.12\n",
       "2018-05-18   0.805714 0 days 00:07:46      4.54\n",
       "2018-05-19   0.840000 0 days 00:07:33      6.64\n",
       "2018-05-20   0.868571 0 days 00:07:40      5.45\n",
       "2018-05-22   0.840000 0 days 00:07:15      6.30\n",
       "2018-05-24   0.862857 0 days 00:07:23      8.14\n",
       "2018-05-26   0.834286 0 days 00:08:19     16.46\n",
       "2018-05-29   0.805714 0 days 00:07:37      5.25\n",
       "2018-05-31   0.851429 0 days 00:07:33     10.61\n",
       "2018-06-02   0.862857 0 days 00:07:16      3.45\n",
       "2018-06-03   0.822857 0 days 00:07:29      8.04\n",
       "2018-06-05   0.805714 0 days 00:07:45      4.54\n",
       "2018-06-06   0.862857 0 days 00:07:21      4.77\n",
       "2018-06-07   0.771429 0 days 00:08:07      1.87"
      ]
     },
     "execution_count": 65,
     "metadata": {},
     "output_type": "execute_result"
    }
   ],
   "source": [
    "s_3_3_run['intensity'] = s_3_3_run['avg_hr']/athlete_max_hr\n",
    "s_3_3_run[['intensity', 'avg_pace', 'distance']]"
   ]
  },
  {
   "cell_type": "code",
   "execution_count": 66,
   "metadata": {},
   "outputs": [
    {
     "data": {
      "text/plain": [
       "[<matplotlib.lines.Line2D at 0x7fc13de63250>]"
      ]
     },
     "execution_count": 66,
     "metadata": {},
     "output_type": "execute_result"
    },
    {
     "data": {
      "image/png": "[encoded data removed]",
      "text/plain": [
       "<Figure size 2016x1080 with 1 Axes>"
      ]
     },
     "metadata": {
      "needs_background": "light"
     },
     "output_type": "display_data"
    }
   ],
   "source": [
    "#Ok with the grade(ft/mile) and the intensity(how hard someone is working) we should be able to scale the paces with respect to distance.\n",
    "#Let's try with just the intensity first:\n",
    "#let's graph elevation gain per mile vs. pace:\n",
    "fig, ax = plt.subplots(figsize=(28,15))\n",
    "ax.scatter(s_3_3_run[s_3_3_run['is_race'] == 0]['ft_per_mile']/s_3_3_run[s_3_3_run['is_race'] == 0]['intensity'], (train_pace)) #(train_pace*s_3_3_run[s_3_3_run['is_race'] == 0]['intensity']))\n",
    "ax.yaxis.set_major_formatter(mdates.DateFormatter(\"%H:%M:%S\"))\n",
    "ax.set_xlabel(\"Ft/mile / intensity\",fontsize=24)\n",
    "ax.set_ylabel(\"Pace\", fontsize=24)\n",
    "m, b = np.polyfit(s_3_3_run[s_3_3_run['is_race'] == 0]['elev_gain']/s_3_3_run[s_3_3_run['is_race'] == 0]['intensity'], train_pace, 1)\n",
    "plt.plot((s_3_3_run[s_3_3_run['is_race'] == 0]['ft_per_mile']), (s_3_3_run[s_3_3_run['is_race'] == 0]['ft_per_mile'])*m+b, color='red')"
   ]
  },
  {
   "cell_type": "code",
   "execution_count": 67,
   "metadata": {},
   "outputs": [],
   "source": [
    "#Going to try adjusting the pace for elevation gain"
   ]
  },
  {
   "cell_type": "code",
   "execution_count": 68,
   "metadata": {},
   "outputs": [
    {
     "data": {
      "text/plain": [
       "date\n",
       "2018-03-10   0 days 00:07:35\n",
       "2018-03-11   0 days 00:07:38\n",
       "2018-03-13   0 days 00:07:20\n",
       "2018-03-14   0 days 00:09:27\n",
       "2018-03-15   0 days 00:07:31\n",
       "2018-03-16   0 days 00:08:39\n",
       "2018-03-17   0 days 00:07:38\n",
       "2018-03-18   0 days 00:07:34\n",
       "2018-03-20   0 days 00:07:23\n",
       "2018-03-22   0 days 00:08:11\n",
       "2018-03-24   0 days 00:07:37\n",
       "2018-03-25   0 days 00:08:06\n",
       "2018-03-29   0 days 00:07:48\n",
       "2018-03-31   0 days 00:08:45\n",
       "2018-04-03   0 days 00:08:17\n",
       "2018-04-04   0 days 00:07:24\n",
       "2018-04-07   0 days 00:07:16\n",
       "2018-04-08   0 days 00:07:36\n",
       "2018-04-08   0 days 00:07:48\n",
       "2018-04-10   0 days 00:08:28\n",
       "2018-04-11   0 days 00:07:35\n",
       "2018-04-12   0 days 00:09:11\n",
       "2018-04-14   0 days 00:07:50\n",
       "2018-04-15   0 days 00:07:35\n",
       "2018-04-18   0 days 00:09:20\n",
       "2018-04-19   0 days 00:07:42\n",
       "2018-04-21   0 days 00:08:22\n",
       "2018-04-22   0 days 00:07:44\n",
       "2018-04-26   0 days 00:06:55\n",
       "2018-04-27   0 days 00:07:35\n",
       "2018-04-28   0 days 00:07:26\n",
       "2018-05-01   0 days 00:07:16\n",
       "2018-05-08   0 days 00:09:23\n",
       "2018-05-09   0 days 00:07:32\n",
       "2018-05-12   0 days 00:07:19\n",
       "2018-05-13   0 days 00:07:33\n",
       "2018-05-14   0 days 00:08:21\n",
       "2018-05-15   0 days 00:07:18\n",
       "2018-05-16   0 days 00:07:37\n",
       "2018-05-18   0 days 00:07:46\n",
       "2018-05-19   0 days 00:07:33\n",
       "2018-05-20   0 days 00:07:40\n",
       "2018-05-22   0 days 00:07:15\n",
       "2018-05-24   0 days 00:07:23\n",
       "2018-05-26   0 days 00:08:19\n",
       "2018-05-29   0 days 00:07:37\n",
       "2018-05-31   0 days 00:07:33\n",
       "2018-06-02   0 days 00:07:16\n",
       "2018-06-03   0 days 00:07:29\n",
       "2018-06-05   0 days 00:07:45\n",
       "2018-06-06   0 days 00:07:21\n",
       "2018-06-07   0 days 00:08:07\n",
       "Name: avg_pace, dtype: timedelta64[ns]"
      ]
     },
     "execution_count": 68,
     "metadata": {},
     "output_type": "execute_result"
    }
   ],
   "source": [
    "s_3_3_run['avg_pace']"
   ]
  },
  {
   "cell_type": "code",
   "execution_count": 69,
   "metadata": {},
   "outputs": [],
   "source": [
    "s_3_3_run['spd_ft_s'] = 0.0\n",
    "s_3_3_run['spd_mph'] = 0.0\n",
    "\n",
    "for i in range(len(s_3_3_run['avg_pace'])):\n",
    "    #print(60/(s_3_3_run['avg_pace'][i].total_seconds()/60.0))\n",
    "    s_3_3_run['spd_mph'][i] = float(60/(s_3_3_run['avg_pace'][i].total_seconds()/60.0))\n",
    "    s_3_3_run['spd_ft_s'][i] = float(60.0/(s_3_3_run['avg_pace'][i].total_seconds()/60.0))*float(5280.0/3600.0)\n"
   ]
  },
  {
   "cell_type": "code",
   "execution_count": 70,
   "metadata": {},
   "outputs": [
    {
     "data": {
      "text/plain": [
       "date\n",
       "2018-03-10    7.912088\n",
       "2018-03-11    7.860262\n",
       "2018-03-13    8.181818\n",
       "2018-03-14    6.349206\n",
       "2018-03-15    7.982262\n",
       "2018-03-16    6.936416\n",
       "2018-03-17    7.860262\n",
       "2018-03-18    7.929515\n",
       "2018-03-20    8.126411\n",
       "2018-03-22    7.331976\n",
       "2018-03-24    7.877462\n",
       "2018-03-25    7.407407\n",
       "2018-03-29    7.692308\n",
       "2018-03-31    6.857143\n",
       "2018-04-03    7.243461\n",
       "2018-04-04    8.108108\n",
       "2018-04-07    8.256881\n",
       "2018-04-08    7.894737\n",
       "2018-04-08    7.692308\n",
       "2018-04-10    7.086614\n",
       "2018-04-11    7.912088\n",
       "2018-04-12    6.533575\n",
       "2018-04-14    7.659574\n",
       "2018-04-15    7.912088\n",
       "2018-04-18    6.428571\n",
       "2018-04-19    7.792208\n",
       "2018-04-21    7.171315\n",
       "2018-04-22    7.758621\n",
       "2018-04-26    8.674699\n",
       "2018-04-27    7.912088\n",
       "2018-04-28    8.071749\n",
       "2018-05-01    8.256881\n",
       "2018-05-08    6.394316\n",
       "2018-05-09    7.964602\n",
       "2018-05-12    8.200456\n",
       "2018-05-13    7.947020\n",
       "2018-05-14    7.185629\n",
       "2018-05-15    8.219178\n",
       "2018-05-16    7.877462\n",
       "2018-05-18    7.725322\n",
       "2018-05-19    7.947020\n",
       "2018-05-20    7.826087\n",
       "2018-05-22    8.275862\n",
       "2018-05-24    8.126411\n",
       "2018-05-26    7.214429\n",
       "2018-05-29    7.877462\n",
       "2018-05-31    7.947020\n",
       "2018-06-02    8.256881\n",
       "2018-06-03    8.017817\n",
       "2018-06-05    7.741935\n",
       "2018-06-06    8.163265\n",
       "2018-06-07    7.392197\n",
       "Name: spd_mph, dtype: float64"
      ]
     },
     "execution_count": 70,
     "metadata": {},
     "output_type": "execute_result"
    }
   ],
   "source": [
    "s_3_3_run['spd_mph']"
   ]
  },
  {
   "cell_type": "code",
   "execution_count": 71,
   "metadata": {},
   "outputs": [
    {
     "data": {
      "text/html": [
       "<div>\n",
       "<style scoped>\n",
       "    .dataframe tbody tr th:only-of-type {\n",
       "        vertical-align: middle;\n",
       "    }\n",
       "\n",
       "    .dataframe tbody tr th {\n",
       "        vertical-align: top;\n",
       "    }\n",
       "\n",
       "    .dataframe thead th {\n",
       "        text-align: right;\n",
       "    }\n",
       "</style>\n",
       "<table border=\"1\" class=\"dataframe\">\n",
       "  <thead>\n",
       "    <tr style=\"text-align: right;\">\n",
       "      <th></th>\n",
       "      <th>spd_ft_s</th>\n",
       "      <th>GAP_ft_s</th>\n",
       "    </tr>\n",
       "    <tr>\n",
       "      <th>date</th>\n",
       "      <th></th>\n",
       "      <th></th>\n",
       "    </tr>\n",
       "  </thead>\n",
       "  <tbody>\n",
       "    <tr>\n",
       "      <th>2018-03-10</th>\n",
       "      <td>11.604396</td>\n",
       "      <td>11.604441</td>\n",
       "    </tr>\n",
       "    <tr>\n",
       "      <th>2018-03-11</th>\n",
       "      <td>11.528384</td>\n",
       "      <td>11.528625</td>\n",
       "    </tr>\n",
       "    <tr>\n",
       "      <th>2018-03-13</th>\n",
       "      <td>12.000000</td>\n",
       "      <td>12.000236</td>\n",
       "    </tr>\n",
       "    <tr>\n",
       "      <th>2018-03-14</th>\n",
       "      <td>9.312169</td>\n",
       "      <td>9.312198</td>\n",
       "    </tr>\n",
       "    <tr>\n",
       "      <th>2018-03-15</th>\n",
       "      <td>11.707317</td>\n",
       "      <td>11.707522</td>\n",
       "    </tr>\n",
       "    <tr>\n",
       "      <th>2018-03-16</th>\n",
       "      <td>10.173410</td>\n",
       "      <td>10.173511</td>\n",
       "    </tr>\n",
       "    <tr>\n",
       "      <th>2018-03-17</th>\n",
       "      <td>11.528384</td>\n",
       "      <td>11.528545</td>\n",
       "    </tr>\n",
       "    <tr>\n",
       "      <th>2018-03-18</th>\n",
       "      <td>11.629956</td>\n",
       "      <td>11.630169</td>\n",
       "    </tr>\n",
       "    <tr>\n",
       "      <th>2018-03-20</th>\n",
       "      <td>11.918736</td>\n",
       "      <td>11.918874</td>\n",
       "    </tr>\n",
       "    <tr>\n",
       "      <th>2018-03-22</th>\n",
       "      <td>10.753564</td>\n",
       "      <td>10.753792</td>\n",
       "    </tr>\n",
       "    <tr>\n",
       "      <th>2018-03-24</th>\n",
       "      <td>11.553611</td>\n",
       "      <td>11.553761</td>\n",
       "    </tr>\n",
       "    <tr>\n",
       "      <th>2018-03-25</th>\n",
       "      <td>10.864198</td>\n",
       "      <td>10.864354</td>\n",
       "    </tr>\n",
       "    <tr>\n",
       "      <th>2018-03-29</th>\n",
       "      <td>11.282051</td>\n",
       "      <td>11.282101</td>\n",
       "    </tr>\n",
       "    <tr>\n",
       "      <th>2018-03-31</th>\n",
       "      <td>10.057143</td>\n",
       "      <td>10.057326</td>\n",
       "    </tr>\n",
       "    <tr>\n",
       "      <th>2018-04-03</th>\n",
       "      <td>10.623742</td>\n",
       "      <td>10.623792</td>\n",
       "    </tr>\n",
       "    <tr>\n",
       "      <th>2018-04-04</th>\n",
       "      <td>11.891892</td>\n",
       "      <td>11.892060</td>\n",
       "    </tr>\n",
       "    <tr>\n",
       "      <th>2018-04-07</th>\n",
       "      <td>12.110092</td>\n",
       "      <td>12.110215</td>\n",
       "    </tr>\n",
       "    <tr>\n",
       "      <th>2018-04-08</th>\n",
       "      <td>11.578947</td>\n",
       "      <td>11.579223</td>\n",
       "    </tr>\n",
       "    <tr>\n",
       "      <th>2018-04-08</th>\n",
       "      <td>11.282051</td>\n",
       "      <td>11.282341</td>\n",
       "    </tr>\n",
       "    <tr>\n",
       "      <th>2018-04-10</th>\n",
       "      <td>10.393701</td>\n",
       "      <td>10.393805</td>\n",
       "    </tr>\n",
       "    <tr>\n",
       "      <th>2018-04-11</th>\n",
       "      <td>11.604396</td>\n",
       "      <td>11.604524</td>\n",
       "    </tr>\n",
       "    <tr>\n",
       "      <th>2018-04-12</th>\n",
       "      <td>9.582577</td>\n",
       "      <td>9.582659</td>\n",
       "    </tr>\n",
       "    <tr>\n",
       "      <th>2018-04-14</th>\n",
       "      <td>11.234043</td>\n",
       "      <td>11.234337</td>\n",
       "    </tr>\n",
       "    <tr>\n",
       "      <th>2018-04-15</th>\n",
       "      <td>11.604396</td>\n",
       "      <td>11.604476</td>\n",
       "    </tr>\n",
       "    <tr>\n",
       "      <th>2018-04-18</th>\n",
       "      <td>9.428571</td>\n",
       "      <td>9.428628</td>\n",
       "    </tr>\n",
       "    <tr>\n",
       "      <th>2018-04-19</th>\n",
       "      <td>11.428571</td>\n",
       "      <td>11.428877</td>\n",
       "    </tr>\n",
       "    <tr>\n",
       "      <th>2018-04-21</th>\n",
       "      <td>10.517928</td>\n",
       "      <td>10.518031</td>\n",
       "    </tr>\n",
       "    <tr>\n",
       "      <th>2018-04-22</th>\n",
       "      <td>11.379310</td>\n",
       "      <td>11.379474</td>\n",
       "    </tr>\n",
       "    <tr>\n",
       "      <th>2018-04-26</th>\n",
       "      <td>12.722892</td>\n",
       "      <td>12.722984</td>\n",
       "    </tr>\n",
       "    <tr>\n",
       "      <th>2018-04-27</th>\n",
       "      <td>11.604396</td>\n",
       "      <td>11.604675</td>\n",
       "    </tr>\n",
       "    <tr>\n",
       "      <th>2018-04-28</th>\n",
       "      <td>11.838565</td>\n",
       "      <td>11.838702</td>\n",
       "    </tr>\n",
       "    <tr>\n",
       "      <th>2018-05-01</th>\n",
       "      <td>12.110092</td>\n",
       "      <td>12.110146</td>\n",
       "    </tr>\n",
       "    <tr>\n",
       "      <th>2018-05-08</th>\n",
       "      <td>9.378330</td>\n",
       "      <td>9.378403</td>\n",
       "    </tr>\n",
       "    <tr>\n",
       "      <th>2018-05-09</th>\n",
       "      <td>11.681416</td>\n",
       "      <td>11.681579</td>\n",
       "    </tr>\n",
       "    <tr>\n",
       "      <th>2018-05-12</th>\n",
       "      <td>12.027335</td>\n",
       "      <td>12.027399</td>\n",
       "    </tr>\n",
       "    <tr>\n",
       "      <th>2018-05-13</th>\n",
       "      <td>11.655629</td>\n",
       "      <td>11.655858</td>\n",
       "    </tr>\n",
       "    <tr>\n",
       "      <th>2018-05-14</th>\n",
       "      <td>10.538922</td>\n",
       "      <td>10.538997</td>\n",
       "    </tr>\n",
       "    <tr>\n",
       "      <th>2018-05-15</th>\n",
       "      <td>12.054795</td>\n",
       "      <td>12.055063</td>\n",
       "    </tr>\n",
       "    <tr>\n",
       "      <th>2018-05-16</th>\n",
       "      <td>11.553611</td>\n",
       "      <td>11.553888</td>\n",
       "    </tr>\n",
       "    <tr>\n",
       "      <th>2018-05-18</th>\n",
       "      <td>11.330472</td>\n",
       "      <td>11.330660</td>\n",
       "    </tr>\n",
       "    <tr>\n",
       "      <th>2018-05-19</th>\n",
       "      <td>11.655629</td>\n",
       "      <td>11.655808</td>\n",
       "    </tr>\n",
       "    <tr>\n",
       "      <th>2018-05-20</th>\n",
       "      <td>11.478261</td>\n",
       "      <td>11.478471</td>\n",
       "    </tr>\n",
       "    <tr>\n",
       "      <th>2018-05-22</th>\n",
       "      <td>12.137931</td>\n",
       "      <td>12.138051</td>\n",
       "    </tr>\n",
       "    <tr>\n",
       "      <th>2018-05-24</th>\n",
       "      <td>11.918736</td>\n",
       "      <td>11.919056</td>\n",
       "    </tr>\n",
       "    <tr>\n",
       "      <th>2018-05-26</th>\n",
       "      <td>10.581162</td>\n",
       "      <td>10.581891</td>\n",
       "    </tr>\n",
       "    <tr>\n",
       "      <th>2018-05-29</th>\n",
       "      <td>11.553611</td>\n",
       "      <td>11.553734</td>\n",
       "    </tr>\n",
       "    <tr>\n",
       "      <th>2018-05-31</th>\n",
       "      <td>11.655629</td>\n",
       "      <td>11.655630</td>\n",
       "    </tr>\n",
       "    <tr>\n",
       "      <th>2018-06-02</th>\n",
       "      <td>12.110092</td>\n",
       "      <td>12.110162</td>\n",
       "    </tr>\n",
       "    <tr>\n",
       "      <th>2018-06-03</th>\n",
       "      <td>11.759465</td>\n",
       "      <td>11.759775</td>\n",
       "    </tr>\n",
       "    <tr>\n",
       "      <th>2018-06-05</th>\n",
       "      <td>11.354839</td>\n",
       "      <td>11.355104</td>\n",
       "    </tr>\n",
       "    <tr>\n",
       "      <th>2018-06-06</th>\n",
       "      <td>11.972789</td>\n",
       "      <td>11.972853</td>\n",
       "    </tr>\n",
       "    <tr>\n",
       "      <th>2018-06-07</th>\n",
       "      <td>10.841889</td>\n",
       "      <td>10.841927</td>\n",
       "    </tr>\n",
       "  </tbody>\n",
       "</table>\n",
       "</div>"
      ],
      "text/plain": [
       "             spd_ft_s   GAP_ft_s\n",
       "date                            \n",
       "2018-03-10  11.604396  11.604441\n",
       "2018-03-11  11.528384  11.528625\n",
       "2018-03-13  12.000000  12.000236\n",
       "2018-03-14   9.312169   9.312198\n",
       "2018-03-15  11.707317  11.707522\n",
       "2018-03-16  10.173410  10.173511\n",
       "2018-03-17  11.528384  11.528545\n",
       "2018-03-18  11.629956  11.630169\n",
       "2018-03-20  11.918736  11.918874\n",
       "2018-03-22  10.753564  10.753792\n",
       "2018-03-24  11.553611  11.553761\n",
       "2018-03-25  10.864198  10.864354\n",
       "2018-03-29  11.282051  11.282101\n",
       "2018-03-31  10.057143  10.057326\n",
       "2018-04-03  10.623742  10.623792\n",
       "2018-04-04  11.891892  11.892060\n",
       "2018-04-07  12.110092  12.110215\n",
       "2018-04-08  11.578947  11.579223\n",
       "2018-04-08  11.282051  11.282341\n",
       "2018-04-10  10.393701  10.393805\n",
       "2018-04-11  11.604396  11.604524\n",
       "2018-04-12   9.582577   9.582659\n",
       "2018-04-14  11.234043  11.234337\n",
       "2018-04-15  11.604396  11.604476\n",
       "2018-04-18   9.428571   9.428628\n",
       "2018-04-19  11.428571  11.428877\n",
       "2018-04-21  10.517928  10.518031\n",
       "2018-04-22  11.379310  11.379474\n",
       "2018-04-26  12.722892  12.722984\n",
       "2018-04-27  11.604396  11.604675\n",
       "2018-04-28  11.838565  11.838702\n",
       "2018-05-01  12.110092  12.110146\n",
       "2018-05-08   9.378330   9.378403\n",
       "2018-05-09  11.681416  11.681579\n",
       "2018-05-12  12.027335  12.027399\n",
       "2018-05-13  11.655629  11.655858\n",
       "2018-05-14  10.538922  10.538997\n",
       "2018-05-15  12.054795  12.055063\n",
       "2018-05-16  11.553611  11.553888\n",
       "2018-05-18  11.330472  11.330660\n",
       "2018-05-19  11.655629  11.655808\n",
       "2018-05-20  11.478261  11.478471\n",
       "2018-05-22  12.137931  12.138051\n",
       "2018-05-24  11.918736  11.919056\n",
       "2018-05-26  10.581162  10.581891\n",
       "2018-05-29  11.553611  11.553734\n",
       "2018-05-31  11.655629  11.655630\n",
       "2018-06-02  12.110092  12.110162\n",
       "2018-06-03  11.759465  11.759775\n",
       "2018-06-05  11.354839  11.355104\n",
       "2018-06-06  11.972789  11.972853\n",
       "2018-06-07  10.841889  10.841927"
      ]
     },
     "execution_count": 71,
     "metadata": {},
     "output_type": "execute_result"
    }
   ],
   "source": [
    "s_3_3_run['GAP_ft_s'] = 0.0\n",
    "for i in range(len(s_3_3_run)):\n",
    "    #print(s_3_3_run['spd_ft_s'][i])\n",
    "    #print(s_3_3_run['spd_ft_s'][i]**2)\n",
    "    #print(s_3_3_run['elev_gain'][i])\n",
    "    #print(s_3_3_run['distance'][i]*5280)\n",
    "    \n",
    "    #using trig to calculate the change to the pace:\n",
    "    factor = (np.sqrt((s_3_3_run['distance'][i]*5280)**2+s_3_3_run['elev_gain'][i]**2)/(s_3_3_run['distance'][i]*5280))\n",
    "    #print(np.sqrt(s_3_3_run['spd_ft_s'][i]**2 + 2*32.2*s_3_3_run['elev_gain'][i]))\n",
    "    s_3_3_run['GAP_ft_s'][i] = factor*s_3_3_run['spd_ft_s'][i]\n",
    "\n",
    "s_3_3_run[['spd_ft_s','GAP_ft_s']]"
   ]
  },
  {
   "cell_type": "code",
   "execution_count": 72,
   "metadata": {},
   "outputs": [
    {
     "data": {
      "text/plain": [
       "date\n",
       "2018-03-10    0.874286\n",
       "2018-03-11    0.834286\n",
       "2018-03-13    0.851429\n",
       "2018-03-14    0.691429\n",
       "2018-03-15    0.845714\n",
       "2018-03-16    0.708571\n",
       "2018-03-17    0.891429\n",
       "2018-03-18    0.822857\n",
       "2018-03-20    0.817143\n",
       "2018-03-22    0.742857\n",
       "2018-03-24    0.885714\n",
       "2018-03-25    0.840000\n",
       "2018-03-29    0.788571\n",
       "2018-03-31    0.742857\n",
       "2018-04-03    0.765714\n",
       "2018-04-04    0.828571\n",
       "2018-04-07    0.885714\n",
       "2018-04-08    0.834286\n",
       "2018-04-08    0.828571\n",
       "2018-04-10    0.754286\n",
       "2018-04-11    0.822857\n",
       "2018-04-12    0.680000\n",
       "2018-04-14    0.851429\n",
       "2018-04-15    0.828571\n",
       "2018-04-18    0.628571\n",
       "2018-04-19    0.800000\n",
       "2018-04-21    0.748571\n",
       "2018-04-22    0.845714\n",
       "2018-04-26    0.851429\n",
       "2018-04-27    0.828571\n",
       "2018-04-28    0.822857\n",
       "2018-05-01    0.805714\n",
       "2018-05-08    0.697143\n",
       "2018-05-09    0.822857\n",
       "2018-05-12    0.845714\n",
       "2018-05-13    0.811429\n",
       "2018-05-14    0.725714\n",
       "2018-05-15    0.874286\n",
       "2018-05-16    0.834286\n",
       "2018-05-18    0.805714\n",
       "2018-05-19    0.840000\n",
       "2018-05-20    0.868571\n",
       "2018-05-22    0.840000\n",
       "2018-05-24    0.862857\n",
       "2018-05-26    0.834286\n",
       "2018-05-29    0.805714\n",
       "2018-05-31    0.851429\n",
       "2018-06-02    0.862857\n",
       "2018-06-03    0.822857\n",
       "2018-06-05    0.805714\n",
       "2018-06-06    0.862857\n",
       "2018-06-07    0.771429\n",
       "Name: intensity, dtype: float64"
      ]
     },
     "execution_count": 72,
     "metadata": {},
     "output_type": "execute_result"
    }
   ],
   "source": [
    "#Now lets scale these by the intensity factor:\n",
    "s_3_3_run['intensity']"
   ]
  },
  {
   "cell_type": "code",
   "execution_count": 73,
   "metadata": {},
   "outputs": [],
   "source": [
    "#Why divide by intensity? This brings average run pace up to the speed that we would expect if the athlete was at their highest average\n",
    "#sustainable heartrate for this speed. \n",
    "s_3_3_run['GAP_by_intensity']  = s_3_3_run['GAP_ft_s']/s_3_3_run['intensity']"
   ]
  },
  {
   "cell_type": "code",
   "execution_count": 97,
   "metadata": {},
   "outputs": [
    {
     "data": {
      "text/html": [
       "<div>\n",
       "<style scoped>\n",
       "    .dataframe tbody tr th:only-of-type {\n",
       "        vertical-align: middle;\n",
       "    }\n",
       "\n",
       "    .dataframe tbody tr th {\n",
       "        vertical-align: top;\n",
       "    }\n",
       "\n",
       "    .dataframe thead th {\n",
       "        text-align: right;\n",
       "    }\n",
       "</style>\n",
       "<table border=\"1\" class=\"dataframe\">\n",
       "  <thead>\n",
       "    <tr style=\"text-align: right;\">\n",
       "      <th></th>\n",
       "      <th>GAP_by_intensity</th>\n",
       "      <th>distance</th>\n",
       "      <th>avg_hr</th>\n",
       "    </tr>\n",
       "    <tr>\n",
       "      <th>date</th>\n",
       "      <th></th>\n",
       "      <th></th>\n",
       "      <th></th>\n",
       "    </tr>\n",
       "  </thead>\n",
       "  <tbody>\n",
       "    <tr>\n",
       "      <th>2018-03-10</th>\n",
       "      <td>13.273054</td>\n",
       "      <td>3.30</td>\n",
       "      <td>153</td>\n",
       "    </tr>\n",
       "    <tr>\n",
       "      <th>2018-03-11</th>\n",
       "      <td>13.818558</td>\n",
       "      <td>12.01</td>\n",
       "      <td>146</td>\n",
       "    </tr>\n",
       "    <tr>\n",
       "      <th>2018-03-13</th>\n",
       "      <td>14.094236</td>\n",
       "      <td>6.83</td>\n",
       "      <td>149</td>\n",
       "    </tr>\n",
       "    <tr>\n",
       "      <th>2018-03-14</th>\n",
       "      <td>13.468055</td>\n",
       "      <td>2.53</td>\n",
       "      <td>121</td>\n",
       "    </tr>\n",
       "    <tr>\n",
       "      <th>2018-03-15</th>\n",
       "      <td>13.843354</td>\n",
       "      <td>8.09</td>\n",
       "      <td>148</td>\n",
       "    </tr>\n",
       "    <tr>\n",
       "      <th>2018-03-16</th>\n",
       "      <td>14.357777</td>\n",
       "      <td>4.05</td>\n",
       "      <td>124</td>\n",
       "    </tr>\n",
       "    <tr>\n",
       "      <th>2018-03-17</th>\n",
       "      <td>12.932662</td>\n",
       "      <td>5.42</td>\n",
       "      <td>156</td>\n",
       "    </tr>\n",
       "    <tr>\n",
       "      <th>2018-03-18</th>\n",
       "      <td>14.133886</td>\n",
       "      <td>12.01</td>\n",
       "      <td>144</td>\n",
       "    </tr>\n",
       "    <tr>\n",
       "      <th>2018-03-20</th>\n",
       "      <td>14.586035</td>\n",
       "      <td>7.47</td>\n",
       "      <td>143</td>\n",
       "    </tr>\n",
       "    <tr>\n",
       "      <th>2018-03-22</th>\n",
       "      <td>14.476258</td>\n",
       "      <td>4.31</td>\n",
       "      <td>130</td>\n",
       "    </tr>\n",
       "    <tr>\n",
       "      <th>2018-03-24</th>\n",
       "      <td>13.044568</td>\n",
       "      <td>14.01</td>\n",
       "      <td>155</td>\n",
       "    </tr>\n",
       "    <tr>\n",
       "      <th>2018-03-25</th>\n",
       "      <td>12.933754</td>\n",
       "      <td>3.71</td>\n",
       "      <td>147</td>\n",
       "    </tr>\n",
       "    <tr>\n",
       "      <th>2018-03-29</th>\n",
       "      <td>14.307012</td>\n",
       "      <td>7.33</td>\n",
       "      <td>138</td>\n",
       "    </tr>\n",
       "    <tr>\n",
       "      <th>2018-03-31</th>\n",
       "      <td>13.538708</td>\n",
       "      <td>3.61</td>\n",
       "      <td>130</td>\n",
       "    </tr>\n",
       "    <tr>\n",
       "      <th>2018-04-03</th>\n",
       "      <td>13.874356</td>\n",
       "      <td>4.26</td>\n",
       "      <td>134</td>\n",
       "    </tr>\n",
       "    <tr>\n",
       "      <th>2018-04-04</th>\n",
       "      <td>14.352487</td>\n",
       "      <td>6.76</td>\n",
       "      <td>145</td>\n",
       "    </tr>\n",
       "    <tr>\n",
       "      <th>2018-04-07</th>\n",
       "      <td>13.672823</td>\n",
       "      <td>2.77</td>\n",
       "      <td>155</td>\n",
       "    </tr>\n",
       "    <tr>\n",
       "      <th>2018-04-08</th>\n",
       "      <td>13.879205</td>\n",
       "      <td>10.63</td>\n",
       "      <td>146</td>\n",
       "    </tr>\n",
       "    <tr>\n",
       "      <th>2018-04-08</th>\n",
       "      <td>13.616618</td>\n",
       "      <td>5.13</td>\n",
       "      <td>145</td>\n",
       "    </tr>\n",
       "    <tr>\n",
       "      <th>2018-04-10</th>\n",
       "      <td>13.779666</td>\n",
       "      <td>2.37</td>\n",
       "      <td>132</td>\n",
       "    </tr>\n",
       "    <tr>\n",
       "      <th>2018-04-11</th>\n",
       "      <td>14.102720</td>\n",
       "      <td>7.26</td>\n",
       "      <td>144</td>\n",
       "    </tr>\n",
       "    <tr>\n",
       "      <th>2018-04-12</th>\n",
       "      <td>14.092145</td>\n",
       "      <td>2.25</td>\n",
       "      <td>119</td>\n",
       "    </tr>\n",
       "    <tr>\n",
       "      <th>2018-04-14</th>\n",
       "      <td>13.194691</td>\n",
       "      <td>15.62</td>\n",
       "      <td>149</td>\n",
       "    </tr>\n",
       "    <tr>\n",
       "      <th>2018-04-15</th>\n",
       "      <td>14.005403</td>\n",
       "      <td>5.33</td>\n",
       "      <td>145</td>\n",
       "    </tr>\n",
       "    <tr>\n",
       "      <th>2018-04-18</th>\n",
       "      <td>15.000090</td>\n",
       "      <td>1.64</td>\n",
       "      <td>110</td>\n",
       "    </tr>\n",
       "    <tr>\n",
       "      <th>2018-04-19</th>\n",
       "      <td>14.286096</td>\n",
       "      <td>16.06</td>\n",
       "      <td>140</td>\n",
       "    </tr>\n",
       "    <tr>\n",
       "      <th>2018-04-21</th>\n",
       "      <td>14.050805</td>\n",
       "      <td>4.20</td>\n",
       "      <td>131</td>\n",
       "    </tr>\n",
       "    <tr>\n",
       "      <th>2018-04-22</th>\n",
       "      <td>13.455460</td>\n",
       "      <td>5.22</td>\n",
       "      <td>148</td>\n",
       "    </tr>\n",
       "    <tr>\n",
       "      <th>2018-04-26</th>\n",
       "      <td>14.943102</td>\n",
       "      <td>2.93</td>\n",
       "      <td>149</td>\n",
       "    </tr>\n",
       "    <tr>\n",
       "      <th>2018-04-27</th>\n",
       "      <td>14.005642</td>\n",
       "      <td>12.01</td>\n",
       "      <td>145</td>\n",
       "    </tr>\n",
       "    <tr>\n",
       "      <th>2018-04-28</th>\n",
       "      <td>14.387312</td>\n",
       "      <td>3.50</td>\n",
       "      <td>144</td>\n",
       "    </tr>\n",
       "    <tr>\n",
       "      <th>2018-05-01</th>\n",
       "      <td>15.030323</td>\n",
       "      <td>5.01</td>\n",
       "      <td>141</td>\n",
       "    </tr>\n",
       "    <tr>\n",
       "      <th>2018-05-08</th>\n",
       "      <td>13.452627</td>\n",
       "      <td>2.84</td>\n",
       "      <td>122</td>\n",
       "    </tr>\n",
       "    <tr>\n",
       "      <th>2018-05-09</th>\n",
       "      <td>14.196363</td>\n",
       "      <td>6.71</td>\n",
       "      <td>144</td>\n",
       "    </tr>\n",
       "    <tr>\n",
       "      <th>2018-05-12</th>\n",
       "      <td>14.221587</td>\n",
       "      <td>3.59</td>\n",
       "      <td>148</td>\n",
       "    </tr>\n",
       "    <tr>\n",
       "      <th>2018-05-13</th>\n",
       "      <td>14.364613</td>\n",
       "      <td>10.01</td>\n",
       "      <td>142</td>\n",
       "    </tr>\n",
       "    <tr>\n",
       "      <th>2018-05-14</th>\n",
       "      <td>14.522239</td>\n",
       "      <td>3.63</td>\n",
       "      <td>127</td>\n",
       "    </tr>\n",
       "    <tr>\n",
       "      <th>2018-05-15</th>\n",
       "      <td>13.788471</td>\n",
       "      <td>7.55</td>\n",
       "      <td>153</td>\n",
       "    </tr>\n",
       "    <tr>\n",
       "      <th>2018-05-16</th>\n",
       "      <td>13.848839</td>\n",
       "      <td>17.12</td>\n",
       "      <td>146</td>\n",
       "    </tr>\n",
       "    <tr>\n",
       "      <th>2018-05-18</th>\n",
       "      <td>14.062876</td>\n",
       "      <td>4.54</td>\n",
       "      <td>141</td>\n",
       "    </tr>\n",
       "    <tr>\n",
       "      <th>2018-05-19</th>\n",
       "      <td>13.875961</td>\n",
       "      <td>6.64</td>\n",
       "      <td>147</td>\n",
       "    </tr>\n",
       "    <tr>\n",
       "      <th>2018-05-20</th>\n",
       "      <td>13.215345</td>\n",
       "      <td>5.45</td>\n",
       "      <td>152</td>\n",
       "    </tr>\n",
       "    <tr>\n",
       "      <th>2018-05-22</th>\n",
       "      <td>14.450061</td>\n",
       "      <td>6.30</td>\n",
       "      <td>147</td>\n",
       "    </tr>\n",
       "    <tr>\n",
       "      <th>2018-05-24</th>\n",
       "      <td>13.813475</td>\n",
       "      <td>8.14</td>\n",
       "      <td>151</td>\n",
       "    </tr>\n",
       "    <tr>\n",
       "      <th>2018-05-26</th>\n",
       "      <td>12.683774</td>\n",
       "      <td>16.46</td>\n",
       "      <td>146</td>\n",
       "    </tr>\n",
       "    <tr>\n",
       "      <th>2018-05-29</th>\n",
       "      <td>14.339740</td>\n",
       "      <td>5.25</td>\n",
       "      <td>141</td>\n",
       "    </tr>\n",
       "    <tr>\n",
       "      <th>2018-05-31</th>\n",
       "      <td>13.689498</td>\n",
       "      <td>10.61</td>\n",
       "      <td>149</td>\n",
       "    </tr>\n",
       "    <tr>\n",
       "      <th>2018-06-02</th>\n",
       "      <td>14.034956</td>\n",
       "      <td>3.45</td>\n",
       "      <td>151</td>\n",
       "    </tr>\n",
       "    <tr>\n",
       "      <th>2018-06-03</th>\n",
       "      <td>14.291393</td>\n",
       "      <td>8.04</td>\n",
       "      <td>144</td>\n",
       "    </tr>\n",
       "    <tr>\n",
       "      <th>2018-06-05</th>\n",
       "      <td>14.093215</td>\n",
       "      <td>4.54</td>\n",
       "      <td>141</td>\n",
       "    </tr>\n",
       "    <tr>\n",
       "      <th>2018-06-06</th>\n",
       "      <td>13.875823</td>\n",
       "      <td>4.77</td>\n",
       "      <td>151</td>\n",
       "    </tr>\n",
       "    <tr>\n",
       "      <th>2018-06-07</th>\n",
       "      <td>14.054349</td>\n",
       "      <td>1.87</td>\n",
       "      <td>135</td>\n",
       "    </tr>\n",
       "  </tbody>\n",
       "</table>\n",
       "</div>"
      ],
      "text/plain": [
       "            GAP_by_intensity  distance  avg_hr\n",
       "date                                          \n",
       "2018-03-10         13.273054      3.30     153\n",
       "2018-03-11         13.818558     12.01     146\n",
       "2018-03-13         14.094236      6.83     149\n",
       "2018-03-14         13.468055      2.53     121\n",
       "2018-03-15         13.843354      8.09     148\n",
       "2018-03-16         14.357777      4.05     124\n",
       "2018-03-17         12.932662      5.42     156\n",
       "2018-03-18         14.133886     12.01     144\n",
       "2018-03-20         14.586035      7.47     143\n",
       "2018-03-22         14.476258      4.31     130\n",
       "2018-03-24         13.044568     14.01     155\n",
       "2018-03-25         12.933754      3.71     147\n",
       "2018-03-29         14.307012      7.33     138\n",
       "2018-03-31         13.538708      3.61     130\n",
       "2018-04-03         13.874356      4.26     134\n",
       "2018-04-04         14.352487      6.76     145\n",
       "2018-04-07         13.672823      2.77     155\n",
       "2018-04-08         13.879205     10.63     146\n",
       "2018-04-08         13.616618      5.13     145\n",
       "2018-04-10         13.779666      2.37     132\n",
       "2018-04-11         14.102720      7.26     144\n",
       "2018-04-12         14.092145      2.25     119\n",
       "2018-04-14         13.194691     15.62     149\n",
       "2018-04-15         14.005403      5.33     145\n",
       "2018-04-18         15.000090      1.64     110\n",
       "2018-04-19         14.286096     16.06     140\n",
       "2018-04-21         14.050805      4.20     131\n",
       "2018-04-22         13.455460      5.22     148\n",
       "2018-04-26         14.943102      2.93     149\n",
       "2018-04-27         14.005642     12.01     145\n",
       "2018-04-28         14.387312      3.50     144\n",
       "2018-05-01         15.030323      5.01     141\n",
       "2018-05-08         13.452627      2.84     122\n",
       "2018-05-09         14.196363      6.71     144\n",
       "2018-05-12         14.221587      3.59     148\n",
       "2018-05-13         14.364613     10.01     142\n",
       "2018-05-14         14.522239      3.63     127\n",
       "2018-05-15         13.788471      7.55     153\n",
       "2018-05-16         13.848839     17.12     146\n",
       "2018-05-18         14.062876      4.54     141\n",
       "2018-05-19         13.875961      6.64     147\n",
       "2018-05-20         13.215345      5.45     152\n",
       "2018-05-22         14.450061      6.30     147\n",
       "2018-05-24         13.813475      8.14     151\n",
       "2018-05-26         12.683774     16.46     146\n",
       "2018-05-29         14.339740      5.25     141\n",
       "2018-05-31         13.689498     10.61     149\n",
       "2018-06-02         14.034956      3.45     151\n",
       "2018-06-03         14.291393      8.04     144\n",
       "2018-06-05         14.093215      4.54     141\n",
       "2018-06-06         13.875823      4.77     151\n",
       "2018-06-07         14.054349      1.87     135"
      ]
     },
     "execution_count": 97,
     "metadata": {},
     "output_type": "execute_result"
    }
   ],
   "source": [
    "s_3_3_run[['GAP_by_intensity', 'distance', 'avg_hr']] "
   ]
  },
  {
   "cell_type": "markdown",
   "metadata": {},
   "source": [
    "Now lets graph the GAP_by_intensity versus the distance:"
   ]
  },
  {
   "cell_type": "code",
   "execution_count": 76,
   "metadata": {},
   "outputs": [
    {
     "data": {
      "text/plain": [
       "<matplotlib.legend.Legend at 0x7fc122ed6af0>"
      ]
     },
     "execution_count": 76,
     "metadata": {},
     "output_type": "execute_result"
    },
    {
     "data": {
      "image/png": "[encoded data removed]",
      "text/plain": [
       "<Figure size 2016x1080 with 1 Axes>"
      ]
     },
     "metadata": {
      "needs_background": "light"
     },
     "output_type": "display_data"
    }
   ],
   "source": [
    "fig, ax = plt.subplots(figsize=(28,15))\n",
    "ax.scatter(s_3_3_run[s_3_3_run['is_race'] == 0]['distance'], s_3_3_run[s_3_3_run['is_race'] == 0]['GAP_by_intensity'])\n",
    "m, b = np.polyfit(np.log(s_3_3_run[s_3_3_run['is_race'] == 0]['distance']), (s_3_3_run[s_3_3_run['is_race'] == 0]['GAP_by_intensity']), 1)\n",
    "z, c = np.polyfit((s_3_3_run[s_3_3_run['is_race'] == 0]['distance']**(.5)), (s_3_3_run[s_3_3_run['is_race'] == 0]['GAP_by_intensity']), 1)\n",
    "plt.scatter((s_3_3_run[s_3_3_run['is_race'] == 0]['distance']), np.log(s_3_3_run[s_3_3_run['is_race'] == 0]['distance'])*m+b, color='red')\n",
    "plt.plot(range(30), np.log(range(30))*m+b, color='green', label = 'log(x)')\n",
    "plt.plot(range(30), range(30)*z+c, color = 'orange', label = 'sqrt(x) linear')\n",
    "plt.plot(range(30), (2*(np.log(range(30))*m+b)+range(30)*z+c)/3, color = 'purple', label = '2/3 log, 1/3 sqrt combined')\n",
    "\n",
    "plt.xlabel(\"Distance\")\n",
    "plt.ylabel(\"Speed/Intensity\")\n",
    "plt.legend()"
   ]
  },
  {
   "cell_type": "code",
   "execution_count": 77,
   "metadata": {},
   "outputs": [
    {
     "data": {
      "text/plain": [
       "-0.18598782571071185"
      ]
     },
     "execution_count": 77,
     "metadata": {},
     "output_type": "execute_result"
    }
   ],
   "source": [
    "m"
   ]
  },
  {
   "cell_type": "code",
   "execution_count": 78,
   "metadata": {},
   "outputs": [
    {
     "data": {
      "text/plain": [
       "14.271048230266302"
      ]
     },
     "execution_count": 78,
     "metadata": {},
     "output_type": "execute_result"
    }
   ],
   "source": [
    "b"
   ]
  },
  {
   "cell_type": "code",
   "execution_count": 79,
   "metadata": {},
   "outputs": [
    {
     "data": {
      "text/plain": [
       "13.663656738163443"
      ]
     },
     "execution_count": 79,
     "metadata": {},
     "output_type": "execute_result"
    }
   ],
   "source": [
    "m*np.log(26.2)+b"
   ]
  },
  {
   "cell_type": "code",
   "execution_count": null,
   "metadata": {},
   "outputs": [],
   "source": [
    "#This puts the athlete at a 6:49 pace for the marathon. When we multiply by the .85d intensity expected at marathon pace, we get:\n",
    "#~ 7:40 miles. That seems very reasonable."
   ]
  },
  {
   "cell_type": "code",
   "execution_count": 322,
   "metadata": {},
   "outputs": [],
   "source": [
    "z, c = np.polyfit((s_3_3_run[s_3_3_run['is_race'] == 0]['distance']**(.5)), (s_3_3_run[s_3_3_run['is_race'] == 0]['GAP_by_intensity']), 1)"
   ]
  },
  {
   "cell_type": "code",
   "execution_count": 323,
   "metadata": {},
   "outputs": [
    {
     "data": {
      "text/plain": [
       "10.147948559856577"
      ]
     },
     "execution_count": 323,
     "metadata": {},
     "output_type": "execute_result"
    }
   ],
   "source": [
    "z*26.2+c"
   ]
  },
  {
   "cell_type": "code",
   "execution_count": null,
   "metadata": {},
   "outputs": [],
   "source": []
  },
  {
   "cell_type": "code",
   "execution_count": null,
   "metadata": {},
   "outputs": [],
   "source": [
    "#The square root linear regression puts them at a 8:22."
   ]
  },
  {
   "cell_type": "code",
   "execution_count": 333,
   "metadata": {},
   "outputs": [],
   "source": [
    "z_2, c_2 = np.polyfit((s_3_3_run[s_3_3_run['is_race'] == 0]['distance']), (s_3_3_run[s_3_3_run['is_race'] == 0]['GAP_by_intensity']), 1)"
   ]
  },
  {
   "cell_type": "code",
   "execution_count": 334,
   "metadata": {},
   "outputs": [
    {
     "data": {
      "text/plain": [
       "13.33180490930868"
      ]
     },
     "execution_count": 334,
     "metadata": {},
     "output_type": "execute_result"
    }
   ],
   "source": [
    "z_2*26.2+c_2"
   ]
  },
  {
   "cell_type": "code",
   "execution_count": null,
   "metadata": {},
   "outputs": [],
   "source": [
    "#The straight linear pace gets us to 6:40 miles, * .85 IF = 7:48 miles."
   ]
  },
  {
   "cell_type": "code",
   "execution_count": 279,
   "metadata": {},
   "outputs": [],
   "source": [
    "#What was the athlete's race time?"
   ]
  },
  {
   "cell_type": "markdown",
   "metadata": {},
   "source": [
    "It turns out, this was an interesting race year. On race day, it was 90 degrees and sunny, very different than in years past, and different than the athlete's\n",
    "training. However from the estimations, it looks like a linear relationship (orange) is not as accurate as the logarithmic relationship (green). The athlete actually performed below the linear relationship's expectation (10:49) due to cramping. More athletes will need to be examined."
   ]
  },
  {
   "cell_type": "code",
   "execution_count": 307,
   "metadata": {},
   "outputs": [],
   "source": [
    "#It looks like an average of the two estimations might be the most accurate?"
   ]
  },
  {
   "cell_type": "code",
   "execution_count": 308,
   "metadata": {},
   "outputs": [
    {
     "data": {
      "text/plain": [
       "11.6021"
      ]
     },
     "execution_count": 308,
     "metadata": {},
     "output_type": "execute_result"
    }
   ],
   "source": [
    "(13.0562+10.1480)/2"
   ]
  },
  {
   "cell_type": "markdown",
   "metadata": {},
   "source": [
    "Gives us about a 7:36 for the marathon. That seems about right."
   ]
  },
  {
   "cell_type": "markdown",
   "metadata": {},
   "source": [
    "for a 2/3, 1/3 weighted average of the logarithmic and linear relationships, we predict:"
   ]
  },
  {
   "cell_type": "code",
   "execution_count": 312,
   "metadata": {},
   "outputs": [
    {
     "data": {
      "text/plain": [
       "12.086826350659242"
      ]
     },
     "execution_count": 312,
     "metadata": {},
     "output_type": "execute_result"
    }
   ],
   "source": [
    "(2*(np.log(26.2)*m+b)+26.2*z+c)/3 #Answer is in ft/s"
   ]
  },
  {
   "cell_type": "markdown",
   "metadata": {},
   "source": [
    "or around a 7:19 mile. Reasonable if it was just running."
   ]
  },
  {
   "cell_type": "code",
   "execution_count": 281,
   "metadata": {},
   "outputs": [
    {
     "data": {
      "text/html": [
       "<div>\n",
       "<style scoped>\n",
       "    .dataframe tbody tr th:only-of-type {\n",
       "        vertical-align: middle;\n",
       "    }\n",
       "\n",
       "    .dataframe tbody tr th {\n",
       "        vertical-align: top;\n",
       "    }\n",
       "\n",
       "    .dataframe thead th {\n",
       "        text-align: right;\n",
       "    }\n",
       "</style>\n",
       "<table border=\"1\" class=\"dataframe\">\n",
       "  <thead>\n",
       "    <tr style=\"text-align: right;\">\n",
       "      <th></th>\n",
       "      <th>activity_type</th>\n",
       "      <th>favorite</th>\n",
       "      <th>title</th>\n",
       "      <th>distance</th>\n",
       "      <th>calories</th>\n",
       "      <th>time</th>\n",
       "      <th>avg_hr</th>\n",
       "      <th>max_hr</th>\n",
       "      <th>aerobic_te</th>\n",
       "      <th>avg_run_cadence</th>\n",
       "      <th>...</th>\n",
       "      <th>decompression</th>\n",
       "      <th>best_lap_time</th>\n",
       "      <th>number_of_laps</th>\n",
       "      <th>max_temp</th>\n",
       "      <th>avg_resp</th>\n",
       "      <th>min_resp</th>\n",
       "      <th>max_resp</th>\n",
       "      <th>athlete_id</th>\n",
       "      <th>filetype</th>\n",
       "      <th>is_race</th>\n",
       "    </tr>\n",
       "    <tr>\n",
       "      <th>date</th>\n",
       "      <th></th>\n",
       "      <th></th>\n",
       "      <th></th>\n",
       "      <th></th>\n",
       "      <th></th>\n",
       "      <th></th>\n",
       "      <th></th>\n",
       "      <th></th>\n",
       "      <th></th>\n",
       "      <th></th>\n",
       "      <th></th>\n",
       "      <th></th>\n",
       "      <th></th>\n",
       "      <th></th>\n",
       "      <th></th>\n",
       "      <th></th>\n",
       "      <th></th>\n",
       "      <th></th>\n",
       "      <th></th>\n",
       "      <th></th>\n",
       "      <th></th>\n",
       "    </tr>\n",
       "  </thead>\n",
       "  <tbody>\n",
       "    <tr>\n",
       "      <th>2018-05-05</th>\n",
       "      <td>Multisport</td>\n",
       "      <td>True</td>\n",
       "      <td>Hurricane Multi-Sport</td>\n",
       "      <td>70.12</td>\n",
       "      <td>3,699</td>\n",
       "      <td>04:35:41</td>\n",
       "      <td>0</td>\n",
       "      <td>172</td>\n",
       "      <td>0.0</td>\n",
       "      <td>0</td>\n",
       "      <td>...</td>\n",
       "      <td>No</td>\n",
       "      <td>00:00.00</td>\n",
       "      <td>5</td>\n",
       "      <td>0.0</td>\n",
       "      <td>0</td>\n",
       "      <td>0</td>\n",
       "      <td>0</td>\n",
       "      <td>3</td>\n",
       "      <td>garmin</td>\n",
       "      <td>1</td>\n",
       "    </tr>\n",
       "    <tr>\n",
       "      <th>2018-05-05</th>\n",
       "      <td>Cycling</td>\n",
       "      <td>False</td>\n",
       "      <td>Hurricane Cycling</td>\n",
       "      <td>55.55</td>\n",
       "      <td>2,378</td>\n",
       "      <td>02:28:57</td>\n",
       "      <td>150</td>\n",
       "      <td>159</td>\n",
       "      <td>0.0</td>\n",
       "      <td>0</td>\n",
       "      <td>...</td>\n",
       "      <td>No</td>\n",
       "      <td>00:00.00</td>\n",
       "      <td>1</td>\n",
       "      <td>0.0</td>\n",
       "      <td>0</td>\n",
       "      <td>0</td>\n",
       "      <td>0</td>\n",
       "      <td>3</td>\n",
       "      <td>garmin</td>\n",
       "      <td>1</td>\n",
       "    </tr>\n",
       "    <tr>\n",
       "      <th>2018-06-10</th>\n",
       "      <td>Multisport</td>\n",
       "      <td>True</td>\n",
       "      <td>Boulder Multi-Sport</td>\n",
       "      <td>139.75</td>\n",
       "      <td>6,936</td>\n",
       "      <td>11:00:17</td>\n",
       "      <td>0</td>\n",
       "      <td>162</td>\n",
       "      <td>0.0</td>\n",
       "      <td>0</td>\n",
       "      <td>...</td>\n",
       "      <td>No</td>\n",
       "      <td>00:00.00</td>\n",
       "      <td>5</td>\n",
       "      <td>0.0</td>\n",
       "      <td>0</td>\n",
       "      <td>0</td>\n",
       "      <td>0</td>\n",
       "      <td>3</td>\n",
       "      <td>garmin</td>\n",
       "      <td>1</td>\n",
       "    </tr>\n",
       "    <tr>\n",
       "      <th>2018-06-10</th>\n",
       "      <td>Cycling</td>\n",
       "      <td>False</td>\n",
       "      <td>Boulder Cycling</td>\n",
       "      <td>117.35</td>\n",
       "      <td>4,019</td>\n",
       "      <td>10:25:46</td>\n",
       "      <td>144</td>\n",
       "      <td>160</td>\n",
       "      <td>0.0</td>\n",
       "      <td>0</td>\n",
       "      <td>...</td>\n",
       "      <td>No</td>\n",
       "      <td>00:00.00</td>\n",
       "      <td>2</td>\n",
       "      <td>0.0</td>\n",
       "      <td>0</td>\n",
       "      <td>0</td>\n",
       "      <td>0</td>\n",
       "      <td>3</td>\n",
       "      <td>garmin</td>\n",
       "      <td>1</td>\n",
       "    </tr>\n",
       "  </tbody>\n",
       "</table>\n",
       "<p>4 rows × 49 columns</p>\n",
       "</div>"
      ],
      "text/plain": [
       "           activity_type  favorite                  title distance calories  \\\n",
       "date                                                                          \n",
       "2018-05-05    Multisport      True  Hurricane Multi-Sport    70.12    3,699   \n",
       "2018-05-05       Cycling     False      Hurricane Cycling    55.55    2,378   \n",
       "2018-06-10    Multisport      True    Boulder Multi-Sport   139.75    6,936   \n",
       "2018-06-10       Cycling     False        Boulder Cycling   117.35    4,019   \n",
       "\n",
       "                time  avg_hr  max_hr  aerobic_te  avg_run_cadence  ...  \\\n",
       "date                                                               ...   \n",
       "2018-05-05  04:35:41       0     172         0.0                0  ...   \n",
       "2018-05-05  02:28:57     150     159         0.0                0  ...   \n",
       "2018-06-10  11:00:17       0     162         0.0                0  ...   \n",
       "2018-06-10  10:25:46     144     160         0.0                0  ...   \n",
       "\n",
       "            decompression best_lap_time number_of_laps max_temp avg_resp  \\\n",
       "date                                                                       \n",
       "2018-05-05             No      00:00.00              5      0.0        0   \n",
       "2018-05-05             No      00:00.00              1      0.0        0   \n",
       "2018-06-10             No      00:00.00              5      0.0        0   \n",
       "2018-06-10             No      00:00.00              2      0.0        0   \n",
       "\n",
       "            min_resp  max_resp  athlete_id  filetype is_race  \n",
       "date                                                          \n",
       "2018-05-05         0         0           3    garmin       1  \n",
       "2018-05-05         0         0           3    garmin       1  \n",
       "2018-06-10         0         0           3    garmin       1  \n",
       "2018-06-10         0         0           3    garmin       1  \n",
       "\n",
       "[4 rows x 49 columns]"
      ]
     },
     "execution_count": 281,
     "metadata": {},
     "output_type": "execute_result"
    }
   ],
   "source": [
    "sample_3_mo[sample_3_mo['is_race'] == 1]"
   ]
  },
  {
   "cell_type": "code",
   "execution_count": null,
   "metadata": {},
   "outputs": [],
   "source": [
    "#8:22 is much more reasonable estimate than 6:50 pace."
   ]
  },
  {
   "cell_type": "code",
   "execution_count": null,
   "metadata": {},
   "outputs": [],
   "source": [
    "#Ok, looks like I have a fit, with some coefficients. Here is my idea on how this will work:\n",
    "#We will first build a function to do this type of plotting, for any number of data points in a race training file.\n",
    "#We will build a switching function and a column to track what the most likely fit to the data is, and select that as the most likely fit.\n",
    "#We will then use that curve to predict a speed, with the appropriate type of function (log, linear, other?)\n",
    "#As new data points are added, the curve will be re-fit, and re-scored, adjusting the curve and changing the type of fit if necessary.\n"
   ]
  },
  {
   "cell_type": "code",
   "execution_count": 85,
   "metadata": {},
   "outputs": [],
   "source": [
    "#Read in the athlete dictionary:\n",
    "with open(\"./data/athletes.json\") as json_file: \n",
    "    athletes = json.load(json_file)"
   ]
  },
  {
   "cell_type": "code",
   "execution_count": 87,
   "metadata": {},
   "outputs": [
    {
     "data": {
      "text/plain": [
       "163"
      ]
     },
     "execution_count": 87,
     "metadata": {},
     "output_type": "execute_result"
    }
   ],
   "source": [
    "athletes[\"9\"]['max_hr']"
   ]
  },
  {
   "cell_type": "code",
   "execution_count": 319,
   "metadata": {},
   "outputs": [
    {
     "data": {
      "text/plain": [
       "175"
      ]
     },
     "execution_count": 319,
     "metadata": {},
     "output_type": "execute_result"
    }
   ],
   "source": [
    "athletes[str(1)]['max_hr']"
   ]
  },
  {
   "cell_type": "code",
   "execution_count": 17,
   "metadata": {},
   "outputs": [
    {
     "data": {
      "text/plain": [
       "array(['732', '108', '2110', '266', '157', '66', '0', '814', '82', '318',\n",
       "       '148', '200', '446', '709', '118', '180', '312', '184', '154',\n",
       "       '571', '1335', '207', '171', '558', '1115'], dtype=object)"
      ]
     },
     "execution_count": 17,
     "metadata": {},
     "output_type": "execute_result"
    }
   ],
   "source": [
    "test = pd.read_csv(test_str)\n",
    "test['elev_gain'].str.replace(',', '').unique()"
   ]
  },
  {
   "cell_type": "code",
   "execution_count": 37,
   "metadata": {},
   "outputs": [
    {
     "data": {
      "text/html": [
       "<div>\n",
       "<style scoped>\n",
       "    .dataframe tbody tr th:only-of-type {\n",
       "        vertical-align: middle;\n",
       "    }\n",
       "\n",
       "    .dataframe tbody tr th {\n",
       "        vertical-align: top;\n",
       "    }\n",
       "\n",
       "    .dataframe thead th {\n",
       "        text-align: right;\n",
       "    }\n",
       "</style>\n",
       "<table border=\"1\" class=\"dataframe\">\n",
       "  <thead>\n",
       "    <tr style=\"text-align: right;\">\n",
       "      <th></th>\n",
       "      <th>date</th>\n",
       "      <th>activity_type</th>\n",
       "      <th>favorite</th>\n",
       "      <th>title</th>\n",
       "      <th>distance</th>\n",
       "      <th>calories</th>\n",
       "      <th>time</th>\n",
       "      <th>avg_hr</th>\n",
       "      <th>max_hr</th>\n",
       "      <th>aerobic_te</th>\n",
       "      <th>...</th>\n",
       "      <th>decompression</th>\n",
       "      <th>best_lap_time</th>\n",
       "      <th>number_of_laps</th>\n",
       "      <th>max_temp</th>\n",
       "      <th>race</th>\n",
       "      <th>athlete_id</th>\n",
       "      <th>filetype</th>\n",
       "      <th>is_race</th>\n",
       "      <th>avg_pace</th>\n",
       "      <th>best_pace</th>\n",
       "    </tr>\n",
       "  </thead>\n",
       "  <tbody>\n",
       "    <tr>\n",
       "      <th>33</th>\n",
       "      <td>2020-05-09</td>\n",
       "      <td>Cycling</td>\n",
       "      <td>False</td>\n",
       "      <td>Sparta Cycling</td>\n",
       "      <td>51.94</td>\n",
       "      <td>1,153</td>\n",
       "      <td>03:03:14</td>\n",
       "      <td>111</td>\n",
       "      <td>135.0</td>\n",
       "      <td>0.3</td>\n",
       "      <td>...</td>\n",
       "      <td>No</td>\n",
       "      <td>06:44.85</td>\n",
       "      <td>11.0</td>\n",
       "      <td>0.0</td>\n",
       "      <td>0</td>\n",
       "      <td>0</td>\n",
       "      <td>garmin</td>\n",
       "      <td>1</td>\n",
       "      <td>00:00:00</td>\n",
       "      <td>00:00:00</td>\n",
       "    </tr>\n",
       "  </tbody>\n",
       "</table>\n",
       "<p>1 rows × 47 columns</p>\n",
       "</div>"
      ],
      "text/plain": [
       "          date activity_type  favorite           title  distance calories  \\\n",
       "33  2020-05-09       Cycling     False  Sparta Cycling     51.94    1,153   \n",
       "\n",
       "        time  avg_hr  max_hr  aerobic_te  ...  decompression  best_lap_time  \\\n",
       "33  03:03:14     111   135.0         0.3  ...             No       06:44.85   \n",
       "\n",
       "   number_of_laps max_temp race athlete_id  filetype  is_race  avg_pace  \\\n",
       "33           11.0      0.0    0          0    garmin        1  00:00:00   \n",
       "\n",
       "    best_pace  \n",
       "33   00:00:00  \n",
       "\n",
       "[1 rows x 47 columns]"
      ]
     },
     "execution_count": 37,
     "metadata": {},
     "output_type": "execute_result"
    }
   ],
   "source": [
    "test[test['is_race'] == 1]"
   ]
  },
  {
   "cell_type": "code",
   "execution_count": 83,
   "metadata": {},
   "outputs": [],
   "source": [
    "def analyze_file(filepath, sport, athlete_id): #Athlete id is a number no need to pass it the string:\n",
    "    '''\n",
    "    This function takes in a file, converts all the columns to numeric and date that we need,\n",
    "    creates a speed column for running that converts pace to speed in ft/s, and prepares the \n",
    "    columns for the fit function that will later be used to predict the running pace. It will \n",
    "    create and output all the graphs we have here, for each of the races in the filepath.\n",
    "    '''\n",
    "    #Read in the dataframe:\n",
    "    raw = pd.read_csv(filepath)\n",
    "    sport = sport\n",
    "    athlete_max_hr = athletes[str(athlete_id)]['max_hr']\n",
    "    #Filter down just to the sport:\n",
    "    df = raw[raw['activity_type'] == sport]\n",
    "    \n",
    "    \n",
    "    #Setting average pace to a timedelta, we use a try in case the data does not have avg_pace column:\n",
    "    try:\n",
    "        df['avg_pace'] = pd.to_timedelta(df['avg_pace'])\n",
    "    except:\n",
    "        print(\"No avg_pace column!\")\n",
    "    \n",
    "    try:\n",
    "        df['distance'] = pd.to_numeric(df['distance'])\n",
    "    except:\n",
    "        print(f\"Check athlete #{athlete_id} at filepath ###{filepath}###\")\n",
    "    \n",
    "    try:\n",
    "        df['elev_gain'] = pd.to_numeric(df['elev_gain'].str.replace(',', ''))\n",
    "    except:\n",
    "        try:\n",
    "            df['elev_gain'] = pd.to_numeric(df['elev_gain'])\n",
    "        except:\n",
    "            print(f\"Check athlete #{athlete_id} at filepath ###{filepath}###\")\n",
    "    \n",
    "    #Create ft/mile column and intensity for analysis:\n",
    "    df['ft_per_mile'] = (df['elev_gain']/df['distance'])\n",
    "    df['intensity'] = df['avg_hr']/athlete_max_hr\n",
    "    \n",
    "    \n",
    "    \n",
    "    #Do the same for calculating speed in ft/s\n",
    "    df['spd_ft_s'] = 0.0\n",
    "    df['spd_mph'] = 0.0\n",
    "    df.reset_index(inplace=True)\n",
    "    \n",
    "    for i in range(len(df['avg_pace'])):\n",
    "        #.total_seconds returns the total seconds in a timedelta object.\n",
    "        df['spd_mph'][i] = float(60/(df['avg_pace'][i].total_seconds()/60.0))\n",
    "        #takes the speed in miles per hour and converts down to ft/s\n",
    "        df['spd_ft_s'][i] = float(60.0/(df['avg_pace'][i].total_seconds()/60.0))*float(5280.0/3600.0)\n",
    "        \n",
    "    #The default is to be equal to the speed not taking into account elevation gain.\n",
    "    df['GAP_ft_s'] = df['spd_ft_s']\n",
    "    \n",
    "    #Now we try to make a GAP column:\n",
    "    for i in range(len(df)):\n",
    "        #Try to make a GAP column:\n",
    "        try:\n",
    "            #using trig to calculate the change to the pace:\n",
    "            factor = (np.sqrt((df['distance'][i]*5280)**2+df['elev_gain'][i]**2)/(df['distance'][i]*5280))\n",
    "            df['GAP_ft_s'][i] = factor*df['spd_ft_s'][i]\n",
    "        except:\n",
    "            print(\"No GAP_ft_s was able to be calculated. Data is equal to spd_ft_s.\")\n",
    "        \n",
    "    #Why divide by intensity? This brings average run pace up to the speed that we would expect if the athlete was at their highest average\n",
    "    #sustainable heartrate for this speed. \n",
    "    df['GAP_by_intensity']  = df['GAP_ft_s']/df['intensity']\n",
    "    \n",
    "    #This creates a finalized dataframe with all of the columns I need for creating the pace curves.\n",
    "    df.to_csv(filepath[:-4]+'_'+sport+'_extra_cols.csv')"
   ]
  },
  {
   "cell_type": "code",
   "execution_count": 41,
   "metadata": {},
   "outputs": [],
   "source": [
    "analyze_file(test_str, 'Running', 0)"
   ]
  },
  {
   "cell_type": "code",
   "execution_count": null,
   "metadata": {},
   "outputs": [],
   "source": [
    "#Will need to use this code for per-week fits:\n",
    "#Log(sqrt(x)) appears to be a decent approximation of the curve. Means basically with the square of distance the pace decreases logarithmically.\n",
    "    m, b = np.polyfit(np.log(df[df['is_race'] == 0]['distance']**0.5), (df[df['is_race'] == 0]['GAP_by_intensity']), 1)\n",
    "    #Other fit we can maybe use is a linear fit on the square root of x:\n",
    "    z, c = np.polyfit((df[df['is_race'] == 0]['distance']**(.5)), (df[df['is_race'] == 0]['GAP_by_intensity']), 1)"
   ]
  },
  {
   "cell_type": "code",
   "execution_count": 1,
   "metadata": {},
   "outputs": [],
   "source": [
    "test_str = './data/races/athlete_0/athlete_0_race_0_1_mo.csv'"
   ]
  },
  {
   "cell_type": "code",
   "execution_count": 2,
   "metadata": {},
   "outputs": [
    {
     "data": {
      "text/plain": [
       "'./data/races/athlete_0/athlete_0_race_0_1_mo'"
      ]
     },
     "execution_count": 2,
     "metadata": {},
     "output_type": "execute_result"
    }
   ],
   "source": [
    "test_str[:-4]"
   ]
  },
  {
   "cell_type": "code",
   "execution_count": 36,
   "metadata": {},
   "outputs": [
    {
     "data": {
      "text/plain": [
       "'c'"
      ]
     },
     "execution_count": 36,
     "metadata": {},
     "output_type": "execute_result"
    }
   ],
   "source": [
    "test_str[9]"
   ]
  },
  {
   "cell_type": "code",
   "execution_count": 80,
   "metadata": {},
   "outputs": [],
   "source": [
    "athlete_9_filepaths = (glob.glob('./data/races/athlete_9/*'))"
   ]
  },
  {
   "cell_type": "code",
   "execution_count": 81,
   "metadata": {
    "collapsed": true,
    "jupyter": {
     "outputs_hidden": true
    }
   },
   "outputs": [
    {
     "data": {
      "text/plain": [
       "['./data/races/athlete_9/athlete_9_race_20_1_mo.csv',\n",
       " './data/races/athlete_9/athlete_9_race_7_1_mo.csv',\n",
       " './data/races/athlete_9/athlete_9_race_6_1_mo.csv',\n",
       " './data/races/athlete_9/athlete_9_race_15_1_mo.csv',\n",
       " './data/races/athlete_9/athlete_9_race_14_1_mo.csv',\n",
       " './data/races/athlete_9/athlete_9_race_7_3_mo.csv',\n",
       " './data/races/athlete_9/athlete_9_race_6_3_mo.csv',\n",
       " './data/races/athlete_9/athlete_9_race_15_3_mo.csv',\n",
       " './data/races/athlete_9/athlete_9_race_14_3_mo.csv',\n",
       " './data/races/athlete_9/athlete_9_race_20_3_mo.csv',\n",
       " './data/races/athlete_9/athlete_9_race_0_3_mo.csv',\n",
       " './data/races/athlete_9/athlete_9_race_1_3_mo.csv',\n",
       " './data/races/athlete_9/athlete_9_race_12_3_mo.csv',\n",
       " './data/races/athlete_9/athlete_9_race_13_3_mo.csv',\n",
       " './data/races/athlete_9/athlete_9_race_18_3_mo.csv',\n",
       " './data/races/athlete_9/athlete_9_race_19_3_mo.csv',\n",
       " './data/races/athlete_9/athlete_9_race_18_1_mo.csv',\n",
       " './data/races/athlete_9/athlete_9_race_19_1_mo.csv',\n",
       " './data/races/athlete_9/athlete_9_race_0_1_mo.csv',\n",
       " './data/races/athlete_9/athlete_9_race_1_1_mo.csv',\n",
       " './data/races/athlete_9/athlete_9_race_12_1_mo.csv',\n",
       " './data/races/athlete_9/athlete_9_race_13_1_mo.csv',\n",
       " './data/races/athlete_9/athlete_9_race_4_3_mo.csv',\n",
       " './data/races/athlete_9/athlete_9_race_5_3_mo.csv',\n",
       " './data/races/athlete_9/athlete_9_race_16_3_mo.csv',\n",
       " './data/races/athlete_9/athlete_9_race_17_3_mo.csv',\n",
       " './data/races/athlete_9/athlete_9_race_4_1_mo.csv',\n",
       " './data/races/athlete_9/athlete_9_race_5_1_mo.csv',\n",
       " './data/races/athlete_9/athlete_9_race_16_1_mo.csv',\n",
       " './data/races/athlete_9/athlete_9_race_17_1_mo.csv',\n",
       " './data/races/athlete_9/athlete_9_race_3_1_mo.csv',\n",
       " './data/races/athlete_9/athlete_9_race_2_1_mo.csv',\n",
       " './data/races/athlete_9/athlete_9_race_11_1_mo.csv',\n",
       " './data/races/athlete_9/athlete_9_race_10_1_mo.csv',\n",
       " './data/races/athlete_9/athlete_9_race_9_1_mo.csv',\n",
       " './data/races/athlete_9/athlete_9_race_8_1_mo.csv',\n",
       " './data/races/athlete_9/athlete_9_race_9_3_mo.csv',\n",
       " './data/races/athlete_9/athlete_9_race_8_3_mo.csv',\n",
       " './data/races/athlete_9/athlete_9_race_3_3_mo.csv',\n",
       " './data/races/athlete_9/athlete_9_race_2_3_mo.csv',\n",
       " './data/races/athlete_9/athlete_9_race_11_3_mo.csv',\n",
       " './data/races/athlete_9/athlete_9_race_10_3_mo.csv']"
      ]
     },
     "execution_count": 81,
     "metadata": {},
     "output_type": "execute_result"
    }
   ],
   "source": [
    "athlete_9_filepaths"
   ]
  },
  {
   "cell_type": "code",
   "execution_count": 88,
   "metadata": {},
   "outputs": [],
   "source": [
    "for filepath in athlete_9_filepaths:\n",
    "    analyze_file(filepath, 'Running', 9)"
   ]
  },
  {
   "cell_type": "code",
   "execution_count": 93,
   "metadata": {},
   "outputs": [
    {
     "name": "stdout",
     "output_type": "stream",
     "text": [
      "Check athlete #1 at filepath ###./data/races/athlete_1/athlete_1_race_0_1_mo.csv###\n",
      "Check athlete #1 at filepath ###./data/races/athlete_1/athlete_1_race_0_3_mo.csv###\n",
      "Check athlete #4 at filepath ###./data/races/athlete_4/athlete_4_race_2_1_mo.csv###\n",
      "Check athlete #4 at filepath ###./data/races/athlete_4/athlete_4_race_3_1_mo.csv###\n",
      "File at ./data/races/athlete_4/athlete_4_race_2_3_mo.csv was not processed.\n",
      "Check athlete #4 at filepath ###./data/races/athlete_4/athlete_4_race_4_1_mo.csv###\n",
      "File at ./data/races/athlete_4/athlete_4_race_1_3_mo.csv was not processed.\n",
      "Check athlete #4 at filepath ###./data/races/athlete_4/athlete_4_race_1_1_mo.csv###\n",
      "File at ./data/races/athlete_4/athlete_4_race_1_1_mo.csv was not processed.\n",
      "Check athlete #5 at filepath ###./data/races/athlete_5/athlete_5_race_5_1_mo.csv###\n",
      "Check athlete #5 at filepath ###./data/races/athlete_5/athlete_5_race_4_1_mo.csv###\n",
      "Check athlete #5 at filepath ###./data/races/athlete_5/athlete_5_race_5_3_mo.csv###\n",
      "File at ./data/races/athlete_5/athlete_5_race_5_3_mo.csv was not processed.\n",
      "Check athlete #5 at filepath ###./data/races/athlete_5/athlete_5_race_4_3_mo.csv###\n",
      "Check athlete #5 at filepath ###./data/races/athlete_5/athlete_5_race_2_3_mo.csv###\n",
      "File at ./data/races/athlete_5/athlete_5_race_2_3_mo.csv was not processed.\n",
      "Check athlete #5 at filepath ###./data/races/athlete_5/athlete_5_race_3_3_mo.csv###\n",
      "Check athlete #5 at filepath ###./data/races/athlete_5/athlete_5_race_2_1_mo.csv###\n",
      "File at ./data/races/athlete_5/athlete_5_race_2_1_mo.csv was not processed.\n",
      "Check athlete #5 at filepath ###./data/races/athlete_5/athlete_5_race_3_1_mo.csv###\n",
      "Check athlete #5 at filepath ###./data/races/athlete_5/athlete_5_race_6_3_mo.csv###\n",
      "Check athlete #5 at filepath ###./data/races/athlete_5/athlete_5_race_7_3_mo.csv###\n",
      "Check athlete #5 at filepath ###./data/races/athlete_5/athlete_5_race_6_1_mo.csv###\n",
      "Check athlete #5 at filepath ###./data/races/athlete_5/athlete_5_race_7_1_mo.csv###\n",
      "Check athlete #5 at filepath ###./data/races/athlete_5/athlete_5_race_1_1_mo.csv###\n",
      "File at ./data/races/athlete_5/athlete_5_race_1_1_mo.csv was not processed.\n",
      "Check athlete #5 at filepath ###./data/races/athlete_5/athlete_5_race_0_1_mo.csv###\n",
      "Check athlete #5 at filepath ###./data/races/athlete_5/athlete_5_race_1_3_mo.csv###\n",
      "File at ./data/races/athlete_5/athlete_5_race_1_3_mo.csv was not processed.\n",
      "Check athlete #5 at filepath ###./data/races/athlete_5/athlete_5_race_0_3_mo.csv###\n",
      "Check athlete #6 at filepath ###./data/races/athlete_6/athlete_6_race_0_3_mo.csv###\n",
      "Check athlete #6 at filepath ###./data/races/athlete_6/athlete_6_race_0_1_mo.csv###\n",
      "Check athlete #7 at filepath ###./data/races/athlete_7/athlete_7_race_0_1_mo.csv###\n",
      "Check athlete #10 at filepath ###./data/races/athlete_10/athlete_10_race_1_1_mo.csv###\n",
      "Check athlete #10 at filepath ###./data/races/athlete_10/athlete_10_race_0_1_mo.csv###\n",
      "Check athlete #10 at filepath ###./data/races/athlete_10/athlete_10_race_1_3_mo.csv###\n",
      "Check athlete #10 at filepath ###./data/races/athlete_10/athlete_10_race_0_3_mo.csv###\n",
      "Check athlete #10 at filepath ###./data/races/athlete_10/athlete_10_race_2_3_mo.csv###\n",
      "Check athlete #10 at filepath ###./data/races/athlete_10/athlete_10_race_2_1_mo.csv###\n",
      "Check athlete #11 at filepath ###./data/races/athlete_11/athlete_11_race_0_3_mo.csv###\n",
      "Check athlete #11 at filepath ###./data/races/athlete_11/athlete_11_race_0_1_mo.csv###\n"
     ]
    }
   ],
   "source": [
    "\n",
    "for i in range(13):\n",
    "    filepaths = glob.glob(f'./data/races/athlete_{i}/*')\n",
    "    for filepath in filepaths:\n",
    "        try:\n",
    "            analyze_file(filepath, 'Running', i)\n",
    "        except:\n",
    "            print(\"File at \"+filepath+\" was not processed.\")"
   ]
  },
  {
   "cell_type": "code",
   "execution_count": 94,
   "metadata": {},
   "outputs": [],
   "source": [
    "test = pd.read_csv('./data/races/athlete_0/athlete_0_race_0_1_mo_Running_extra_cols.csv')"
   ]
  },
  {
   "cell_type": "code",
   "execution_count": 95,
   "metadata": {},
   "outputs": [
    {
     "name": "stdout",
     "output_type": "stream",
     "text": [
      "<class 'pandas.core.frame.DataFrame'>\n",
      "RangeIndex: 29 entries, 0 to 28\n",
      "Data columns (total 40 columns):\n",
      " #   Column                    Non-Null Count  Dtype  \n",
      "---  ------                    --------------  -----  \n",
      " 0   Unnamed: 0                29 non-null     int64  \n",
      " 1   index                     29 non-null     int64  \n",
      " 2   date                      29 non-null     object \n",
      " 3   activity_type             29 non-null     object \n",
      " 4   favorite                  29 non-null     bool   \n",
      " 5   title                     29 non-null     object \n",
      " 6   distance                  29 non-null     float64\n",
      " 7   calories                  29 non-null     object \n",
      " 8   time                      29 non-null     object \n",
      " 9   avg_hr                    29 non-null     int64  \n",
      " 10  max_hr                    29 non-null     int64  \n",
      " 11  avg_run_cadence           29 non-null     int64  \n",
      " 12  max_run_cadence           29 non-null     int64  \n",
      " 13  avg_pace                  29 non-null     object \n",
      " 14  best_pace                 29 non-null     object \n",
      " 15  elev_gain                 29 non-null     int64  \n",
      " 16  elev_loss                 29 non-null     object \n",
      " 17  avg_stride_length         29 non-null     float64\n",
      " 18  avg_vertical_ratio        29 non-null     float64\n",
      " 19  avg_vertical_oscillation  29 non-null     float64\n",
      " 20  training_stress_scoreâ    29 non-null     float64\n",
      " 21  grit                      29 non-null     float64\n",
      " 22  flow                      29 non-null     float64\n",
      " 23  climb_time                29 non-null     object \n",
      " 24  bottom_time               29 non-null     object \n",
      " 25  min_temp                  29 non-null     float64\n",
      " 26  surface_interval          29 non-null     object \n",
      " 27  decompression             29 non-null     object \n",
      " 28  best_lap_time             29 non-null     object \n",
      " 29  number_of_laps            29 non-null     int64  \n",
      " 30  max_temp                  29 non-null     float64\n",
      " 31  athlete_id                29 non-null     int64  \n",
      " 32  filetype                  29 non-null     object \n",
      " 33  is_race                   29 non-null     int64  \n",
      " 34  ft_per_mile               29 non-null     float64\n",
      " 35  intensity                 29 non-null     float64\n",
      " 36  spd_ft_s                  29 non-null     float64\n",
      " 37  spd_mph                   29 non-null     float64\n",
      " 38  GAP_ft_s                  29 non-null     float64\n",
      " 39  GAP_by_intensity          29 non-null     float64\n",
      "dtypes: bool(1), float64(15), int64(10), object(14)\n",
      "memory usage: 9.0+ KB\n"
     ]
    }
   ],
   "source": [
    "test.info()"
   ]
  },
  {
   "cell_type": "code",
   "execution_count": 1,
   "metadata": {},
   "outputs": [],
   "source": [
    "#Summary Statistics for athletes:"
   ]
  },
  {
   "cell_type": "code",
   "execution_count": null,
   "metadata": {},
   "outputs": [],
   "source": []
  }
 ],
 "metadata": {
  "kernelspec": {
   "display_name": "Python 3",
   "language": "python",
   "name": "python3"
  },
  "language_info": {
   "codemirror_mode": {
    "name": "ipython",
    "version": 3
   },
   "file_extension": ".py",
   "mimetype": "text/x-python",
   "name": "python",
   "nbconvert_exporter": "python",
   "pygments_lexer": "ipython3",
   "version": "3.8.8"
  }
 },
 "nbformat": 4,
 "nbformat_minor": 4
}
