{
 "cells": [
  {
   "cell_type": "code",
   "execution_count": 1,
   "id": "billion-fusion",
   "metadata": {},
   "outputs": [],
   "source": [
    "#Let's read in some athletes, check their races, and see if a fit model on their first race\n",
    "#can be used to predict future races."
   ]
  },
  {
   "cell_type": "code",
   "execution_count": 3,
   "id": "governmental-transfer",
   "metadata": {},
   "outputs": [],
   "source": [
    "#Imports borrowed from pymc3_modeling.ipynb\n",
    "%matplotlib inline\n",
    "import matplotlib.pyplot as plt\n",
    "import numpy as np\n",
    "import sympy as sy\n",
    "from scipy.integrate import odeint\n",
    "size = (12, 9)\n",
    "\n",
    "import json\n",
    "import datetime as dt\n",
    "\n",
    "import re\n",
    "import os\n",
    "import glob\n",
    "\n",
    "import arviz as az\n",
    "import theano\n",
    "import theano.tensor as tt\n",
    "import statsmodels.api as sm\n",
    "import pymc3 as pm\n",
    "import pandas as pd\n",
    "import warnings\n",
    "warnings.filterwarnings(\"ignore\")\n",
    "from pandas.plotting import register_matplotlib_converters\n",
    "plt.style.use('seaborn')\n",
    "register_matplotlib_converters()"
   ]
  },
  {
   "cell_type": "code",
   "execution_count": 4,
   "id": "joint-output",
   "metadata": {},
   "outputs": [],
   "source": [
    "#Read in the athlete dictionary:\n",
    "with open(\"./data/athletes.json\") as json_file: \n",
    "    athletes = json.load(json_file)"
   ]
  },
  {
   "cell_type": "code",
   "execution_count": 6,
   "id": "modified-heating",
   "metadata": {},
   "outputs": [],
   "source": [
    "def analyze_file(filepath, sport, athlete_id): #Athlete id is a number no need to pass it the string:\n",
    "    '''\n",
    "    This function takes in a file, converts all the columns to numeric and date that we need,\n",
    "    creates a speed column for running that converts pace to speed in ft/s, and prepares the \n",
    "    columns for the fit function that will later be used to predict the running pace. It will \n",
    "    create and output all the graphs we have here, for each of the races in the filepath.\n",
    "    '''\n",
    "    #Read in the dataframe:\n",
    "    raw = pd.read_csv(filepath)\n",
    "    sport = sport\n",
    "    athlete_max_hr = athletes[str(athlete_id)]['max_hr']\n",
    "    #Filter down just to the sport:\n",
    "    df = raw[raw['activity_type'] == sport]\n",
    "    \n",
    "    \n",
    "    #Setting average pace to a timedelta, we use a try in case the data does not have avg_pace column:\n",
    "    try:\n",
    "        df['avg_pace'] = pd.to_timedelta(df['avg_pace'])\n",
    "    except:\n",
    "        print(\"No avg_pace column!\")\n",
    "    \n",
    "    try:\n",
    "        df['distance'] = pd.to_numeric(df['distance'])\n",
    "    except:\n",
    "        print(f\"Check athlete #{athlete_id} at filepath ###{filepath}###\")\n",
    "    \n",
    "    try:\n",
    "        df['elev_gain'] = pd.to_numeric(df['elev_gain'].str.replace(',', ''))\n",
    "    except:\n",
    "        try:\n",
    "            df['elev_gain'] = pd.to_numeric(df['elev_gain'])\n",
    "        except:\n",
    "            print(f\"Check athlete #{athlete_id} at filepath ###{filepath}###\")\n",
    "    \n",
    "    #Create ft/mile column and intensity for analysis:\n",
    "    df['ft_per_mile'] = (df['elev_gain']/df['distance'])\n",
    "    df['intensity'] = df['avg_hr']/athlete_max_hr\n",
    "    \n",
    "    \n",
    "    \n",
    "    #Do the same for calculating speed in ft/s\n",
    "    df['spd_ft_s'] = 0.0\n",
    "    df['spd_mph'] = 0.0\n",
    "    df.reset_index(inplace=True)\n",
    "    \n",
    "    for i in range(len(df['avg_pace'])):\n",
    "        #.total_seconds returns the total seconds in a timedelta object.\n",
    "        df['spd_mph'][i] = float(60/(df['avg_pace'][i].total_seconds()/60.0))\n",
    "        #takes the speed in miles per hour and converts down to ft/s\n",
    "        df['spd_ft_s'][i] = float(60.0/(df['avg_pace'][i].total_seconds()/60.0))*float(5280.0/3600.0)\n",
    "        \n",
    "    #The default is to be equal to the speed not taking into account elevation gain.\n",
    "    df['GAP_ft_s'] = df['spd_ft_s']\n",
    "    \n",
    "    #Now we try to make a GAP column:\n",
    "    for i in range(len(df)):\n",
    "        #Try to make a GAP column:\n",
    "        try:\n",
    "            #using trig to calculate the change to the pace:\n",
    "            factor = (np.sqrt((df['distance'][i]*5280)**2+df['elev_gain'][i]**2)/(df['distance'][i]*5280))\n",
    "            df['GAP_ft_s'][i] = factor*df['spd_ft_s'][i]\n",
    "        except:\n",
    "            print(\"No GAP_ft_s was able to be calculated. Data is equal to spd_ft_s.\")\n",
    "        \n",
    "    #Why divide by intensity? This brings average run pace up to the speed that we would expect if the athlete was at their highest average\n",
    "    #sustainable heartrate for this speed. \n",
    "    df['GAP_by_intensity']  = df['GAP_ft_s']/df['intensity']\n",
    "    \n",
    "    #This creates a finalized dataframe with all of the columns I need for creating the pace curves.\n",
    "    df.to_csv(filepath[:-4]+'_'+sport+'_extra_cols.csv')"
   ]
  },
  {
   "cell_type": "code",
   "execution_count": 7,
   "id": "indonesian-candidate",
   "metadata": {},
   "outputs": [],
   "source": [
    "files_to_convert = glob.glob('./data/clean/garmin_clean/*')"
   ]
  },
  {
   "cell_type": "code",
   "execution_count": 8,
   "id": "fifth-college",
   "metadata": {},
   "outputs": [
    {
     "data": {
      "text/plain": [
       "['./data/clean/garmin_clean/clean_6.csv',\n",
       " './data/clean/garmin_clean/clean_7.csv',\n",
       " './data/clean/garmin_clean/clean_5.csv',\n",
       " './data/clean/garmin_clean/clean_4.csv',\n",
       " './data/clean/garmin_clean/clean_0.csv',\n",
       " './data/clean/garmin_clean/clean_1.csv',\n",
       " './data/clean/garmin_clean/clean_3.csv',\n",
       " './data/clean/garmin_clean/clean_2.csv',\n",
       " './data/clean/garmin_clean/clean_12.csv',\n",
       " './data/clean/garmin_clean/clean_11.csv',\n",
       " './data/clean/garmin_clean/clean_10.csv',\n",
       " './data/clean/garmin_clean/clean_3_Running_extra_cols.csv',\n",
       " './data/clean/garmin_clean/clean_9.csv',\n",
       " './data/clean/garmin_clean/clean_8.csv']"
      ]
     },
     "execution_count": 8,
     "metadata": {},
     "output_type": "execute_result"
    }
   ],
   "source": [
    "files_to_convert"
   ]
  },
  {
   "cell_type": "code",
   "execution_count": 25,
   "id": "bizarre-christian",
   "metadata": {},
   "outputs": [
    {
     "name": "stdout",
     "output_type": "stream",
     "text": [
      "6\n",
      "0\n",
      "No match for ./data/clean/garmin_clean/clean_6.csv\n",
      "7\n",
      "0\n",
      "No match for ./data/clean/garmin_clean/clean_7.csv\n",
      "5\n",
      "0\n",
      "No match for ./data/clean/garmin_clean/clean_5.csv\n",
      "4\n",
      "0\n",
      "No match for ./data/clean/garmin_clean/clean_4.csv\n",
      "0\n",
      "0\n",
      "No match for ./data/clean/garmin_clean/clean_0.csv\n",
      "1\n",
      "0\n",
      "No match for ./data/clean/garmin_clean/clean_1.csv\n",
      "3\n",
      "0\n",
      "No match for ./data/clean/garmin_clean/clean_3.csv\n",
      "2\n",
      "0\n",
      "No match for ./data/clean/garmin_clean/clean_2.csv\n",
      "12\n",
      "0\n",
      "11\n",
      "0\n",
      "10\n",
      "0\n"
     ]
    },
    {
     "ename": "ValueError",
     "evalue": "invalid literal for int() with base 10: '3_'",
     "output_type": "error",
     "traceback": [
      "\u001b[0;31m---------------------------------------------------------------------------\u001b[0m",
      "\u001b[0;31mValueError\u001b[0m                                Traceback (most recent call last)",
      "\u001b[0;32m<ipython-input-25-092dc4b2b144>\u001b[0m in \u001b[0;36m<module>\u001b[0;34m\u001b[0m\n\u001b[1;32m      4\u001b[0m     \u001b[0mfilepath\u001b[0m \u001b[0;34m=\u001b[0m \u001b[0;34m''\u001b[0m\u001b[0;34m\u001b[0m\u001b[0;34m\u001b[0m\u001b[0m\n\u001b[1;32m      5\u001b[0m     \u001b[0;32mfor\u001b[0m \u001b[0mj\u001b[0m \u001b[0;32min\u001b[0m \u001b[0mrange\u001b[0m\u001b[0;34m(\u001b[0m\u001b[0mlen\u001b[0m\u001b[0;34m(\u001b[0m\u001b[0mfiles_to_convert\u001b[0m\u001b[0;34m)\u001b[0m\u001b[0;34m)\u001b[0m\u001b[0;34m:\u001b[0m\u001b[0;34m\u001b[0m\u001b[0;34m\u001b[0m\u001b[0m\n\u001b[0;32m----> 6\u001b[0;31m         \u001b[0mprint\u001b[0m\u001b[0;34m(\u001b[0m\u001b[0mint\u001b[0m\u001b[0;34m(\u001b[0m\u001b[0mfiles_to_convert\u001b[0m\u001b[0;34m[\u001b[0m\u001b[0mj\u001b[0m\u001b[0;34m]\u001b[0m\u001b[0;34m[\u001b[0m\u001b[0;36m32\u001b[0m\u001b[0;34m:\u001b[0m\u001b[0;34m]\u001b[0m\u001b[0;34m[\u001b[0m\u001b[0;34m:\u001b[0m\u001b[0;36m2\u001b[0m\u001b[0;34m]\u001b[0m\u001b[0;34m.\u001b[0m\u001b[0mreplace\u001b[0m\u001b[0;34m(\u001b[0m\u001b[0;34m'.'\u001b[0m\u001b[0;34m,\u001b[0m \u001b[0;34m''\u001b[0m\u001b[0;34m)\u001b[0m\u001b[0;34m)\u001b[0m\u001b[0;34m)\u001b[0m\u001b[0;34m\u001b[0m\u001b[0;34m\u001b[0m\u001b[0m\n\u001b[0m\u001b[1;32m      7\u001b[0m         \u001b[0mprint\u001b[0m\u001b[0;34m(\u001b[0m\u001b[0mi\u001b[0m\u001b[0;34m)\u001b[0m\u001b[0;34m\u001b[0m\u001b[0;34m\u001b[0m\u001b[0m\n\u001b[1;32m      8\u001b[0m         \u001b[0;32mtry\u001b[0m\u001b[0;34m:\u001b[0m\u001b[0;34m\u001b[0m\u001b[0;34m\u001b[0m\u001b[0m\n",
      "\u001b[0;31mValueError\u001b[0m: invalid literal for int() with base 10: '3_'"
     ]
    }
   ],
   "source": [
    "output_list = []\n",
    "for i in range(len(files_to_convert)):\n",
    "    athlete = i\n",
    "    filepath = ''\n",
    "    for j in range(len(files_to_convert)):\n",
    "        print(int(files_to_convert[j][32:][:2].replace('.', '')))\n",
    "        print(i)\n",
    "        try:\n",
    "            if int(files_to_convert[j][32:][:2]) == i:\n",
    "                print(f\"Matched athlete {i} to filepath {files_to_convert[j]}\")\n",
    "                filepath = files_to_convert[j]\n",
    "            output_list.append((str(i), (filepath)))   \n",
    "        except:\n",
    "            print(f'No match for {files_to_convert[j]}')\n",
    "output_list"
   ]
  },
  {
   "cell_type": "code",
   "execution_count": null,
   "id": "animated-bhutan",
   "metadata": {},
   "outputs": [],
   "source": []
  }
 ],
 "metadata": {
  "kernelspec": {
   "display_name": "Python 3",
   "language": "python",
   "name": "python3"
  },
  "language_info": {
   "codemirror_mode": {
    "name": "ipython",
    "version": 3
   },
   "file_extension": ".py",
   "mimetype": "text/x-python",
   "name": "python",
   "nbconvert_exporter": "python",
   "pygments_lexer": "ipython3",
   "version": "3.8.8"
  }
 },
 "nbformat": 4,
 "nbformat_minor": 5
}
