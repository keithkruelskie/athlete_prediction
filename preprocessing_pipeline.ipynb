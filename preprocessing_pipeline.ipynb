{
 "cells": [
  {
   "cell_type": "code",
   "execution_count": 1,
   "metadata": {},
   "outputs": [],
   "source": [
    "#PreProcessing Pipeline\n",
    "#Goal of this Notebook is to take all of the athletes in the race dictionary, and process all of their raw data files to make time series files for 1 month and 3 month histories."
   ]
  },
  {
   "cell_type": "code",
   "execution_count": 1,
   "metadata": {},
   "outputs": [],
   "source": [
    "import pandas_read_xml as pdx\n",
    "import pandas as pd\n",
    "import numpy as np\n",
    "from datetime import datetime, timedelta\n",
    "import json\n",
    "import re\n",
    "import os\n",
    "import glob\n",
    "import ast"
   ]
  },
  {
   "cell_type": "code",
   "execution_count": 2,
   "metadata": {},
   "outputs": [],
   "source": [
    "import warnings\n",
    "warnings.filterwarnings(\"ignore\")"
   ]
  },
  {
   "cell_type": "markdown",
   "metadata": {},
   "source": [
    "### Garmin preprocessing:"
   ]
  },
  {
   "cell_type": "code",
   "execution_count": 3,
   "metadata": {},
   "outputs": [],
   "source": [
    "#Returns all the filepaths as a list:\n",
    "filepaths = (glob.glob('./data/raw/Garmin/*'))"
   ]
  },
  {
   "cell_type": "code",
   "execution_count": 7,
   "metadata": {},
   "outputs": [
    {
     "data": {
      "text/plain": [
       "['./data/raw/Garmin/02_eric_bayless_updated.csv',\n",
       " './data/raw/Garmin/09_Riggs Activities r4 w favorites.csv',\n",
       " './data/raw/Garmin/04_BrianGetz_Activities.csv',\n",
       " './data/raw/Garmin/03_Keith_Activities_2018-Present.csv',\n",
       " './data/raw/Garmin/01_ActivitiesBKK2.csv',\n",
       " './data/raw/Garmin/00_Activities_Anel_Akiyanova.csv',\n",
       " './data/raw/Garmin/10_Taryn-AllActivities.xlsx',\n",
       " './data/raw/Garmin/12_JRM races 8-15-20 and 7-11-20.csv',\n",
       " './data/raw/Garmin/08_Nate_Churchwell.csv',\n",
       " './data/raw/Garmin/11_v_brad_run_data.numbers',\n",
       " './data/raw/Garmin/05_WMRunning.csv',\n",
       " './data/raw/Garmin/07_Lars - Garmin.csv',\n",
       " './data/raw/Garmin/06_jen-all-activities.csv']"
      ]
     },
     "execution_count": 7,
     "metadata": {},
     "output_type": "execute_result"
    }
   ],
   "source": [
    "filepaths"
   ]
  },
  {
   "cell_type": "code",
   "execution_count": 13,
   "metadata": {},
   "outputs": [
    {
     "data": {
      "text/plain": [
       "'./data/raw/Garmin/02_eric_bayless_updated.csv'"
      ]
     },
     "execution_count": 13,
     "metadata": {},
     "output_type": "execute_result"
    }
   ],
   "source": [
    "filepaths[0]"
   ]
  },
  {
   "cell_type": "code",
   "execution_count": 20,
   "metadata": {},
   "outputs": [
    {
     "data": {
      "text/plain": [
       "2"
      ]
     },
     "execution_count": 20,
     "metadata": {},
     "output_type": "execute_result"
    }
   ],
   "source": [
    "int(filepaths[0][18:][:2])"
   ]
  },
  {
   "cell_type": "code",
   "execution_count": 8,
   "metadata": {},
   "outputs": [],
   "source": [
    "#Read in the athletes.json athlete dictionary:"
   ]
  },
  {
   "cell_type": "code",
   "execution_count": 9,
   "metadata": {},
   "outputs": [],
   "source": [
    "with open(\"./data/athletes.json\") as json_file: \n",
    "    athletes = json.load(json_file)"
   ]
  },
  {
   "cell_type": "code",
   "execution_count": 10,
   "metadata": {},
   "outputs": [
    {
     "data": {
      "text/plain": [
       "['2017-01-15', '2016-09-18', '2019-06-02']"
      ]
     },
     "execution_count": 10,
     "metadata": {},
     "output_type": "execute_result"
    }
   ],
   "source": [
    "#Turns a string from a json into its literal evaluation, in this case, a list:\n",
    "ast.literal_eval(athletes[\"1\"]['race_date_list'])"
   ]
  },
  {
   "cell_type": "code",
   "execution_count": 27,
   "metadata": {},
   "outputs": [
    {
     "data": {
      "text/plain": [
       "13"
      ]
     },
     "execution_count": 27,
     "metadata": {},
     "output_type": "execute_result"
    }
   ],
   "source": [
    "len(athletes)"
   ]
  },
  {
   "cell_type": "code",
   "execution_count": 11,
   "metadata": {},
   "outputs": [],
   "source": [
    "#create a list of the races:\n",
    "list_of_races = [ast.literal_eval(athletes[str(i)]['race_date_list']) for i in range(len(athletes))]"
   ]
  },
  {
   "cell_type": "code",
   "execution_count": 12,
   "metadata": {},
   "outputs": [
    {
     "data": {
      "text/plain": [
       "[['2020-05-09'],\n",
       " ['2017-01-15', '2016-09-18', '2019-06-02'],\n",
       " ['2020-02-22',\n",
       "  '2019-07-20',\n",
       "  '2019-04-13',\n",
       "  '2019-04-13',\n",
       "  '2019-04-13',\n",
       "  '2018-11-24',\n",
       "  '2018-10-07',\n",
       "  '2018-07-29'],\n",
       " ['2018-05-05',\n",
       "  '2018-06-10',\n",
       "  '2018-09-02',\n",
       "  '2019-10-13',\n",
       "  '2019-07-27',\n",
       "  '2019-06-09'],\n",
       " ['2018-09-15', '2019-05-28', '2019-07-13', '2019-09-14', '2020-02-01'],\n",
       " ['2018-10-27',\n",
       "  '2018-11-22',\n",
       "  '2018-12-09',\n",
       "  '2019-03-03',\n",
       "  '2019-09-01',\n",
       "  '2019-10-26',\n",
       "  '2019-12-15',\n",
       "  '2020-02-09'],\n",
       " ['2020-10-05'],\n",
       " ['2020-10-17'],\n",
       " ['2020-05-09', '2020-05-17', '2020-06-14'],\n",
       " ['2016-04-12',\n",
       "  '2016-07-17',\n",
       "  '2016-09-25',\n",
       "  '2016-09-25',\n",
       "  '2016-12-03',\n",
       "  '2016-12-17',\n",
       "  '2017-01-07',\n",
       "  '2017-01-28',\n",
       "  '2017-04-09',\n",
       "  '2017-04-09',\n",
       "  '2017-04-22',\n",
       "  '2017-04-22',\n",
       "  '2017-04-22',\n",
       "  '2017-11-11',\n",
       "  '2017-12-02',\n",
       "  '2017-12-16',\n",
       "  '2018-03-24',\n",
       "  '2018-04-21',\n",
       "  '2019-11-16',\n",
       "  '2020-03-05',\n",
       "  '2020-05-10'],\n",
       " ['2018-10-27',\n",
       "  '2018-11-22',\n",
       "  '2018-12-09',\n",
       "  '2019-03-03',\n",
       "  '2019-09-01',\n",
       "  '2019-10-26',\n",
       "  '2019-12-15',\n",
       "  '2020-02-09'],\n",
       " ['2021-01-17'],\n",
       " ['2020-08-15', '2020-07-11']]"
      ]
     },
     "execution_count": 12,
     "metadata": {},
     "output_type": "execute_result"
    }
   ],
   "source": [
    "list_of_races"
   ]
  },
  {
   "cell_type": "code",
   "execution_count": 31,
   "metadata": {},
   "outputs": [
    {
     "name": "stdout",
     "output_type": "stream",
     "text": [
      "Matched athlete 0 to filepath ./data/raw/Garmin/00_Activities_Anel_Akiyanova.csv\n",
      "Matched athlete 1 to filepath ./data/raw/Garmin/01_ActivitiesBKK2.csv\n",
      "Matched athlete 2 to filepath ./data/raw/Garmin/02_eric_bayless_updated.csv\n",
      "Matched athlete 3 to filepath ./data/raw/Garmin/03_Keith_Activities_2018-Present.csv\n",
      "Matched athlete 4 to filepath ./data/raw/Garmin/04_BrianGetz_Activities.csv\n",
      "Matched athlete 5 to filepath ./data/raw/Garmin/05_WMRunning.csv\n",
      "Matched athlete 6 to filepath ./data/raw/Garmin/06_jen-all-activities.csv\n",
      "Matched athlete 7 to filepath ./data/raw/Garmin/07_Lars - Garmin.csv\n",
      "Matched athlete 8 to filepath ./data/raw/Garmin/08_Nate_Churchwell.csv\n",
      "Matched athlete 9 to filepath ./data/raw/Garmin/09_Riggs Activities r4 w favorites.csv\n",
      "Matched athlete 10 to filepath ./data/raw/Garmin/10_Taryn-AllActivities.xlsx\n",
      "Matched athlete 11 to filepath ./data/raw/Garmin/11_v_brad_run_data.numbers\n",
      "Matched athlete 12 to filepath ./data/raw/Garmin/12_JRM races 8-15-20 and 7-11-20.csv\n"
     ]
    },
    {
     "data": {
      "text/plain": [
       "[('0', ('./data/raw/Garmin/00_Activities_Anel_Akiyanova.csv', ['2020-05-09'])),\n",
       " ('1',\n",
       "  ('./data/raw/Garmin/01_ActivitiesBKK2.csv',\n",
       "   ['2017-01-15', '2016-09-18', '2019-06-02'])),\n",
       " ('2',\n",
       "  ('./data/raw/Garmin/02_eric_bayless_updated.csv',\n",
       "   ['2020-02-22',\n",
       "    '2019-07-20',\n",
       "    '2019-04-13',\n",
       "    '2019-04-13',\n",
       "    '2019-04-13',\n",
       "    '2018-11-24',\n",
       "    '2018-10-07',\n",
       "    '2018-07-29'])),\n",
       " ('3',\n",
       "  ('./data/raw/Garmin/03_Keith_Activities_2018-Present.csv',\n",
       "   ['2018-05-05',\n",
       "    '2018-06-10',\n",
       "    '2018-09-02',\n",
       "    '2019-10-13',\n",
       "    '2019-07-27',\n",
       "    '2019-06-09'])),\n",
       " ('4',\n",
       "  ('./data/raw/Garmin/04_BrianGetz_Activities.csv',\n",
       "   ['2018-09-15', '2019-05-28', '2019-07-13', '2019-09-14', '2020-02-01'])),\n",
       " ('5',\n",
       "  ('./data/raw/Garmin/05_WMRunning.csv',\n",
       "   ['2018-10-27',\n",
       "    '2018-11-22',\n",
       "    '2018-12-09',\n",
       "    '2019-03-03',\n",
       "    '2019-09-01',\n",
       "    '2019-10-26',\n",
       "    '2019-12-15',\n",
       "    '2020-02-09'])),\n",
       " ('6', ('./data/raw/Garmin/06_jen-all-activities.csv', ['2020-10-05'])),\n",
       " ('7', ('./data/raw/Garmin/07_Lars - Garmin.csv', ['2020-10-17'])),\n",
       " ('8',\n",
       "  ('./data/raw/Garmin/08_Nate_Churchwell.csv',\n",
       "   ['2020-05-09', '2020-05-17', '2020-06-14'])),\n",
       " ('9',\n",
       "  ('./data/raw/Garmin/09_Riggs Activities r4 w favorites.csv',\n",
       "   ['2016-04-12',\n",
       "    '2016-07-17',\n",
       "    '2016-09-25',\n",
       "    '2016-09-25',\n",
       "    '2016-12-03',\n",
       "    '2016-12-17',\n",
       "    '2017-01-07',\n",
       "    '2017-01-28',\n",
       "    '2017-04-09',\n",
       "    '2017-04-09',\n",
       "    '2017-04-22',\n",
       "    '2017-04-22',\n",
       "    '2017-04-22',\n",
       "    '2017-11-11',\n",
       "    '2017-12-02',\n",
       "    '2017-12-16',\n",
       "    '2018-03-24',\n",
       "    '2018-04-21',\n",
       "    '2019-11-16',\n",
       "    '2020-03-05',\n",
       "    '2020-05-10'])),\n",
       " ('10',\n",
       "  ('./data/raw/Garmin/10_Taryn-AllActivities.xlsx',\n",
       "   ['2018-10-27',\n",
       "    '2018-11-22',\n",
       "    '2018-12-09',\n",
       "    '2019-03-03',\n",
       "    '2019-09-01',\n",
       "    '2019-10-26',\n",
       "    '2019-12-15',\n",
       "    '2020-02-09'])),\n",
       " ('11', ('./data/raw/Garmin/11_v_brad_run_data.numbers', ['2021-01-17'])),\n",
       " ('12',\n",
       "  ('./data/raw/Garmin/12_JRM races 8-15-20 and 7-11-20.csv',\n",
       "   ['2020-08-15', '2020-07-11']))]"
      ]
     },
     "execution_count": 31,
     "metadata": {},
     "output_type": "execute_result"
    }
   ],
   "source": [
    "output_list = []\n",
    "for i in range(len(list_of_races)):\n",
    "    races = list_of_races[i]\n",
    "    athlete = i\n",
    "    filepath = ''\n",
    "    for j in range(len(filepaths)):\n",
    "        if int(filepaths[j][18:][:2]) == i:\n",
    "            print(f\"Matched athlete {i} to filepath {filepaths[j]}\")\n",
    "            filepath = filepaths[j]\n",
    "    output_list.append((str(i), (filepath, races)))\n",
    "output_list"
   ]
  },
  {
   "cell_type": "code",
   "execution_count": 21,
   "metadata": {},
   "outputs": [],
   "source": [
    "athletes_races_zipped = list(zip(range(len(list_of_races)), list_of_races))"
   ]
  },
  {
   "cell_type": "code",
   "execution_count": 22,
   "metadata": {
    "collapsed": true,
    "jupyter": {
     "outputs_hidden": true
    }
   },
   "outputs": [
    {
     "data": {
      "text/plain": [
       "[(0, ['2020-05-09']),\n",
       " (1, ['2017-01-15', '2016-09-18', '2019-06-02']),\n",
       " (2,\n",
       "  ['2020-02-22',\n",
       "   '2019-07-20',\n",
       "   '2019-04-13',\n",
       "   '2019-04-13',\n",
       "   '2019-04-13',\n",
       "   '2018-11-24',\n",
       "   '2018-10-07',\n",
       "   '2018-07-29']),\n",
       " (3,\n",
       "  ['2018-05-05',\n",
       "   '2018-06-10',\n",
       "   '2018-09-02',\n",
       "   '2019-10-13',\n",
       "   '2019-07-27',\n",
       "   '2019-06-09']),\n",
       " (4, ['2018-09-15', '2019-05-28', '2019-07-13', '2019-09-14', '2020-02-01']),\n",
       " (5,\n",
       "  ['2018-10-27',\n",
       "   '2018-11-22',\n",
       "   '2018-12-09',\n",
       "   '2019-03-03',\n",
       "   '2019-09-01',\n",
       "   '2019-10-26',\n",
       "   '2019-12-15',\n",
       "   '2020-02-09']),\n",
       " (6, ['2020-10-05']),\n",
       " (7, ['2020-10-17']),\n",
       " (8, ['2020-05-09', '2020-05-17', '2020-06-14']),\n",
       " (9,\n",
       "  ['2016-04-12',\n",
       "   '2016-07-17',\n",
       "   '2016-09-25',\n",
       "   '2016-09-25',\n",
       "   '2016-12-03',\n",
       "   '2016-12-17',\n",
       "   '2017-01-07',\n",
       "   '2017-01-28',\n",
       "   '2017-04-09',\n",
       "   '2017-04-09',\n",
       "   '2017-04-22',\n",
       "   '2017-04-22',\n",
       "   '2017-04-22',\n",
       "   '2017-11-11',\n",
       "   '2017-12-02',\n",
       "   '2017-12-16',\n",
       "   '2018-03-24',\n",
       "   '2018-04-21',\n",
       "   '2019-11-16',\n",
       "   '2020-03-05',\n",
       "   '2020-05-10']),\n",
       " (10,\n",
       "  ['2018-10-27',\n",
       "   '2018-11-22',\n",
       "   '2018-12-09',\n",
       "   '2019-03-03',\n",
       "   '2019-09-01',\n",
       "   '2019-10-26',\n",
       "   '2019-12-15',\n",
       "   '2020-02-09']),\n",
       " (11, ['2021-01-17']),\n",
       " (12, ['2020-08-15', '2020-07-11'])]"
      ]
     },
     "execution_count": 22,
     "metadata": {},
     "output_type": "execute_result"
    }
   ],
   "source": [
    "athletes_races_zipped"
   ]
  },
  {
   "cell_type": "code",
   "execution_count": 24,
   "metadata": {},
   "outputs": [],
   "source": [
    "files_races_zipped = list(zip(filepaths, list_of_races))"
   ]
  },
  {
   "cell_type": "code",
   "execution_count": 25,
   "metadata": {},
   "outputs": [],
   "source": [
    "#Define my inputs:\n",
    "inputs = list(zip(athletes, files_races_zipped))"
   ]
  },
  {
   "cell_type": "code",
   "execution_count": 26,
   "metadata": {
    "collapsed": true,
    "jupyter": {
     "outputs_hidden": true
    }
   },
   "outputs": [
    {
     "data": {
      "text/plain": [
       "[('0', ('./data/raw/Garmin/02_eric_bayless_updated.csv', ['2020-05-09'])),\n",
       " ('1',\n",
       "  ('./data/raw/Garmin/09_Riggs Activities r4 w favorites.csv',\n",
       "   ['2017-01-15', '2016-09-18', '2019-06-02'])),\n",
       " ('2',\n",
       "  ('./data/raw/Garmin/04_BrianGetz_Activities.csv',\n",
       "   ['2020-02-22',\n",
       "    '2019-07-20',\n",
       "    '2019-04-13',\n",
       "    '2019-04-13',\n",
       "    '2019-04-13',\n",
       "    '2018-11-24',\n",
       "    '2018-10-07',\n",
       "    '2018-07-29'])),\n",
       " ('3',\n",
       "  ('./data/raw/Garmin/03_Keith_Activities_2018-Present.csv',\n",
       "   ['2018-05-05',\n",
       "    '2018-06-10',\n",
       "    '2018-09-02',\n",
       "    '2019-10-13',\n",
       "    '2019-07-27',\n",
       "    '2019-06-09'])),\n",
       " ('4',\n",
       "  ('./data/raw/Garmin/01_ActivitiesBKK2.csv',\n",
       "   ['2018-09-15', '2019-05-28', '2019-07-13', '2019-09-14', '2020-02-01'])),\n",
       " ('5',\n",
       "  ('./data/raw/Garmin/00_Activities_Anel_Akiyanova.csv',\n",
       "   ['2018-10-27',\n",
       "    '2018-11-22',\n",
       "    '2018-12-09',\n",
       "    '2019-03-03',\n",
       "    '2019-09-01',\n",
       "    '2019-10-26',\n",
       "    '2019-12-15',\n",
       "    '2020-02-09'])),\n",
       " ('6', ('./data/raw/Garmin/10_Taryn-AllActivities.xlsx', ['2020-10-05'])),\n",
       " ('7',\n",
       "  ('./data/raw/Garmin/12_JRM races 8-15-20 and 7-11-20.csv', ['2020-10-17'])),\n",
       " ('8',\n",
       "  ('./data/raw/Garmin/08_Nate_Churchwell.csv',\n",
       "   ['2020-05-09', '2020-05-17', '2020-06-14'])),\n",
       " ('9',\n",
       "  ('./data/raw/Garmin/11_v_brad_run_data.numbers',\n",
       "   ['2016-04-12',\n",
       "    '2016-07-17',\n",
       "    '2016-09-25',\n",
       "    '2016-09-25',\n",
       "    '2016-12-03',\n",
       "    '2016-12-17',\n",
       "    '2017-01-07',\n",
       "    '2017-01-28',\n",
       "    '2017-04-09',\n",
       "    '2017-04-09',\n",
       "    '2017-04-22',\n",
       "    '2017-04-22',\n",
       "    '2017-04-22',\n",
       "    '2017-11-11',\n",
       "    '2017-12-02',\n",
       "    '2017-12-16',\n",
       "    '2018-03-24',\n",
       "    '2018-04-21',\n",
       "    '2019-11-16',\n",
       "    '2020-03-05',\n",
       "    '2020-05-10'])),\n",
       " ('10',\n",
       "  ('./data/raw/Garmin/05_WMRunning.csv',\n",
       "   ['2018-10-27',\n",
       "    '2018-11-22',\n",
       "    '2018-12-09',\n",
       "    '2019-03-03',\n",
       "    '2019-09-01',\n",
       "    '2019-10-26',\n",
       "    '2019-12-15',\n",
       "    '2020-02-09'])),\n",
       " ('11', ('./data/raw/Garmin/07_Lars - Garmin.csv', ['2021-01-17'])),\n",
       " ('12',\n",
       "  ('./data/raw/Garmin/06_jen-all-activities.csv',\n",
       "   ['2020-08-15', '2020-07-11']))]"
      ]
     },
     "execution_count": 26,
     "metadata": {},
     "output_type": "execute_result"
    }
   ],
   "source": [
    "inputs"
   ]
  },
  {
   "cell_type": "code",
   "execution_count": 31,
   "metadata": {},
   "outputs": [],
   "source": [
    "#Testing so I can use this with my below function:\n",
    "# for athlete, (filepath, race_dates) in inputs:\n",
    "#     print(athlete)\n",
    "#     print(filepath)\n",
    "#     print(race_dates)"
   ]
  },
  {
   "cell_type": "code",
   "execution_count": 32,
   "metadata": {},
   "outputs": [],
   "source": [
    "def import_transf_garmin2(filepath, athlete_id, race_dates): #Filepath is the csv filepath, athlete_id is a counter variable, race_dates is the list of race dates\n",
    "    \n",
    "    #Read in the dataframe:\n",
    "    df = pd.read_csv(filepath, encoding='latin1')\n",
    "    #Found out this is very important in garmin files:\n",
    "    df.replace('--', 0, inplace = True)\n",
    "    \n",
    "    #Create athlete_id, file type and race category column:\n",
    "    df['athlete_id'] = athlete_id\n",
    "    df['filetype'] = 'garmin'\n",
    "    df['is_race'] = 0\n",
    "    \n",
    "    #Apparently some garmins save different columns:\n",
    "    if 'Avg Speed' in df.columns:\n",
    "        print(\"We have an Avg Speed Column!\")\n",
    "        df['Avg Pace'] = 0\n",
    "        \n",
    "        for i in range(len(df)):\n",
    "            #print(df['Avg Speed'][i])\n",
    "            try:\n",
    "                df['Avg Pace'][i] = re.findall(\"\\d?\\d:\\d\\d\", df['Avg Speed'][i])[0]\n",
    "                #print(df['Avg_Pace'][i])\n",
    "            except:\n",
    "                df['Avg Pace'][i] = '00:00:00'\n",
    "        #Best we can do for now is set the best pace to the average pace:\n",
    "        df['Best Pace'] = df['Avg Pace']\n",
    "    \n",
    "    \n",
    "    #Define the columns to have their data types transformed:\n",
    "    obj_to_num_cols = ['Calories', 'Avg HR', 'Max HR', 'Aerobic TE', 'Avg Run Cadence', 'Max Run Cadence', 'Elev Gain', 'Elev Loss', 'Avg Run Cadence.1', 'Avg Power', 'Max Power']\n",
    "    pace_cols = ['Avg Pace', 'Best Pace']\n",
    "    \n",
    "    #Convert the numeric columns:\n",
    "    for col in obj_to_num_cols:\n",
    "        try:\n",
    "            df[col] = pd.to_numeric(df[col])\n",
    "        except:\n",
    "            try:\n",
    "                df[col] = pd.to_numeric(df[col].str.extract(r'd+'))\n",
    "            except:\n",
    "                pass\n",
    "    \n",
    "    #Convert the pace columns:\n",
    "    for col in pace_cols:\n",
    "        for i in range(len(df[col])):\n",
    "            try:\n",
    "                df[col][i] = pd.to_timedelta('00:'+df[col][i])\n",
    "            except:\n",
    "                #print(f'col={col}')\n",
    "                #print(f'i= {i}')\n",
    "                #print(f'df[col][i] = {df[col][i]}')\n",
    "                if df[col][i]==0:\n",
    "                    df[col][i] = pd.to_timedelta('00:00:00')\n",
    "                else:\n",
    "                    pass\n",
    "                pass\n",
    "    \n",
    "    #Clean up the column names:\n",
    "    #This is to remove the (R) logo so it doesn't cause any issues later:\n",
    "    r_logo = df.columns[df.columns.str.contains('Training Stress')][0][-1]\n",
    "    #Clean up the column names:\n",
    "    df.columns = df.columns.str.replace('/', '').str.lower().str.replace('.', '_').str.replace(' ', '_').str.replace('(', '').str.replace(')', '').str.replace(r_logo, '')\n",
    "    df.set_index(df['date'], inplace = True)\n",
    "    df.index = pd.to_datetime(df.index)\n",
    "    ###Write a function to change the race dates in race_dates to a '1'\n",
    "    \n",
    "    #Write out the file to the data folder:\n",
    "    df.to_csv(f'./data/clean/garmin_clean/clean_{athlete_id}.csv')"
   ]
  },
  {
   "cell_type": "code",
   "execution_count": 33,
   "metadata": {},
   "outputs": [
    {
     "name": "stdout",
     "output_type": "stream",
     "text": [
      "0\n",
      "1\n",
      "2\n",
      "We have an Avg Speed Column!\n",
      "3\n",
      "4\n",
      "5\n",
      "6\n",
      "7\n",
      "8\n",
      "9\n",
      "We have an Avg Speed Column!\n",
      "10\n",
      "Athlete 10 was not able to be imported.\n",
      "11\n",
      "Athlete 11 was not able to be imported.\n",
      "12\n"
     ]
    }
   ],
   "source": [
    "for athlete, (filepath, race_dates) in output_list:\n",
    "    print(athlete)\n",
    "    try:\n",
    "        import_transf_garmin2(filepath, athlete, race_dates)\n",
    "    except:\n",
    "        print(f'Athlete {athlete} was not able to be imported.')"
   ]
  },
  {
   "cell_type": "code",
   "execution_count": 34,
   "metadata": {},
   "outputs": [],
   "source": [
    "#Didn't get 10 or 11. "
   ]
  },
  {
   "cell_type": "code",
   "execution_count": 36,
   "metadata": {},
   "outputs": [
    {
     "name": "stdout",
     "output_type": "stream",
     "text": [
      "We have an Avg Speed Column!\n"
     ]
    }
   ],
   "source": [
    "import_transf_garmin2('./data/raw/Garmin/10_Taryn-AllActivities.csv', 10, ['2018-10-27',\n",
    "    '2018-11-22',\n",
    "    '2018-12-09',\n",
    "    '2019-03-03',\n",
    "    '2019-09-01',\n",
    "    '2019-10-26',\n",
    "    '2019-12-15',\n",
    "    '2020-02-09'])"
   ]
  },
  {
   "cell_type": "code",
   "execution_count": 37,
   "metadata": {},
   "outputs": [],
   "source": [
    "import_transf_garmin2('./data/raw/Garmin/11_v_brad_run_data.csv', 11, ['2021-01-17'])"
   ]
  },
  {
   "cell_type": "code",
   "execution_count": 49,
   "metadata": {},
   "outputs": [],
   "source": [
    "#The  below function chops up the data and puts it into folders according to athlete #"
   ]
  },
  {
   "cell_type": "code",
   "execution_count": 38,
   "metadata": {},
   "outputs": [],
   "source": [
    "def set_up_for_prediction(df_filepath, athlete_dict):\n",
    "    \n",
    "    '''\n",
    "    Inputs: csv filepath, and athlete dictionary\n",
    "    -Dictionary contains an entry for race date, keyed to athlete id\n",
    "    Outputs: \n",
    "        1) a csv with races indicated, indexed by time series\n",
    "        2) a csv with summary values for 1 week, 2 weeks, 1 month, 2 months, 3 months\n",
    "            - If values are not available, they will be 0s\n",
    "    '''\n",
    "    #Read in the csv:\n",
    "    working = pd.read_csv(df_filepath, index_col='date').drop('date.1', axis =1)\n",
    "    \n",
    "    athlete_id = working['athlete_id'][0]\n",
    "    #print(athlete_id)\n",
    "    \n",
    "    #get the race dates for the selected athlete: (note that the json file means I need to reference a string for the id)\n",
    "    race_dates = ast.literal_eval(athlete_dict[f\"{athlete_id}\"]['race_date_list'])\n",
    "    #print(race_dates)\n",
    "    #print(type(race_dates))\n",
    "    \n",
    "    #Set the index as a datetime:\n",
    "    working.index = pd.to_datetime(working.index)\n",
    "    \n",
    "    #Create a month interval: (we can multiply by 3 to get the 3 month values)\n",
    "    month = timedelta(31)\n",
    "    day = timedelta(1)\n",
    "    \n",
    "    #Create a time of day column:\n",
    "    time_of_day = [re.findall(\"\\d\\d:\\d\\d:\\d\\d\", working.index.to_series().astype('str')[i])[0] for i in range(len(working))]\n",
    "    \n",
    "    #Drop the hours and minutes and seconds:\n",
    "    working.index = pd.DatetimeIndex(working.index).normalize()\n",
    "    \n",
    "    #Label all of the races:\n",
    "    working['is_race'] = np.where(working.index.isin(race_dates), 1, 0)\n",
    "    \n",
    "    #Create a folder for the athlete to keep things tidy:\n",
    "    parent_path = './data/races'\n",
    "    directory = f'athlete_{athlete_id}'\n",
    "    path = os.path.join(parent_path, directory)\n",
    "    os.mkdir(path)\n",
    "    \n",
    "    \n",
    "    #select the last month and last 3 months of data from the working file, and export them as separate csvs to the 'races' folder:\n",
    "    \n",
    "    for i in range(len(race_dates)):\n",
    "        #i is the counter, find the 1 month and 3 month data:\n",
    "        rd = pd.to_datetime(race_dates[i])\n",
    "        race_1_mo_back = working[rd+day:rd-month]\n",
    "        race_1_mo_back.sort_index(inplace=True)\n",
    "        race_1_mo_back.to_csv(f'{path}/athlete_{athlete_id}_race_{i}_1_mo.csv')\n",
    "        try:\n",
    "            #This way if there is not 3 months data, it just skips out.\n",
    "            race_3_mo_back = working[rd+day:(rd-month*3)]\n",
    "            race_3_mo_back.sort_index(inplace=True)\n",
    "            race_3_mo_back.to_csv(f'{path}/athlete_{athlete_id}_race_{i}_3_mo.csv')\n",
    "        except:\n",
    "            pass\n"
   ]
  },
  {
   "cell_type": "code",
   "execution_count": 39,
   "metadata": {},
   "outputs": [],
   "source": [
    "clean_filepaths = (glob.glob('./data/clean/garmin_clean/*'))"
   ]
  },
  {
   "cell_type": "code",
   "execution_count": 40,
   "metadata": {},
   "outputs": [
    {
     "data": {
      "text/plain": [
       "['./data/clean/garmin_clean/clean_6.csv',\n",
       " './data/clean/garmin_clean/clean_7.csv',\n",
       " './data/clean/garmin_clean/clean_5.csv',\n",
       " './data/clean/garmin_clean/clean_4.csv',\n",
       " './data/clean/garmin_clean/clean_0.csv',\n",
       " './data/clean/garmin_clean/clean_1.csv',\n",
       " './data/clean/garmin_clean/clean_3.csv',\n",
       " './data/clean/garmin_clean/clean_2.csv',\n",
       " './data/clean/garmin_clean/clean_12.csv',\n",
       " './data/clean/garmin_clean/clean_11.csv',\n",
       " './data/clean/garmin_clean/clean_10.csv',\n",
       " './data/clean/garmin_clean/clean_9.csv',\n",
       " './data/clean/garmin_clean/clean_8.csv']"
      ]
     },
     "execution_count": 40,
     "metadata": {},
     "output_type": "execute_result"
    }
   ],
   "source": [
    "clean_filepaths"
   ]
  },
  {
   "cell_type": "code",
   "execution_count": 41,
   "metadata": {},
   "outputs": [],
   "source": [
    "for filepath in clean_filepaths:\n",
    "    set_up_for_prediction(filepath, athletes)"
   ]
  },
  {
   "cell_type": "markdown",
   "metadata": {},
   "source": [
    "### Strava preprocessing:"
   ]
  },
  {
   "cell_type": "code",
   "execution_count": null,
   "metadata": {},
   "outputs": [],
   "source": []
  }
 ],
 "metadata": {
  "kernelspec": {
   "display_name": "Python 3",
   "language": "python",
   "name": "python3"
  },
  "language_info": {
   "codemirror_mode": {
    "name": "ipython",
    "version": 3
   },
   "file_extension": ".py",
   "mimetype": "text/x-python",
   "name": "python",
   "nbconvert_exporter": "python",
   "pygments_lexer": "ipython3",
   "version": "3.8.3"
  }
 },
 "nbformat": 4,
 "nbformat_minor": 4
}
